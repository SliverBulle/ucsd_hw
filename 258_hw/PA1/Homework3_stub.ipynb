{
 "cells": [
  {
   "cell_type": "code",
   "execution_count": 30,
   "id": "301bf995",
   "metadata": {},
   "outputs": [],
   "source": [
    "import gzip\n",
    "from collections import defaultdict\n",
    "import math\n",
    "import scipy.optimize\n",
    "from sklearn import svm\n",
    "import numpy\n",
    "import string\n",
    "import random\n",
    "import string\n",
    "from sklearn import linear_model\n",
    "import tqdm\n"
   ]
  },
  {
   "cell_type": "code",
   "execution_count": 2,
   "id": "31cab31f",
   "metadata": {},
   "outputs": [],
   "source": [
    "import warnings\n",
    "warnings.filterwarnings(\"ignore\")"
   ]
  },
  {
   "cell_type": "code",
   "execution_count": 3,
   "id": "33f967ad",
   "metadata": {},
   "outputs": [],
   "source": [
    "def assertFloat(x):\n",
    "    assert type(float(x)) == float\n",
    "\n",
    "def assertFloatList(items, N):\n",
    "    assert len(items) == N\n",
    "    assert [type(float(x)) for x in items] == [float]*N"
   ]
  },
  {
   "cell_type": "code",
   "execution_count": 4,
   "id": "3e25a33f",
   "metadata": {},
   "outputs": [],
   "source": [
    "def readGz(path):\n",
    "    for l in gzip.open(path, 'rt'):\n",
    "        yield eval(l)"
   ]
  },
  {
   "cell_type": "code",
   "execution_count": 5,
   "id": "f88efc3b",
   "metadata": {},
   "outputs": [],
   "source": [
    "def readCSV(path):\n",
    "    f = gzip.open(path, 'rt')\n",
    "    f.readline()\n",
    "    for l in f:\n",
    "        u,b,r = l.strip().split(',')\n",
    "        r = int(r)\n",
    "        yield u,b,r"
   ]
  },
  {
   "cell_type": "code",
   "execution_count": 6,
   "id": "3a5f39ec",
   "metadata": {},
   "outputs": [],
   "source": [
    "answers = {}"
   ]
  },
  {
   "cell_type": "code",
   "execution_count": 7,
   "id": "b3b16eab",
   "metadata": {},
   "outputs": [],
   "source": [
    "# Some data structures that will be useful"
   ]
  },
  {
   "cell_type": "code",
   "execution_count": 8,
   "id": "09ac1dc4",
   "metadata": {},
   "outputs": [],
   "source": [
    "allRatings = []\n",
    "for l in readCSV(\"train_Interactions.csv.gz\"):\n",
    "    allRatings.append(l)"
   ]
  },
  {
   "cell_type": "code",
   "execution_count": 9,
   "id": "e4717806",
   "metadata": {},
   "outputs": [
    {
     "data": {
      "text/plain": [
       "200000"
      ]
     },
     "execution_count": 9,
     "metadata": {},
     "output_type": "execute_result"
    }
   ],
   "source": [
    "len(allRatings)"
   ]
  },
  {
   "cell_type": "code",
   "execution_count": 107,
   "id": "ca3c2a44",
   "metadata": {},
   "outputs": [],
   "source": [
    "ratingsTrain = allRatings[:190000]\n",
    "ratingsValid = allRatings[190000:]\n",
    "ratingsPerUser = defaultdict(list)\n",
    "ratingsPerItem = defaultdict(list)\n",
    "for u,b,r in allRatings:\n",
    "    ratingsPerUser[u].append((b,r))\n",
    "    ratingsPerItem[b].append((u,r))"
   ]
  },
  {
   "cell_type": "code",
   "execution_count": 11,
   "id": "93959f65",
   "metadata": {},
   "outputs": [],
   "source": [
    "##################################################\n",
    "# Read prediction                                #\n",
    "##################################################"
   ]
  },
  {
   "cell_type": "code",
   "execution_count": 12,
   "id": "abb17ed7",
   "metadata": {},
   "outputs": [],
   "source": [
    "# Copied from baseline code\n",
    "bookCount = defaultdict(int)\n",
    "totalRead = 0\n",
    "\n",
    "for user,book,_ in readCSV(\"train_Interactions.csv.gz\"):\n",
    "    bookCount[book] += 1\n",
    "    totalRead += 1\n",
    "\n",
    "mostPopular = [(bookCount[x], x) for x in bookCount]\n",
    "mostPopular.sort()\n",
    "mostPopular.reverse()\n",
    "\n",
    "return1 = set()\n",
    "count = 0\n",
    "for ic, i in mostPopular:\n",
    "    count += ic\n",
    "    return1.add(i)\n",
    "    if count > totalRead/2: break"
   ]
  },
  {
   "cell_type": "code",
   "execution_count": 13,
   "id": "45dfa1a6",
   "metadata": {},
   "outputs": [],
   "source": [
    "# in[12] 定义负采样函数\n",
    "def sample_negative(user, positive_books, all_books, num_samples=1):\n",
    "    negative_samples = []\n",
    "    while len(negative_samples) < num_samples:\n",
    "        neg_book = random.choice(all_books)\n",
    "        if neg_book not in positive_books:\n",
    "            negative_samples.append(neg_book)\n",
    "    return negative_samples"
   ]
  },
  {
   "cell_type": "code",
   "execution_count": 131,
   "id": "f0711caa",
   "metadata": {},
   "outputs": [],
   "source": [
    "# in[13] 构建验证集\n",
    "validation_positive = ratingsValid\n",
    "validation_negative = []\n",
    "all_books = list(bookCount.keys())\n",
    "\n",
    "user_positive_books = defaultdict(set)\n",
    "for u, b, r in allRatings:\n",
    "    user_positive_books[u].add(b)\n",
    "\n",
    "for u, b, r in validation_positive:\n",
    "    negative_books = sample_negative(u, user_positive_books[u], all_books)\n",
    "    for neg_b in negative_books:\n",
    "        validation_negative.append((u, neg_b, 0))"
   ]
  },
  {
   "cell_type": "code",
   "execution_count": 132,
   "id": "672a9c34",
   "metadata": {},
   "outputs": [],
   "source": [
    "# 合并正负样本\n",
    "validation_set = [(u, b, 1) for u, b, r in validation_positive] + validation_negative\n",
    "\n",
    "# in[14] 评估基线模型的准确率\n",
    "def evaluate_baseline(validation_set, mostPopular_set):\n",
    "    correct = 0\n",
    "    for u, b, label in validation_set:\n",
    "        prediction = 1 if b in mostPopular_set else 0\n",
    "        if prediction == label:\n",
    "            correct += 1\n",
    "    accuracy = correct / len(validation_set)\n",
    "    return accuracy\n",
    "\n",
    "acc1 = evaluate_baseline(validation_set, return1)\n",
    "answers['Q1'] = acc1"
   ]
  },
  {
   "cell_type": "code",
   "execution_count": 125,
   "id": "80f40789",
   "metadata": {},
   "outputs": [],
   "source": [
    "### Question 1"
   ]
  },
  {
   "cell_type": "code",
   "execution_count": null,
   "id": "7c9eea8f",
   "metadata": {},
   "outputs": [],
   "source": []
  },
  {
   "cell_type": "code",
   "execution_count": 133,
   "id": "8af7b181",
   "metadata": {},
   "outputs": [],
   "source": [
    "answers['Q1'] = acc1"
   ]
  },
  {
   "cell_type": "code",
   "execution_count": 134,
   "id": "1ba5ecee",
   "metadata": {},
   "outputs": [
    {
     "name": "stdout",
     "output_type": "stream",
     "text": [
      "0.7547\n"
     ]
    }
   ],
   "source": [
    "print(answers['Q1'])"
   ]
  },
  {
   "cell_type": "code",
   "execution_count": 128,
   "id": "6839df36",
   "metadata": {},
   "outputs": [],
   "source": [
    "assertFloat(answers['Q1'])"
   ]
  },
  {
   "cell_type": "code",
   "execution_count": 19,
   "id": "50491907",
   "metadata": {},
   "outputs": [],
   "source": [
    "### Question 2"
   ]
  },
  {
   "cell_type": "code",
   "execution_count": 135,
   "id": "87e03b83",
   "metadata": {},
   "outputs": [
    {
     "name": "stderr",
     "output_type": "stream",
     "text": [
      " 12%|█▏        | 815/6688 [00:04<00:31, 187.09it/s]"
     ]
    },
    {
     "name": "stdout",
     "output_type": "stream",
     "text": [
      "Unexpected exception formatting exception. Falling back to standard exception\n"
     ]
    },
    {
     "name": "stderr",
     "output_type": "stream",
     "text": [
      "\n",
      "Traceback (most recent call last):\n",
      "  File \"/root/miniconda3/envs/torch/lib/python3.11/site-packages/IPython/core/interactiveshell.py\", line 3508, in run_code\n",
      "    exec(code_obj, self.user_global_ns, self.user_ns)\n",
      "  File \"/tmp/ipykernel_8444/2184903451.py\", line 14, in <module>\n",
      "    threshold, acc2 = find_best_threshold(bookCount, totalRead, validation_set)\n",
      "                      ^^^^^^^^^^^^^^^^^^^^^^^^^^^^^^^^^^^^^^^^^^^^^^^^^^^^^^^^^\n",
      "  File \"/tmp/ipykernel_8444/2184903451.py\", line 8, in find_best_threshold\n",
      "    acc = evaluate_baseline(validation_set, popular_set)\n",
      "          ^^^^^^^^^^^^^^^^^^^^^^^^^^^^^^^^^^^^^^^^^^^^^^\n",
      "  File \"/tmp/ipykernel_8444/4151642438.py\", line None, in evaluate_baseline\n",
      "KeyboardInterrupt\n",
      "\n",
      "During handling of the above exception, another exception occurred:\n",
      "\n",
      "Traceback (most recent call last):\n",
      "  File \"/root/miniconda3/envs/torch/lib/python3.11/site-packages/IPython/core/interactiveshell.py\", line 2105, in showtraceback\n",
      "    stb = self.InteractiveTB.structured_traceback(\n",
      "          ^^^^^^^^^^^^^^^^^^^^^^^^^^^^^^^^^^^^^^^^\n",
      "  File \"/root/miniconda3/envs/torch/lib/python3.11/site-packages/IPython/core/ultratb.py\", line 1396, in structured_traceback\n",
      "    return FormattedTB.structured_traceback(\n",
      "           ^^^^^^^^^^^^^^^^^^^^^^^^^^^^^^^^^\n",
      "  File \"/root/miniconda3/envs/torch/lib/python3.11/site-packages/IPython/core/ultratb.py\", line 1287, in structured_traceback\n",
      "    return VerboseTB.structured_traceback(\n",
      "           ^^^^^^^^^^^^^^^^^^^^^^^^^^^^^^^\n",
      "  File \"/root/miniconda3/envs/torch/lib/python3.11/site-packages/IPython/core/ultratb.py\", line 1140, in structured_traceback\n",
      "    formatted_exception = self.format_exception_as_a_whole(etype, evalue, etb, number_of_lines_of_context,\n",
      "                          ^^^^^^^^^^^^^^^^^^^^^^^^^^^^^^^^^^^^^^^^^^^^^^^^^^^^^^^^^^^^^^^^^^^^^^^^^^^^^^^^\n",
      "  File \"/root/miniconda3/envs/torch/lib/python3.11/site-packages/IPython/core/ultratb.py\", line 1055, in format_exception_as_a_whole\n",
      "    frames.append(self.format_record(record))\n",
      "                  ^^^^^^^^^^^^^^^^^^^^^^^^^^\n",
      "  File \"/root/miniconda3/envs/torch/lib/python3.11/site-packages/IPython/core/ultratb.py\", line 955, in format_record\n",
      "    frame_info.lines, Colors, self.has_colors, lvals\n",
      "    ^^^^^^^^^^^^^^^^\n",
      "  File \"/root/miniconda3/envs/torch/lib/python3.11/site-packages/IPython/core/ultratb.py\", line 778, in lines\n",
      "    return self._sd.lines\n",
      "           ^^^^^^^^^^^^^^\n",
      "  File \"/root/miniconda3/envs/torch/lib/python3.11/site-packages/stack_data/utils.py\", line 144, in cached_property_wrapper\n",
      "    value = obj.__dict__[self.func.__name__] = self.func(obj)\n",
      "                                               ^^^^^^^^^^^^^^\n",
      "  File \"/root/miniconda3/envs/torch/lib/python3.11/site-packages/stack_data/core.py\", line 734, in lines\n",
      "    pieces = self.included_pieces\n",
      "             ^^^^^^^^^^^^^^^^^^^^\n",
      "  File \"/root/miniconda3/envs/torch/lib/python3.11/site-packages/stack_data/utils.py\", line 144, in cached_property_wrapper\n",
      "    value = obj.__dict__[self.func.__name__] = self.func(obj)\n",
      "                                               ^^^^^^^^^^^^^^\n",
      "  File \"/root/miniconda3/envs/torch/lib/python3.11/site-packages/stack_data/core.py\", line 681, in included_pieces\n",
      "    pos = scope_pieces.index(self.executing_piece)\n",
      "                             ^^^^^^^^^^^^^^^^^^^^\n",
      "  File \"/root/miniconda3/envs/torch/lib/python3.11/site-packages/stack_data/utils.py\", line 144, in cached_property_wrapper\n",
      "    value = obj.__dict__[self.func.__name__] = self.func(obj)\n",
      "                                               ^^^^^^^^^^^^^^\n",
      "  File \"/root/miniconda3/envs/torch/lib/python3.11/site-packages/stack_data/core.py\", line 660, in executing_piece\n",
      "    return only(\n",
      "           ^^^^^\n",
      "  File \"/root/miniconda3/envs/torch/lib/python3.11/site-packages/executing/executing.py\", line 116, in only\n",
      "    raise NotOneValueFound('Expected one value, found 0')\n",
      "executing.executing.NotOneValueFound: Expected one value, found 0\n"
     ]
    }
   ],
   "source": [
    "# in[16] 寻找最佳阈值\n",
    "def find_best_threshold(book_counts, total_read, validation_set):\n",
    "    thresholds = [i*0.01 for i in range(1,100)]\n",
    "    best_acc = 0\n",
    "    best_threshold = 0\n",
    "    for threshold in tqdm.tqdm(thresholds):\n",
    "        return1 = set()\n",
    "        count = 0\n",
    "        for ic, i in mostPopular:\n",
    "            count += ic\n",
    "            return1.add(i)\n",
    "            if count > totalRead * threshold:\n",
    "                break\n",
    "        acc = evaluate_baseline(validation_set, return1)\n",
    "        if acc > best_acc:\n",
    "            best_acc = acc\n",
    "            best_threshold = threshold\n",
    "    return best_threshold, best_acc\n",
    "\n",
    "threshold, acc2 = find_best_threshold(bookCount, totalRead, validation_set)\n",
    "answers['Q2'] = [threshold, acc2]"
   ]
  },
  {
   "cell_type": "code",
   "execution_count": 21,
   "id": "55592cf2",
   "metadata": {},
   "outputs": [
    {
     "name": "stdout",
     "output_type": "stream",
     "text": [
      "[35, 0.75145]\n"
     ]
    }
   ],
   "source": [
    "print(answers['Q2'])"
   ]
  },
  {
   "cell_type": "code",
   "execution_count": 109,
   "id": "263c16a7",
   "metadata": {},
   "outputs": [],
   "source": [
    "return1 = set()\n",
    "count = 0\n",
    "for ic, i in mostPopular:\n",
    "    count += ic\n",
    "    return1.add(i)\n",
    "    if count > totalRead*threshold: break"
   ]
  },
  {
   "cell_type": "code",
   "execution_count": 23,
   "id": "fcb6b96c",
   "metadata": {},
   "outputs": [],
   "source": [
    "assertFloat(answers['Q2'][0])\n",
    "assertFloat(answers['Q2'][1])"
   ]
  },
  {
   "cell_type": "code",
   "execution_count": 24,
   "id": "b753559d",
   "metadata": {},
   "outputs": [],
   "source": [
    "### Question 3/4"
   ]
  },
  {
   "cell_type": "code",
   "execution_count": 25,
   "id": "04a6f2e1",
   "metadata": {},
   "outputs": [],
   "source": [
    "def jaccard_similarity(item1, item2, ratingsPerItem):\n",
    "    users1 = set([u for u, r in ratingsPerItem[item1]])\n",
    "    users2 = set([u for u, r in ratingsPerItem[item2]])\n",
    "    intersection = users1 & users2\n",
    "    union = users1 | users2\n",
    "    if not union:\n",
    "        return 0\n",
    "    return len(intersection) / len(union)"
   ]
  },
  {
   "cell_type": "code",
   "execution_count": 26,
   "id": "b4e24514",
   "metadata": {},
   "outputs": [],
   "source": [
    "def evaluate_jaccard(validation_set, ratingsPerUser, ratingsPerItem, threshold):\n",
    "    correct = 0\n",
    "    for u, b, label in validation_set:\n",
    "        read_items = [item for item, r in ratingsPerUser[u]]\n",
    "        similarities = [jaccard_similarity(b, b_prime, ratingsPerItem) for b_prime in read_items]\n",
    "        max_similarity = max(similarities) if similarities else 0\n",
    "        prediction = 1 if max_similarity > threshold else 0\n",
    "        if prediction == label:\n",
    "            correct += 1\n",
    "    accuracy = correct / len(validation_set)\n",
    "    return accuracy"
   ]
  },
  {
   "cell_type": "code",
   "execution_count": 35,
   "id": "178350dc",
   "metadata": {},
   "outputs": [
    {
     "name": "stderr",
     "output_type": "stream",
     "text": [
      "100%|██████████| 21/21 [01:52<00:00,  5.37s/it]\n"
     ]
    }
   ],
   "source": [
    "def find_best_jaccard_threshold(validation_set, ratingsPerUser, ratingsPerItem):\n",
    "    thresholds = [i * 0.0001 for i in range(0, 21)]\n",
    "    best_acc = 0\n",
    "    best_threshold = 0\n",
    "    for threshold in tqdm.tqdm(thresholds):\n",
    "        acc = evaluate_jaccard(validation_set, ratingsPerUser, ratingsPerItem, threshold)\n",
    "        if acc > best_acc:\n",
    "            best_acc = acc\n",
    "            best_threshold = threshold\n",
    "    return best_threshold, best_acc\n",
    "\n",
    "threshold_jaccard, acc3 = find_best_jaccard_threshold(validation_set, ratingsPerUser, ratingsPerItem)\n",
    "answers['Q3'] = acc3"
   ]
  },
  {
   "cell_type": "code",
   "execution_count": 36,
   "id": "2d10e01b",
   "metadata": {},
   "outputs": [
    {
     "name": "stdout",
     "output_type": "stream",
     "text": [
      "0.0019 0.69435\n"
     ]
    }
   ],
   "source": [
    "print(threshold_jaccard,acc3)"
   ]
  },
  {
   "cell_type": "code",
   "execution_count": 119,
   "id": "feeaa7c4",
   "metadata": {},
   "outputs": [
    {
     "name": "stderr",
     "output_type": "stream",
     "text": [
      "Optimizing threshold: 100%|██████████| 99/99 [13:22<00:00,  8.11s/it]\n"
     ]
    }
   ],
   "source": [
    "# in[24] 结合 Jaccard 和流行度阈值\n",
    "def evaluate_combined(validation_set, mostPopular_set, ratingsPerUser, ratingsPerItem, jaccard_threshold):\n",
    "    correct = 0\n",
    "    for u, b, label in validation_set:\n",
    "        popularity_pred = 1 if b in mostPopular_set else 0\n",
    "        read_items = [item for item, r in ratingsPerUser[u]]\n",
    "        similarities = [jaccard_similarity(b, b_prime, ratingsPerItem) for b_prime in read_items]\n",
    "        if similarities:\n",
    "            jaccard_pred = 1 if max(similarities) > jaccard_threshold else 0\n",
    "        else:\n",
    "            jaccard_pred = 0\n",
    "        prediction = popularity_pred | jaccard_pred\n",
    "        if prediction == label:\n",
    "            correct += 1\n",
    "    accuracy = correct / len(validation_set)\n",
    "    return accuracy\n",
    "\n",
    "# 找到最佳组合阈值\n",
    "def find_best_combined_thresholds(validation_set, mostPopular, ratingsPerUser, ratingsPerItem, totalRead):\n",
    "    thresholds = [i*0.01 for i in range(1,100)]  # 避免 threshold 为 0\n",
    "    best_acc = 0\n",
    "    best_threshold = 0\n",
    "    best_jaccard_threshold = 0\n",
    "    for threshold in tqdm.tqdm(thresholds, desc=\"Optimizing threshold\"):\n",
    "        # 根据当前 threshold 生成 return1\n",
    "        return1 = set()\n",
    "        count = 0\n",
    "        for ic, i in mostPopular:\n",
    "            count += ic\n",
    "            return1.add(i)\n",
    "            if count > totalRead * threshold:\n",
    "                break\n",
    "        j_threshold = 0.019\n",
    "        acc = evaluate_combined(validation_set, return1, ratingsPerUser, ratingsPerItem, j_threshold)\n",
    "        if acc > best_acc:\n",
    "            best_acc = acc\n",
    "            best_threshold = threshold\n",
    "            best_jaccard_threshold = j_threshold\n",
    "    return best_threshold, best_jaccard_threshold, best_acc\n",
    "\n",
    "best_threshold, best_jaccard_threshold, best_acc = find_best_combined_thresholds(validation_set, \n",
    "                                                         mostPopular, \n",
    "                                                         ratingsPerUser, \n",
    "                                                         ratingsPerItem, \n",
    "                                                         totalRead)\n"
   ]
  },
  {
   "cell_type": "code",
   "execution_count": 120,
   "id": "1c363230",
   "metadata": {},
   "outputs": [
    {
     "name": "stdout",
     "output_type": "stream",
     "text": [
      "0.01 0.019 0.9819\n"
     ]
    }
   ],
   "source": [
    "print(best_threshold,best_jaccard_threshold,best_acc)"
   ]
  },
  {
   "cell_type": "code",
   "execution_count": 44,
   "id": "83ab0986",
   "metadata": {},
   "outputs": [],
   "source": [
    "answers['Q3'] = acc3\n",
    "answers['Q4'] = acc4"
   ]
  },
  {
   "cell_type": "code",
   "execution_count": 45,
   "id": "fbdd0c83",
   "metadata": {},
   "outputs": [],
   "source": [
    "assertFloat(answers['Q3'])\n",
    "assertFloat(answers['Q4'])"
   ]
  },
  {
   "cell_type": "code",
   "execution_count": 122,
   "id": "3e68cbed",
   "metadata": {},
   "outputs": [],
   "source": [
    "# in[26] 生成 predictions_Read.csv\n",
    "return1 = set()\n",
    "count = 0\n",
    "for ic, i in mostPopular:\n",
    "    count += ic\n",
    "    return1.add(i)\n",
    "    if count > totalRead * 0.7:\n",
    "        break\n",
    "with open(\"predictions_Read.csv\", 'w') as predictions:\n",
    "    for l in open(\"pairs_Read.csv\"):\n",
    "        if l.startswith(\"userID\"):\n",
    "            predictions.write(l)\n",
    "            continue\n",
    "        u, b = l.strip().split(',')\n",
    "        # 使用结合后的模型进行预测\n",
    "        popularity_pred = 1 if b in return1 else 0\n",
    "        read_items = [item for item, r in ratingsPerUser[u]]\n",
    "        similarities = [jaccard_similarity(b, b_prime, ratingsPerItem) for b_prime in read_items]\n",
    "        if similarities:\n",
    "            jaccard_pred = 1 if max(similarities) > 0.09 else 0\n",
    "        else:\n",
    "            jaccard_pred = 0\n",
    "        prediction = 1 if max(popularity_pred, jaccard_pred) else 0\n",
    "        predictions.write(f\"{u},{b},{prediction}\\n\")\n",
    "\n",
    "# 将答案提交到 Gradescope\n",
    "answers['Q5'] = \"I confirm that I have uploaded an assignment submission to gradescope\""
   ]
  },
  {
   "cell_type": "code",
   "execution_count": 47,
   "id": "297b5c85",
   "metadata": {},
   "outputs": [],
   "source": [
    "answers['Q5'] = \"I confirm that I have uploaded an assignment submission to gradescope\""
   ]
  },
  {
   "cell_type": "code",
   "execution_count": 48,
   "id": "b3cb95e6",
   "metadata": {},
   "outputs": [],
   "source": [
    "assert type(answers['Q5']) == str"
   ]
  },
  {
   "cell_type": "code",
   "execution_count": 49,
   "id": "bcf70975",
   "metadata": {},
   "outputs": [],
   "source": [
    "##################################################\n",
    "# Rating prediction                              #\n",
    "##################################################"
   ]
  },
  {
   "cell_type": "code",
   "execution_count": null,
   "id": "af7f3f37",
   "metadata": {},
   "outputs": [],
   "source": []
  },
  {
   "cell_type": "code",
   "execution_count": 96,
   "id": "6257a51f",
   "metadata": {},
   "outputs": [
    {
     "name": "stdout",
     "output_type": "stream",
     "text": [
      "最佳参数组合:\n",
      "{'n_epochs': 20, 'lr_all': 0.008, 'reg_all': 0.1, 'n_factors': 50}\n",
      "最佳 RMSE: 1.2196\n"
     ]
    },
    {
     "ename": "KeyboardInterrupt",
     "evalue": "",
     "output_type": "error",
     "traceback": [
      "\u001b[0;31m---------------------------------------------------------------------------\u001b[0m",
      "\u001b[0;31mKeyboardInterrupt\u001b[0m                         Traceback (most recent call last)",
      "Cell \u001b[0;32mIn[96], line 45\u001b[0m\n\u001b[1;32m     43\u001b[0m full_trainset \u001b[38;5;241m=\u001b[39m data\u001b[38;5;241m.\u001b[39mbuild_full_trainset()\n\u001b[1;32m     44\u001b[0m \u001b[38;5;66;03m# 训练模型\u001b[39;00m\n\u001b[0;32m---> 45\u001b[0m \u001b[43mmodel\u001b[49m\u001b[38;5;241;43m.\u001b[39;49m\u001b[43mfit\u001b[49m\u001b[43m(\u001b[49m\u001b[43mfull_trainset\u001b[49m\u001b[43m)\u001b[49m\n\u001b[1;32m     47\u001b[0m \u001b[38;5;66;03m# 进行预测\u001b[39;00m\n\u001b[1;32m     48\u001b[0m predictions \u001b[38;5;241m=\u001b[39m model\u001b[38;5;241m.\u001b[39mtest(testset)\n",
      "File \u001b[0;32m~/miniconda3/envs/torch/lib/python3.11/site-packages/surprise/prediction_algorithms/matrix_factorization.pyx:400\u001b[0m, in \u001b[0;36msurprise.prediction_algorithms.matrix_factorization.SVDpp.fit\u001b[0;34m()\u001b[0m\n",
      "File \u001b[0;32m~/miniconda3/envs/torch/lib/python3.11/site-packages/surprise/prediction_algorithms/matrix_factorization.pyx:464\u001b[0m, in \u001b[0;36msurprise.prediction_algorithms.matrix_factorization.SVDpp.sgd\u001b[0;34m()\u001b[0m\n",
      "File \u001b[0;32m~/miniconda3/envs/torch/lib/python3.11/site-packages/surprise/trainset.py:194\u001b[0m, in \u001b[0;36mTrainset.all_ratings\u001b[0;34m(self)\u001b[0m\n\u001b[1;32m    192\u001b[0m \u001b[38;5;28;01mfor\u001b[39;00m u, u_ratings \u001b[38;5;129;01min\u001b[39;00m \u001b[38;5;28mself\u001b[39m\u001b[38;5;241m.\u001b[39mur\u001b[38;5;241m.\u001b[39mitems():\n\u001b[1;32m    193\u001b[0m     \u001b[38;5;28;01mfor\u001b[39;00m i, r \u001b[38;5;129;01min\u001b[39;00m u_ratings:\n\u001b[0;32m--> 194\u001b[0m         \u001b[38;5;28;01myield\u001b[39;00m u, i, r\n",
      "\u001b[0;31mKeyboardInterrupt\u001b[0m: "
     ]
    }
   ],
   "source": [
    "from surprise import SVDpp, Dataset, Reader, SVD\n",
    "from surprise.model_selection import train_test_split, GridSearchCV\n",
    "from surprise import accuracy\n",
    "import pandas as pd\n",
    "\n",
    "# 加载数据到 DataFrame\n",
    "df = pd.DataFrame(allRatings, columns=['userId', 'bookId', 'rating'])\n",
    "\n",
    "# 定义 Reader\n",
    "reader = Reader(rating_scale=(1, 5))\n",
    "\n",
    "# 加载数据到 Surprise 的 Dataset\n",
    "data = Dataset.load_from_df(df[['userId', 'bookId', 'rating']], reader)\n",
    "\n",
    "# 定义参数搜索空间\n",
    "param_grid = {\n",
    "    'n_epochs': [5,10,15,20],          # 训练轮数\n",
    "    'lr_all': [0.008],   # 学习率\n",
    "    'reg_all': [0.1],      # 正则化参数\n",
    "    'n_factors': [50]        # 潜在因子数量\n",
    "}\n",
    "\n",
    "# 使用 GridSearchCV 进行超参数调优\n",
    "gs = GridSearchCV(SVDpp, param_grid, measures=['rmse'], cv=3, joblib_verbose=1)\n",
    "gs.fit(data)\n",
    "\n",
    "# 输出最佳参数和对应的 RMSE\n",
    "print(\"最佳参数组合:\")\n",
    "print(gs.best_params['rmse'])\n",
    "print(f\"最佳 RMSE: {gs.best_score['rmse']:.4f}\")\n",
    "\n",
    "# 使用最佳参数训练模型\n",
    "best_params = gs.best_params['rmse']\n",
    "model = SVDpp(\n",
    "    n_epochs=20,\n",
    "    lr_all=0.011,\n",
    "    reg_all=0.1,\n",
    "    n_factors=50\n",
    ")\n",
    "\n",
    "# 划分训练集和测试集\n",
    "trainset, testset = train_test_split(data, test_size=0.2, random_state=42)\n",
    "full_trainset = data.build_full_trainset()\n",
    "# 训练模型\n",
    "model.fit(full_trainset)\n",
    "\n",
    "# 进行预测\n",
    "predictions = model.test(testset)\n",
    "\n",
    "# 计算并输出 RMSE\n",
    "rmse = accuracy.rmse(predictions)\n",
    "print(f\"验证集上的 RMSE: {rmse:.4f}\")\n",
    "\n",
    "# 将最佳参数和 RMSE 保存到答案字典\n",
    "answers['Q8_SVDpp'] = {\n",
    "    '最佳参数': best_params,\n",
    "    '最佳 RMSE': gs.best_score['rmse']\n",
    "}\n",
    "answers['Q9_SVDpp'] = \"I confirm that I have uploaded an assignment submission to gradescope\""
   ]
  },
  {
   "cell_type": "code",
   "execution_count": 99,
   "id": "c20da939",
   "metadata": {},
   "outputs": [],
   "source": [
    "\n",
    "model = SVDpp(\n",
    "    n_epochs=20,\n",
    "    lr_all=0.007,\n",
    "    reg_all=0.1,\n",
    "    n_factors=50\n",
    ")\n",
    "full_trainset = data.build_full_trainset()\n",
    "# 训练模型\n",
    "model.fit(full_trainset)\n",
    "# in[49] 生成 predictions_Rating_SVD.csv\n",
    "with open(\"predictions_Rating.csv\", 'w') as predictions:\n",
    "    for l in open(\"pairs_Rating.csv\"):\n",
    "        if l.startswith(\"userID\"):\n",
    "            predictions.write(l)\n",
    "            continue\n",
    "        u, b = l.strip().split(',')\n",
    "        pred = model.predict(u, b).est\n",
    "\n",
    "        predictions.write(f\"{u},{b},{pred}\\n\")\n",
    "\n",
    "#1.437 20 0.008 0.1 50\n",
    "#1.448 20 0.011 0.1 50\n",
    "#1.437 20 0.007 0.1 50"
   ]
  },
  {
   "cell_type": "code",
   "execution_count": null,
   "id": "52821ac1",
   "metadata": {},
   "outputs": [],
   "source": []
  },
  {
   "cell_type": "code",
   "execution_count": 105,
   "id": "0db48113",
   "metadata": {},
   "outputs": [],
   "source": [
    "from surprise import SVD\n",
    "model = SVD(\n",
    "    n_epochs=20,\n",
    "    lr_all=0.007,\n",
    "    reg_all=0.1,\n",
    "    n_factors=20\n",
    ")\n",
    "full_trainset = data.build_full_trainset()\n",
    "# 训练模型\n",
    "model.fit(full_trainset)\n",
    "# in[49] 生成 predictions_Rating_SVD.csv\n",
    "with open(\"predictions_Rating.csv\", 'w') as predictions:\n",
    "    for l in open(\"pairs_Rating.csv\"):\n",
    "        if l.startswith(\"userID\"):\n",
    "            predictions.write(l)\n",
    "            continue\n",
    "        u, b = l.strip().split(',')\n",
    "        pred = model.predict(u, b).est\n",
    "\n",
    "        predictions.write(f\"{u},{b},{pred}\\n\")\n",
    "\n",
    "#1.430 20 0.007 0.1 50\n",
    "#1.44 20 0.007 0.1 200\n",
    "#1.426 20 0.007 0.1 40\n",
    "#1.4249 20 0.007 0.1 20"
   ]
  },
  {
   "cell_type": "code",
   "execution_count": 104,
   "id": "b0159d34",
   "metadata": {},
   "outputs": [
    {
     "name": "stdout",
     "output_type": "stream",
     "text": [
      "最佳参数组合:\n",
      "{'n_epochs': 20, 'lr_all': 0.008, 'reg_all': 0.1, 'n_factors': 20}\n",
      "最佳 RMSE: 1.2148\n"
     ]
    }
   ],
   "source": [
    "param_grid = {\n",
    "    'n_epochs': [20],          # 训练轮数\n",
    "    'lr_all': [0.008],   # 学习率\n",
    "    'reg_all': [0.1],      # 正则化参数\n",
    "    'n_factors': [20, 30,35, 40,45]        # 潜在因子数量\n",
    "}\n",
    "\n",
    "# 使用 GridSearchCV 进行超参数调优\n",
    "gs = GridSearchCV(SVD, param_grid, measures=['rmse'], cv=3, joblib_verbose=1)\n",
    "gs.fit(data)\n",
    "\n",
    "# 输出最佳参数和对应的 RMSE\n",
    "print(\"最佳参数组合:\")\n",
    "print(gs.best_params['rmse'])\n",
    "print(f\"最佳 RMSE: {gs.best_score['rmse']:.4f}\")\n",
    "\n",
    "# 使用最佳参数训练模型\n",
    "best_params = gs.best_params['rmse']\n",
    "model = SVD(\n",
    "    n_epochs=best_params['n_epochs'],\n",
    "    lr_all=best_params['lr_all'],\n",
    "    reg_all=best_params['reg_all'],\n",
    "    n_factors=best_params['n_factors']\n",
    ")"
   ]
  },
  {
   "cell_type": "code",
   "execution_count": 141,
   "id": "20ac3f8d",
   "metadata": {},
   "outputs": [
    {
     "name": "stdout",
     "output_type": "stream",
     "text": [
      "{'n_epochs': 22, 'lr_all': 0.008, 'reg_all': 0.12, 'n_factors': 20}\n"
     ]
    }
   ],
   "source": [
    "# 第一轮：在20附近微调n_factors\n",
    "param_grid = {\n",
    "    'n_epochs': [15, 18, 20, 22, 25],          \n",
    "    'lr_all': [0.008],   # 在0.007附近搜索\n",
    "    'reg_all': [0.12],      \n",
    "    'n_factors': [20]  # 使用第一轮找到的最佳n_factors\n",
    "}\n",
    "\n",
    "gs = GridSearchCV(SVD, param_grid, measures=['rmse'], cv=3, joblib_verbose=1)\n",
    "gs.fit(data)\n",
    "best_params = gs.best_params['rmse']\n",
    "print(best_params)"
   ]
  },
  {
   "cell_type": "code",
   "execution_count": 143,
   "id": "6901876f",
   "metadata": {},
   "outputs": [
    {
     "name": "stdout",
     "output_type": "stream",
     "text": [
      "最佳 RMSE: 1.2145\n"
     ]
    }
   ],
   "source": [
    "print(f\"最佳 RMSE: {gs.best_score['rmse']:.4f}\")"
   ]
  },
  {
   "cell_type": "code",
   "execution_count": 150,
   "id": "8fbde331",
   "metadata": {},
   "outputs": [],
   "source": [
    "from surprise import SVD\n",
    "model = SVD(\n",
    "    n_epochs=22,\n",
    "    lr_all=0.008,\n",
    "    reg_all=0.11,\n",
    "    n_factors=23\n",
    ")\n",
    "full_trainset = data.build_full_trainset()\n",
    "# 训练模型\n",
    "model.fit(full_trainset)\n",
    "# in[49] 生成 predictions_Rating_SVD.csv\n",
    "with open(\"predictions_Rating.csv\", 'w') as predictions:\n",
    "    for l in open(\"pairs_Rating.csv\"):\n",
    "        if l.startswith(\"userID\"):\n",
    "            predictions.write(l)\n",
    "            continue\n",
    "        u, b = l.strip().split(',')\n",
    "        pred = model.predict(u, b).est\n",
    "\n",
    "        predictions.write(f\"{u},{b},{pred}\\n\")\n",
    "\n",
    "#1.430 20 0.007 0.1 50\n",
    "#1.44 20 0.007 0.1 200\n",
    "#1.426 20 0.007 0.1 40\n",
    "#1.4249 20 0.007 0.1 20\n",
    "#1.4264 20 0.008 0.12 22\n",
    "#1.42018 22 0.008 0.12 22\n",
    "#1.42196 22 0.008 0.13 22\n",
    "#1.4182 22 0.008 0.11 22\n",
    "#1.43"
   ]
  }
 ],
 "metadata": {
  "kernelspec": {
   "display_name": "Python 3 (ipykernel)",
   "language": "python",
   "name": "python3"
  },
  "language_info": {
   "codemirror_mode": {
    "name": "ipython",
    "version": 3
   },
   "file_extension": ".py",
   "mimetype": "text/x-python",
   "name": "python",
   "nbconvert_exporter": "python",
   "pygments_lexer": "ipython3",
   "version": "3.11.10"
  }
 },
 "nbformat": 4,
 "nbformat_minor": 5
}
