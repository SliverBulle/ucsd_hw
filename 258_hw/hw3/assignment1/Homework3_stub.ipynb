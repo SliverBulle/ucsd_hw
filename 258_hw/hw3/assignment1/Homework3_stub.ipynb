{
 "cells": [
  {
   "cell_type": "code",
   "execution_count": 56,
   "id": "301bf995",
   "metadata": {},
   "outputs": [],
   "source": [
    "import gzip\n",
    "from collections import defaultdict\n",
    "import math\n",
    "import scipy.optimize\n",
    "from sklearn import svm\n",
    "import numpy\n",
    "import string\n",
    "import random\n",
    "import string\n",
    "from sklearn import linear_model"
   ]
  },
  {
   "cell_type": "code",
   "execution_count": 57,
   "id": "31cab31f",
   "metadata": {},
   "outputs": [],
   "source": [
    "import warnings\n",
    "warnings.filterwarnings(\"ignore\")"
   ]
  },
  {
   "cell_type": "code",
   "execution_count": 58,
   "id": "33f967ad",
   "metadata": {},
   "outputs": [],
   "source": [
    "def assertFloat(x):\n",
    "    assert type(float(x)) == float\n",
    "\n",
    "def assertFloatList(items, N):\n",
    "    assert len(items) == N\n",
    "    assert [type(float(x)) for x in items] == [float]*N"
   ]
  },
  {
   "cell_type": "code",
   "execution_count": 59,
   "id": "3e25a33f",
   "metadata": {},
   "outputs": [],
   "source": [
    "def readGz(path):\n",
    "    for l in gzip.open(path, 'rt'):\n",
    "        yield eval(l)"
   ]
  },
  {
   "cell_type": "code",
   "execution_count": 60,
   "id": "f88efc3b",
   "metadata": {},
   "outputs": [],
   "source": [
    "def readCSV(path):\n",
    "    f = gzip.open(path, 'rt')\n",
    "    f.readline()\n",
    "    for l in f:\n",
    "        u,b,r = l.strip().split(',')\n",
    "        r = int(r)\n",
    "        yield u,b,r"
   ]
  },
  {
   "cell_type": "code",
   "execution_count": 61,
   "id": "3a5f39ec",
   "metadata": {},
   "outputs": [],
   "source": [
    "answers = {}"
   ]
  },
  {
   "cell_type": "code",
   "execution_count": 62,
   "id": "b3b16eab",
   "metadata": {},
   "outputs": [],
   "source": [
    "# Some data structures that will be useful"
   ]
  },
  {
   "cell_type": "code",
   "execution_count": 63,
   "id": "09ac1dc4",
   "metadata": {},
   "outputs": [],
   "source": [
    "allRatings = []\n",
    "for l in readCSV(\"train_Interactions.csv.gz\"):\n",
    "    allRatings.append(l)"
   ]
  },
  {
   "cell_type": "code",
   "execution_count": 64,
   "id": "e4717806",
   "metadata": {},
   "outputs": [
    {
     "data": {
      "text/plain": [
       "200000"
      ]
     },
     "execution_count": 64,
     "metadata": {},
     "output_type": "execute_result"
    }
   ],
   "source": [
    "len(allRatings)"
   ]
  },
  {
   "cell_type": "code",
   "execution_count": 65,
   "id": "ca3c2a44",
   "metadata": {},
   "outputs": [],
   "source": [
    "ratingsTrain = allRatings[:190000]\n",
    "ratingsValid = allRatings[190000:]\n",
    "ratingsPerUser = defaultdict(list)\n",
    "ratingsPerItem = defaultdict(list)\n",
    "usersPerItem = defaultdict(set)\n",
    "itemsPerUser = defaultdict(set)\n",
    "for u,b,r in ratingsTrain:\n",
    "    ratingsPerUser[u].append((b,r))\n",
    "    ratingsPerItem[b].append((u,r))\n",
    "    usersPerItem[b].add(u)\n",
    "    itemsPerUser[u].add(b)\n"
   ]
  },
  {
   "cell_type": "code",
   "execution_count": 116,
   "id": "31bc44c9",
   "metadata": {},
   "outputs": [
    {
     "data": {
      "text/plain": [
       "('u93397390', 'b52690052', 3)"
      ]
     },
     "execution_count": 116,
     "metadata": {},
     "output_type": "execute_result"
    }
   ],
   "source": [
    "ratingsTrain[0]"
   ]
  },
  {
   "cell_type": "code",
   "execution_count": 66,
   "id": "93959f65",
   "metadata": {},
   "outputs": [],
   "source": [
    "##################################################\n",
    "# Read prediction                                #\n",
    "##################################################"
   ]
  },
  {
   "cell_type": "code",
   "execution_count": 67,
   "id": "abb17ed7",
   "metadata": {},
   "outputs": [],
   "source": [
    "# Copied from baseline code\n",
    "bookCount = defaultdict(int)\n",
    "totalRead = 0\n",
    "\n",
    "for user,book,_ in readCSV(\"train_Interactions.csv.gz\"):\n",
    "    bookCount[book] += 1\n",
    "    totalRead += 1\n",
    "\n",
    "mostPopular = [(bookCount[x], x) for x in bookCount]\n",
    "mostPopular.sort()\n",
    "mostPopular.reverse()\n",
    "\n",
    "return1 = set()\n",
    "count = 0\n",
    "for ic, i in mostPopular:\n",
    "    count += ic\n",
    "    return1.add(i)\n",
    "    if count > totalRead/2: break"
   ]
  },
  {
   "cell_type": "code",
   "execution_count": 68,
   "id": "80f40789",
   "metadata": {},
   "outputs": [],
   "source": [
    "### Question 1"
   ]
  },
  {
   "cell_type": "code",
   "execution_count": 69,
   "id": "7c9eea8f",
   "metadata": {},
   "outputs": [],
   "source": [
    "# 构建验证集\n",
    "validPosData = ratingsValid # 正样本\n",
    "validNegData = [] # 负样本\n",
    "\n",
    "# 为每个正样本创建一个对应的负样本\n",
    "for u,b,r in validPosData:\n",
    "    # 获取该用户已读过的所有书\n",
    "    readBooks = set(b for b,r in ratingsPerUser[u])\n",
    "    \n",
    "    # 随机选择一本用户没读过的书\n",
    "    while True:\n",
    "        # 从所有书中随机选择一本\n",
    "        negBook = random.choice(list(bookCount.keys()))\n",
    "        # 确保这本书用户没读过\n",
    "        if negBook not in readBooks:\n",
    "            validNegData.append((u, negBook, 0))\n",
    "            break\n",
    "\n",
    "# 合并正负样本\n",
    "validWithNeg = validPosData + validNegData\n",
    "\n",
    "# 评估基线模型性能\n",
    "correct = 0\n",
    "total = len(validWithNeg)\n",
    "\n",
    "for u,b,r in validWithNeg:\n",
    "    # Make prediction using return1 baseline model\n",
    "    prediction = 1 if b in return1 else 0\n",
    "    # Check if prediction is correct\n",
    "    if prediction == (r > 0):\n",
    "        correct += 1\n",
    "\n",
    "acc1 = correct / total"
   ]
  },
  {
   "cell_type": "code",
   "execution_count": 112,
   "id": "b938b14b",
   "metadata": {},
   "outputs": [
    {
     "data": {
      "text/plain": [
       "0.7183"
      ]
     },
     "execution_count": 112,
     "metadata": {},
     "output_type": "execute_result"
    }
   ],
   "source": [
    "acc1"
   ]
  },
  {
   "cell_type": "code",
   "execution_count": 70,
   "id": "c1b44823",
   "metadata": {},
   "outputs": [
    {
     "data": {
      "text/plain": [
       "20000"
      ]
     },
     "execution_count": 70,
     "metadata": {},
     "output_type": "execute_result"
    }
   ],
   "source": [
    "len(validWithNeg)"
   ]
  },
  {
   "cell_type": "code",
   "execution_count": 71,
   "id": "8af7b181",
   "metadata": {},
   "outputs": [],
   "source": [
    "answers['Q1'] = acc1"
   ]
  },
  {
   "cell_type": "code",
   "execution_count": 72,
   "id": "6839df36",
   "metadata": {},
   "outputs": [],
   "source": [
    "assertFloat(answers['Q1'])"
   ]
  },
  {
   "cell_type": "code",
   "execution_count": 73,
   "id": "50491907",
   "metadata": {},
   "outputs": [],
   "source": [
    "### Question 2"
   ]
  },
  {
   "cell_type": "code",
   "execution_count": 74,
   "id": "87e03b83",
   "metadata": {},
   "outputs": [],
   "source": [
    "best_threshold = 0\n",
    "best_acc = 0\n",
    "best_popular_set = None\n",
    "# test 10% to 90%\n",
    "for threshold_ratio in numpy.arange(0.1, 0.91, 0.05):\n",
    "    popular_set = set()\n",
    "    count = 0\n",
    "    threshold = totalRead * threshold_ratio\n",
    "    \n",
    "    # 构建popular_set\n",
    "    for ic, i in mostPopular:\n",
    "        count += ic\n",
    "        popular_set.add(i)\n",
    "        if count > threshold:\n",
    "            break\n",
    "    \n",
    "    # 在验证集上评估\n",
    "    correct = 0\n",
    "    for u,b,r in validWithNeg:\n",
    "        prediction = 1 if b in popular_set else 0\n",
    "        if prediction == (r > 0):\n",
    "            correct += 1\n",
    "    \n",
    "    acc = correct / len(validWithNeg)\n",
    "    \n",
    "    # 更新最佳结果\n",
    "    if acc > best_acc:\n",
    "        best_acc = acc\n",
    "        best_threshold = threshold_ratio\n",
    "        best_popular_set = popular_set\n",
    "\n",
    "# 保存最佳阈值和准确率\n",
    "threshold = best_threshold\n",
    "acc2 = best_acc"
   ]
  },
  {
   "cell_type": "code",
   "execution_count": 114,
   "id": "e701958c",
   "metadata": {},
   "outputs": [
    {
     "name": "stdout",
     "output_type": "stream",
     "text": [
      "0.10010000000000001 0.7456\n"
     ]
    }
   ],
   "source": [
    "print(threshold, acc2)"
   ]
  },
  {
   "cell_type": "code",
   "execution_count": 75,
   "id": "cade9471",
   "metadata": {},
   "outputs": [],
   "source": [
    "prediction1 = []\n",
    "for u,b,r in validWithNeg:\n",
    "    prediction = 1 if b in best_popular_set else 0\n",
    "    prediction1.append(prediction)"
   ]
  },
  {
   "cell_type": "code",
   "execution_count": 76,
   "id": "263c16a7",
   "metadata": {},
   "outputs": [],
   "source": [
    "answers['Q2'] = [threshold, acc2]"
   ]
  },
  {
   "cell_type": "code",
   "execution_count": 77,
   "id": "fcb6b96c",
   "metadata": {},
   "outputs": [],
   "source": [
    "assertFloat(answers['Q2'][0])\n",
    "assertFloat(answers['Q2'][1])"
   ]
  },
  {
   "cell_type": "code",
   "execution_count": 78,
   "id": "b753559d",
   "metadata": {},
   "outputs": [],
   "source": [
    "### Question 3/4"
   ]
  },
  {
   "cell_type": "code",
   "execution_count": 107,
   "id": "9678d408",
   "metadata": {},
   "outputs": [],
   "source": [
    "def cosine_similarity(s1, s2):\n",
    "    intersection = s1.intersection(s2)\n",
    "    if not intersection:\n",
    "        return 0.0\n",
    "    return len(intersection) / (math.sqrt(len(s1)) * math.sqrt(len(s2)))\n",
    "\n",
    "def pearson_similarity(s1, s2):\n",
    "    intersection = s1.intersection(s2)\n",
    "    n = len(intersection)\n",
    "    if n == 0:\n",
    "        return 0\n",
    "    sum1 = sum(s1)\n",
    "    sum2 = sum(s2)\n",
    "    sum1_sq = sum([v**2 for v in s1])\n",
    "    sum2_sq = sum([v**2 for v in s2])\n",
    "    product_sum = sum([v1 * v2 for v1, v2 in zip(s1, s2)])\n",
    "    numerator = product_sum - (sum1 * sum2 / n)\n",
    "    denominator = math.sqrt((sum1_sq - sum1**2 / n) * (sum2_sq - sum2**2 / n))\n",
    "    if denominator == 0:\n",
    "        return 0\n",
    "    return numerator / denominator"
   ]
  },
  {
   "cell_type": "code",
   "execution_count": 79,
   "id": "04a6f2e1",
   "metadata": {},
   "outputs": [],
   "source": [
    "def Jaccard(s1, s2):\n",
    "    return len(s1.intersection(s2)) / len(s1.union(s2))\n"
   ]
  },
  {
   "cell_type": "code",
   "execution_count": 115,
   "id": "c0481879",
   "metadata": {},
   "outputs": [
    {
     "data": {
      "text/plain": [
       "0.0001"
      ]
     },
     "execution_count": 115,
     "metadata": {},
     "output_type": "execute_result"
    }
   ],
   "source": [
    "best_threshold"
   ]
  },
  {
   "cell_type": "code",
   "execution_count": 108,
   "id": "6a230219",
   "metadata": {},
   "outputs": [
    {
     "name": "stdout",
     "output_type": "stream",
     "text": [
      "梯度提升树的准确率: 0.948\n"
     ]
    }
   ],
   "source": [
    "from sklearn.ensemble import GradientBoostingClassifier\n",
    "\n",
    "# 构建特征矩阵 X 和标签 y\n",
    "X = []\n",
    "y = []\n",
    "for u, b, r in ratingsTrain:\n",
    "    # 构建特征向量\n",
    "    feature_vector = [1 if b in return1 else 0]\n",
    "    user_books = itemsPerUser[u]\n",
    "    max_sim = max([Jaccard(usersPerItem[b], usersPerItem[read_book]) for read_book in user_books], default=0)\n",
    "    feature_vector.append(1 if max_sim > best_threshold else 0)\n",
    "    X.append(feature_vector)\n",
    "    y.append(1 if r > 0 else 0)\n",
    "\n",
    "# 训练梯度提升模型\n",
    "gbm = GradientBoostingClassifier(n_estimators=100, learning_rate=0.1, max_depth=3)\n",
    "gbm.fit(X, y)\n",
    "\n",
    "# 在验证集上评估\n",
    "X_valid = []\n",
    "y_valid = []\n",
    "for u, b, r in ratingsValid:\n",
    "    feature_vector = [1 if b in return1 else 0]\n",
    "    user_books = itemsPerUser[u]\n",
    "    max_sim = max([Jaccard(usersPerItem[b], usersPerItem[read_book]) for read_book in user_books], default=0)\n",
    "    feature_vector.append(1 if max_sim > best_threshold else 0)\n",
    "    X_valid.append(feature_vector)\n",
    "    y_valid.append(1 if r > 0 else 0)\n",
    "\n",
    "acc = gbm.score(X_valid, y_valid)\n",
    "print(f\"梯度提升树的准确率: {acc}\")"
   ]
  },
  {
   "cell_type": "code",
   "execution_count": 80,
   "id": "7189f050",
   "metadata": {},
   "outputs": [
    {
     "name": "stderr",
     "output_type": "stream",
     "text": [
      "100%|██████████| 2/2 [00:03<00:00,  1.77s/it]"
     ]
    },
    {
     "name": "stdout",
     "output_type": "stream",
     "text": [
      "Best threshold: 0.0001\n",
      "Best accuracy: 0.67385\n",
      "Number of predictions: 20000\n"
     ]
    },
    {
     "name": "stderr",
     "output_type": "stream",
     "text": [
      "\n"
     ]
    }
   ],
   "source": [
    "\n",
    "# 测试不同的阈值\n",
    "thresholds = numpy.arange(0.0001, 0.2, 0.100)  # 更细致的阈值范围\n",
    "best_predictions = []\n",
    "best_acc = 0\n",
    "from tqdm import tqdm\n",
    "for threshold in tqdm(thresholds):\n",
    "    correct = 0\n",
    "    current_predictions = []  # 当前阈值下的预测结果\n",
    "    \n",
    "    for u, b, r in validWithNeg:\n",
    "        # 获取用户已读的所有书\n",
    "        user_books = itemsPerUser[u]\n",
    "        \n",
    "        # 计算最大 Jaccard 相似度\n",
    "        max_sim = 0\n",
    "        for read_book in user_books:\n",
    "            sim = Jaccard(usersPerItem[b], usersPerItem[read_book])\n",
    "            max_sim = max(max_sim, sim)\n",
    "        \n",
    "        # 基于阈值进行预测\n",
    "        prediction = 1 if max_sim > threshold else 0\n",
    "        current_predictions.append(prediction)\n",
    "        if prediction == (r > 0):\n",
    "            correct += 1\n",
    "\n",
    "    acc = correct / len(validWithNeg)\n",
    "    \n",
    "    # 更新最佳结果\n",
    "    if acc > best_acc:\n",
    "        best_acc = acc\n",
    "        best_threshold = threshold\n",
    "        best_predictions = current_predictions.copy()  # 保存最佳预测结果\n",
    "\n",
    "# 保存最佳准确率和预测结果\n",
    "acc3 = best_acc\n",
    "prediction3 = best_predictions  # 这个将用于Q4\n",
    "\n",
    "print(f\"Best threshold: {best_threshold}\")\n",
    "print(f\"Best accuracy: {acc3}\")\n",
    "print(f\"Number of predictions: {len(prediction3)}\")"
   ]
  },
  {
   "cell_type": "code",
   "execution_count": 81,
   "id": "6bbcdc0a",
   "metadata": {},
   "outputs": [],
   "source": [
    "#Q4\n",
    "X = numpy.array([(p1,p3) for p1,p3 in zip(prediction1, prediction3)])\n",
    "y = numpy.array([(r > 0) for _,_,r in validWithNeg])\n",
    "\n",
    "import sklearn\n",
    "model = sklearn.linear_model.LogisticRegression(class_weight='balanced')\n",
    "model.fit(X, y)\n",
    "\n",
    "y_pred = model.predict(X)\n",
    "acc4 = numpy.mean(y_pred == y)  \n"
   ]
  },
  {
   "cell_type": "code",
   "execution_count": null,
   "id": "62c86010",
   "metadata": {},
   "outputs": [],
   "source": []
  },
  {
   "cell_type": "code",
   "execution_count": 82,
   "id": "070b0c2a",
   "metadata": {},
   "outputs": [
    {
     "name": "stdout",
     "output_type": "stream",
     "text": [
      "0.67385 0.7456\n"
     ]
    }
   ],
   "source": [
    "print(acc3, acc4)"
   ]
  },
  {
   "cell_type": "code",
   "execution_count": 83,
   "id": "83ab0986",
   "metadata": {},
   "outputs": [],
   "source": [
    "answers['Q3'] = acc3\n",
    "answers['Q4'] = acc4"
   ]
  },
  {
   "cell_type": "code",
   "execution_count": 84,
   "id": "fbdd0c83",
   "metadata": {},
   "outputs": [],
   "source": [
    "assertFloat(answers['Q3'])\n",
    "assertFloat(answers['Q4'])"
   ]
  },
  {
   "cell_type": "code",
   "execution_count": 111,
   "id": "71696daf",
   "metadata": {},
   "outputs": [
    {
     "data": {
      "text/plain": [
       "0.0001"
      ]
     },
     "execution_count": 111,
     "metadata": {},
     "output_type": "execute_result"
    }
   ],
   "source": [
    "best_threshold\n"
   ]
  },
  {
   "cell_type": "code",
   "execution_count": 109,
   "id": "3e68cbed",
   "metadata": {},
   "outputs": [],
   "source": [
    "predictions = open(\"predictions_Read.csv\", 'w')\n",
    "\n",
    "for l in open(\"pairs_Read.csv\"):\n",
    "    if l.startswith(\"userID\"):\n",
    "        predictions.write(l)\n",
    "        continue\n",
    "    u,b = l.strip().split(',')\n",
    "    #gbt prediction\n",
    "    prediction = gbm.predict([[1 if b in return1 else 0, 1 if max_sim > best_threshold else 0]])\n",
    "    predictions.write(u + ',' + b + ',' + str(prediction) + '\\n')\n",
    "\n",
    "predictions.close()"
   ]
  },
  {
   "cell_type": "code",
   "execution_count": 110,
   "id": "297b5c85",
   "metadata": {},
   "outputs": [],
   "source": [
    "answers['Q5'] = \"I confirm that I have uploaded an assignment submission to gradescope\""
   ]
  },
  {
   "cell_type": "code",
   "execution_count": 87,
   "id": "b3cb95e6",
   "metadata": {},
   "outputs": [],
   "source": [
    "assert type(answers['Q5']) == str"
   ]
  },
  {
   "cell_type": "code",
   "execution_count": 88,
   "id": "bcf70975",
   "metadata": {},
   "outputs": [],
   "source": [
    "##################################################\n",
    "# Rating prediction                              #\n",
    "##################################################"
   ]
  },
  {
   "cell_type": "code",
   "execution_count": 89,
   "id": "2004e8d3",
   "metadata": {},
   "outputs": [
    {
     "data": {
      "text/plain": [
       "27914"
      ]
     },
     "execution_count": 89,
     "metadata": {},
     "output_type": "execute_result"
    }
   ],
   "source": [
    "users = list(set(u for u,_,_ in ratingsTrain))\n",
    "items = list(set(b for _,b,_ in ratingsTrain))\n",
    "len(users)\n"
   ]
  },
  {
   "cell_type": "code",
   "execution_count": 90,
   "id": "af7f3f37",
   "metadata": {},
   "outputs": [],
   "source": [
    "from scipy.sparse import lil_matrix\n",
    "from sklearn.linear_model import Ridge\n",
    "\n",
    "def fit_bias_model_sklearn_sparse(train_data, valid_data, lambda_reg=1.0):\n",
    "    # 构建用户和物品的索引映射\n",
    "    users = list(set(u for u,_,_ in train_data))\n",
    "    items = list(set(b for _,b,_ in train_data))\n",
    "    user_to_idx = {u:i for i,u in enumerate(users)}\n",
    "    item_to_idx = {b:i for i,b in enumerate(items)}\n",
    "    \n",
    "    n_users = len(users)\n",
    "    n_items = len(items)\n",
    "    \n",
    "    # 使用稀疏矩阵构建训练数据\n",
    "    X_train = lil_matrix((len(train_data), n_users + n_items))\n",
    "    y_train = numpy.zeros(len(train_data))\n",
    "    \n",
    "    for i, (u,b,r) in enumerate(train_data):\n",
    "        X_train[i, user_to_idx[u]] = 1  # 用户one-hot编码\n",
    "        X_train[i, n_users + item_to_idx[b]] = 1  # 物品one-hot编码\n",
    "        y_train[i] = r\n",
    "    \n",
    "    # 训练模型\n",
    "    model = Ridge(alpha=lambda_reg, fit_intercept=True, solver='sag')\n",
    "    model.fit(X_train, y_train)\n",
    "    \n",
    "    # 使用稀疏矩阵构建验证数据\n",
    "    X_valid = lil_matrix((len(valid_data), n_users + n_items))\n",
    "    y_valid = numpy.zeros(len(valid_data))\n",
    "    \n",
    "    for i, (u,b,r) in enumerate(valid_data):\n",
    "        if u in user_to_idx and b in item_to_idx:\n",
    "            X_valid[i, user_to_idx[u]] = 1\n",
    "            X_valid[i, n_users + item_to_idx[b]] = 1\n",
    "        y_valid[i] = r\n",
    "    \n",
    "    y_pred = model.predict(X_valid)\n",
    "    valid_mse = numpy.mean((y_valid - y_pred) ** 2)\n",
    "    \n",
    "    return valid_mse, model.intercept_, model.coef_[:n_users], model.coef_[n_users:], model\n",
    "\n",
    "# 运行模型\n",
    "validMSE, alpha, beta_user, beta_item, model = fit_bias_model_sklearn_sparse(ratingsTrain, ratingsValid)"
   ]
  },
  {
   "cell_type": "code",
   "execution_count": 91,
   "id": "95b960a7",
   "metadata": {},
   "outputs": [],
   "source": [
    "### Question 6"
   ]
  },
  {
   "cell_type": "code",
   "execution_count": 106,
   "id": "6d69e40f",
   "metadata": {},
   "outputs": [
    {
     "name": "stdout",
     "output_type": "stream",
     "text": [
      "1.4105993861905997\n"
     ]
    }
   ],
   "source": [
    "print(validMSE)"
   ]
  },
  {
   "cell_type": "code",
   "execution_count": 92,
   "id": "422ab930",
   "metadata": {},
   "outputs": [],
   "source": [
    "answers['Q6'] = validMSE"
   ]
  },
  {
   "cell_type": "code",
   "execution_count": 93,
   "id": "5509bf2a",
   "metadata": {},
   "outputs": [],
   "source": [
    "assertFloat(answers['Q6'])"
   ]
  },
  {
   "cell_type": "code",
   "execution_count": 94,
   "id": "9826cdc9",
   "metadata": {},
   "outputs": [],
   "source": [
    "### Question 7"
   ]
  },
  {
   "cell_type": "code",
   "execution_count": 95,
   "id": "8248fda0",
   "metadata": {},
   "outputs": [],
   "source": [
    "max_beta_user_idx = numpy.argmax(beta_user)\n",
    "min_beta_user_idx = numpy.argmin(beta_user)\n",
    "\n",
    "maxUser = users[max_beta_user_idx]\n",
    "minUser = users[min_beta_user_idx]\n",
    "\n",
    "maxBeta = float(beta_user[max_beta_user_idx])\n",
    "minBeta = float(beta_user[min_beta_user_idx])"
   ]
  },
  {
   "cell_type": "code",
   "execution_count": 96,
   "id": "028089b6",
   "metadata": {},
   "outputs": [
    {
     "name": "stdout",
     "output_type": "stream",
     "text": [
      "u18223169 u88024921 1.8198605120695182 -3.562425412210544\n",
      "<class 'str'> <class 'str'> <class 'float'> <class 'float'>\n"
     ]
    }
   ],
   "source": [
    "print(maxUser, minUser, maxBeta, minBeta)\n",
    "print(type(maxUser), type(minUser), type(maxBeta), type(minBeta))"
   ]
  },
  {
   "cell_type": "code",
   "execution_count": 97,
   "id": "c61b675c",
   "metadata": {},
   "outputs": [],
   "source": [
    "answers['Q7'] = [maxUser, minUser, maxBeta, minBeta]"
   ]
  },
  {
   "cell_type": "code",
   "execution_count": 98,
   "id": "7aca2bc7",
   "metadata": {},
   "outputs": [],
   "source": [
    "assert [type(x) for x in answers['Q7']] == [str, str, float, float]"
   ]
  },
  {
   "cell_type": "code",
   "execution_count": 99,
   "id": "0a416949",
   "metadata": {},
   "outputs": [],
   "source": [
    "### Question 8"
   ]
  },
  {
   "cell_type": "code",
   "execution_count": 100,
   "id": "ae54cf47",
   "metadata": {},
   "outputs": [
    {
     "name": "stderr",
     "output_type": "stream",
     "text": [
      "100%|██████████| 20/20 [00:25<00:00,  1.29s/it]\n"
     ]
    }
   ],
   "source": [
    "est_lambda = None\n",
    "best_mse = float('inf')\n",
    "\n",
    "# 测试不同的λ值\n",
    "lambda_values = numpy.arange(0.1, 10.1, 0.5)\n",
    "lambda_reg = 4.6\n",
    "validMSE, _, _, _, model = fit_bias_model_sklearn_sparse(ratingsTrain, ratingsValid, lambda_reg)\n",
    "\n",
    "for lambda_reg in tqdm(lambda_values):\n",
    "    validMSE, _, _, _, model = fit_bias_model_sklearn_sparse(ratingsTrain, ratingsValid, lambda_reg)\n",
    "    if validMSE < best_mse:\n",
    "        best_mse = validMSE\n",
    "        best_lambda = lambda_reg\n",
    "        best_model = model\n",
    "lamb = best_lambda\n",
    "validMSE = best_mse"
   ]
  },
  {
   "cell_type": "code",
   "execution_count": 101,
   "id": "a2488bdc",
   "metadata": {},
   "outputs": [
    {
     "name": "stdout",
     "output_type": "stream",
     "text": [
      "4.6 1.4105993861905997\n"
     ]
    }
   ],
   "source": [
    "print(lamb, validMSE)"
   ]
  },
  {
   "cell_type": "code",
   "execution_count": 102,
   "id": "f1880fc9",
   "metadata": {},
   "outputs": [],
   "source": [
    "answers['Q8'] = (lamb, validMSE)"
   ]
  },
  {
   "cell_type": "code",
   "execution_count": 103,
   "id": "56b09160",
   "metadata": {},
   "outputs": [],
   "source": [
    "assertFloat(answers['Q8'][0])\n",
    "assertFloat(answers['Q8'][1])"
   ]
  },
  {
   "cell_type": "code",
   "execution_count": 104,
   "id": "b9bd53b3",
   "metadata": {},
   "outputs": [],
   "source": [
    "user_to_idx = {u:i for i,u in enumerate(users)}\n",
    "item_to_idx = {b:i for i,b in enumerate(items)}\n",
    "predictions = open(\"predictions_Rating.csv\", 'w')\n",
    "for l in open(\"pairs_Rating.csv\"):\n",
    "    if l.startswith(\"userID\"): # header\n",
    "        predictions.write(l)\n",
    "        continue\n",
    "    u,b = l.strip().split(',') # Read the user and item from the \"pairs\" file and write out your prediction\n",
    "    \n",
    "    # 构建特征向量\n",
    "    user_idx = user_to_idx.get(u, -1)\n",
    "    item_idx = item_to_idx.get(b, -1)\n",
    "    \n",
    "    if user_idx == -1 or item_idx == -1:\n",
    "        # 如果用户或物品不在训练集中，使用默认预测值\n",
    "        prediction = model.intercept_\n",
    "    else:\n",
    "        # 创建一个稀疏特征向量\n",
    "        feature_vector = numpy.zeros((1, len(users) + len(items)))\n",
    "        feature_vector[0, user_idx] = 1\n",
    "        feature_vector[0, len(users) + item_idx] = 1\n",
    "        \n",
    "        # 使用模型进行预测\n",
    "        prediction = best_model.predict(feature_vector)[0]\n",
    "\n",
    "    predictions.write(u + ',' + b + ',' + str(int(prediction)) + '\\n')\n",
    "\n",
    "predictions.close()"
   ]
  },
  {
   "cell_type": "code",
   "execution_count": 105,
   "id": "839261ed",
   "metadata": {},
   "outputs": [],
   "source": [
    "f = open(\"answers_hw3.txt\", 'w')\n",
    "f.write(str(answers) + '\\n')\n",
    "f.close()"
   ]
  },
  {
   "cell_type": "code",
   "execution_count": null,
   "id": "3000bdde",
   "metadata": {},
   "outputs": [],
   "source": []
  }
 ],
 "metadata": {
  "kernelspec": {
   "display_name": "Python 3 (ipykernel)",
   "language": "python",
   "name": "python3"
  },
  "language_info": {
   "codemirror_mode": {
    "name": "ipython",
    "version": 3
   },
   "file_extension": ".py",
   "mimetype": "text/x-python",
   "name": "python",
   "nbconvert_exporter": "python",
   "pygments_lexer": "ipython3",
   "version": "3.11.10"
  }
 },
 "nbformat": 4,
 "nbformat_minor": 5
}
