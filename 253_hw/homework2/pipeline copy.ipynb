{
 "cells": [
  {
   "cell_type": "markdown",
   "metadata": {},
   "source": [
    "# Homework 2: training pipeline\n",
    "\n",
    "This code will test your homework 2 solutions by using them in a complete ML pipeline. You should run this code in order to tune your model and save your model weights (which will also be uploaded as part of your solution)"
   ]
  },
  {
   "cell_type": "code",
   "execution_count": 1,
   "metadata": {},
   "outputs": [],
   "source": [
    "# Download the training data from the homework2 folder:\n",
    "# unzip using tar xzvvf nsynth_subset.tar.gz\n",
    "# (this is a small subset of the \"nsynth\" dataset: https://magenta.tensorflow.org/datasets/nsynth)"
   ]
  },
  {
   "cell_type": "code",
   "execution_count": 2,
   "metadata": {},
   "outputs": [
    {
     "name": "stdout",
     "output_type": "stream",
     "text": [
      "['./nsynth_subset/guitar_acoustic_021-101-050.wav', './nsynth_subset/guitar_acoustic_015-077-050.wav', './nsynth_subset/guitar_acoustic_014-054-075.wav', './nsynth_subset/vocal_synthetic_003-024-100.wav', './nsynth_subset/guitar_acoustic_021-085-100.wav', './nsynth_subset/vocal_synthetic_003-046-075.wav', './nsynth_subset/guitar_acoustic_010-066-127.wav', './nsynth_subset/guitar_electronic_022-083-100.wav', './nsynth_subset/guitar_acoustic_010-073-127.wav', './nsynth_subset/guitar_electronic_022-077-075.wav', './nsynth_subset/guitar_acoustic_010-083-127.wav', './nsynth_subset/vocal_acoustic_000-053-075.wav', './nsynth_subset/vocal_synthetic_003-053-100.wav', './nsynth_subset/guitar_acoustic_015-085-100.wav', './nsynth_subset/guitar_electronic_028-054-127.wav', './nsynth_subset/vocal_synthetic_003-068-075.wav', './nsynth_subset/guitar_acoustic_014-106-075.wav', './nsynth_subset/vocal_synthetic_003-049-025.wav', './nsynth_subset/vocal_synthetic_003-061-100.wav', './nsynth_subset/vocal_acoustic_000-050-127.wav', './nsynth_subset/vocal_synthetic_003-048-100.wav', './nsynth_subset/vocal_synthetic_003-099-050.wav', './nsynth_subset/guitar_acoustic_015-076-100.wav', './nsynth_subset/vocal_synthetic_003-043-075.wav', './nsynth_subset/guitar_electronic_028-108-075.wav', './nsynth_subset/vocal_acoustic_000-063-025.wav', './nsynth_subset/guitar_acoustic_030-091-100.wav', './nsynth_subset/guitar_acoustic_010-034-075.wav', './nsynth_subset/guitar_acoustic_014-042-075.wav', './nsynth_subset/vocal_synthetic_003-076-025.wav', './nsynth_subset/guitar_acoustic_021-037-127.wav', './nsynth_subset/guitar_electronic_028-028-025.wav', './nsynth_subset/vocal_synthetic_003-101-100.wav', './nsynth_subset/guitar_electronic_028-093-025.wav', './nsynth_subset/guitar_electronic_028-104-025.wav', './nsynth_subset/vocal_synthetic_003-102-100.wav', './nsynth_subset/guitar_acoustic_015-057-075.wav', './nsynth_subset/guitar_acoustic_014-080-025.wav', './nsynth_subset/vocal_synthetic_003-087-025.wav', './nsynth_subset/vocal_acoustic_000-062-100.wav', './nsynth_subset/guitar_acoustic_014-079-050.wav', './nsynth_subset/vocal_synthetic_003-077-127.wav', './nsynth_subset/guitar_electronic_022-088-127.wav', './nsynth_subset/vocal_acoustic_000-070-025.wav', './nsynth_subset/guitar_acoustic_021-037-050.wav', './nsynth_subset/vocal_synthetic_003-037-075.wav', './nsynth_subset/guitar_acoustic_021-095-025.wav', './nsynth_subset/vocal_acoustic_000-059-075.wav', './nsynth_subset/vocal_synthetic_003-070-050.wav', './nsynth_subset/vocal_synthetic_003-084-100.wav', './nsynth_subset/vocal_acoustic_000-053-100.wav', './nsynth_subset/guitar_acoustic_010-074-127.wav', './nsynth_subset/vocal_synthetic_003-035-100.wav', './nsynth_subset/guitar_acoustic_021-047-075.wav', './nsynth_subset/vocal_synthetic_003-044-025.wav', './nsynth_subset/guitar_acoustic_015-030-025.wav', './nsynth_subset/guitar_acoustic_014-097-025.wav', './nsynth_subset/vocal_synthetic_003-059-050.wav', './nsynth_subset/vocal_synthetic_003-088-075.wav', './nsynth_subset/guitar_acoustic_010-092-100.wav', './nsynth_subset/guitar_electronic_028-094-025.wav', './nsynth_subset/vocal_synthetic_003-043-050.wav', './nsynth_subset/guitar_electronic_022-067-075.wav', './nsynth_subset/guitar_acoustic_030-072-075.wav', './nsynth_subset/guitar_acoustic_010-081-127.wav', './nsynth_subset/guitar_acoustic_015-107-025.wav', './nsynth_subset/vocal_synthetic_003-076-100.wav', './nsynth_subset/guitar_acoustic_015-058-100.wav', './nsynth_subset/guitar_electronic_028-089-075.wav', './nsynth_subset/vocal_synthetic_003-107-025.wav', './nsynth_subset/vocal_acoustic_000-070-100.wav', './nsynth_subset/vocal_synthetic_003-086-025.wav', './nsynth_subset/guitar_acoustic_030-085-025.wav', './nsynth_subset/vocal_synthetic_003-060-050.wav', './nsynth_subset/guitar_acoustic_021-029-050.wav', './nsynth_subset/vocal_acoustic_000-063-075.wav', './nsynth_subset/vocal_synthetic_003-023-025.wav', './nsynth_subset/vocal_synthetic_003-102-050.wav', './nsynth_subset/guitar_acoustic_014-072-127.wav', './nsynth_subset/guitar_acoustic_014-068-025.wav', './nsynth_subset/guitar_acoustic_021-097-127.wav', './nsynth_subset/guitar_electronic_022-073-050.wav', './nsynth_subset/vocal_synthetic_003-044-075.wav', './nsynth_subset/guitar_electronic_028-045-100.wav', './nsynth_subset/vocal_acoustic_000-050-100.wav', './nsynth_subset/vocal_synthetic_003-075-075.wav', './nsynth_subset/guitar_electronic_028-026-075.wav', './nsynth_subset/vocal_acoustic_000-056-100.wav', './nsynth_subset/vocal_synthetic_003-028-127.wav', './nsynth_subset/vocal_synthetic_003-030-025.wav', './nsynth_subset/vocal_synthetic_003-047-075.wav', './nsynth_subset/vocal_synthetic_003-107-075.wav', './nsynth_subset/vocal_acoustic_000-066-075.wav', './nsynth_subset/vocal_synthetic_003-061-050.wav', './nsynth_subset/guitar_acoustic_010-035-050.wav', './nsynth_subset/guitar_electronic_028-070-075.wav', './nsynth_subset/guitar_electronic_028-104-050.wav', './nsynth_subset/vocal_acoustic_000-070-050.wav', './nsynth_subset/vocal_synthetic_003-051-050.wav', './nsynth_subset/guitar_acoustic_015-106-050.wav', './nsynth_subset/guitar_acoustic_010-025-050.wav', './nsynth_subset/guitar_acoustic_014-047-025.wav', './nsynth_subset/guitar_acoustic_010-106-127.wav', './nsynth_subset/guitar_electronic_022-039-100.wav', './nsynth_subset/guitar_electronic_022-084-100.wav', './nsynth_subset/vocal_synthetic_003-083-100.wav', './nsynth_subset/guitar_acoustic_014-084-075.wav', './nsynth_subset/vocal_synthetic_003-075-100.wav', './nsynth_subset/guitar_acoustic_030-050-025.wav', './nsynth_subset/guitar_acoustic_021-072-025.wav', './nsynth_subset/guitar_electronic_028-035-127.wav', './nsynth_subset/vocal_acoustic_000-052-025.wav', './nsynth_subset/vocal_synthetic_003-024-075.wav', './nsynth_subset/vocal_synthetic_003-106-050.wav', './nsynth_subset/guitar_electronic_028-077-025.wav', './nsynth_subset/guitar_electronic_022-040-075.wav', './nsynth_subset/guitar_acoustic_010-061-050.wav', './nsynth_subset/guitar_acoustic_010-068-025.wav', './nsynth_subset/vocal_synthetic_003-104-100.wav', './nsynth_subset/vocal_synthetic_003-081-100.wav', './nsynth_subset/guitar_acoustic_015-042-100.wav', './nsynth_subset/guitar_acoustic_030-044-025.wav', './nsynth_subset/vocal_synthetic_003-022-075.wav', './nsynth_subset/guitar_acoustic_015-091-050.wav', './nsynth_subset/vocal_synthetic_003-100-025.wav', './nsynth_subset/guitar_acoustic_030-036-050.wav', './nsynth_subset/guitar_acoustic_030-045-127.wav', './nsynth_subset/guitar_electronic_022-053-100.wav', './nsynth_subset/guitar_electronic_028-079-100.wav', './nsynth_subset/vocal_synthetic_003-026-025.wav', './nsynth_subset/vocal_synthetic_003-021-025.wav', './nsynth_subset/vocal_synthetic_003-073-100.wav', './nsynth_subset/vocal_synthetic_003-106-100.wav', './nsynth_subset/guitar_acoustic_015-103-075.wav', './nsynth_subset/vocal_synthetic_003-107-100.wav', './nsynth_subset/vocal_synthetic_003-030-050.wav', './nsynth_subset/guitar_acoustic_010-053-127.wav', './nsynth_subset/vocal_synthetic_003-025-100.wav', './nsynth_subset/vocal_synthetic_003-079-100.wav', './nsynth_subset/guitar_electronic_022-032-050.wav', './nsynth_subset/vocal_synthetic_003-093-127.wav', './nsynth_subset/vocal_synthetic_003-086-075.wav', './nsynth_subset/guitar_acoustic_010-061-075.wav', './nsynth_subset/guitar_acoustic_014-085-075.wav', './nsynth_subset/guitar_acoustic_030-041-127.wav', './nsynth_subset/guitar_acoustic_015-094-075.wav', './nsynth_subset/guitar_electronic_028-106-075.wav', './nsynth_subset/guitar_acoustic_021-064-025.wav', './nsynth_subset/vocal_synthetic_003-053-127.wav', './nsynth_subset/guitar_electronic_028-064-075.wav', './nsynth_subset/vocal_synthetic_003-065-075.wav', './nsynth_subset/vocal_synthetic_003-027-127.wav', './nsynth_subset/vocal_synthetic_003-039-075.wav', './nsynth_subset/vocal_synthetic_003-053-025.wav', './nsynth_subset/guitar_acoustic_014-050-075.wav', './nsynth_subset/guitar_electronic_028-055-025.wav', './nsynth_subset/guitar_acoustic_014-041-100.wav', './nsynth_subset/guitar_acoustic_010-062-025.wav', './nsynth_subset/vocal_synthetic_003-031-127.wav', './nsynth_subset/vocal_acoustic_000-066-100.wav', './nsynth_subset/guitar_acoustic_030-078-127.wav', './nsynth_subset/guitar_acoustic_015-047-050.wav', './nsynth_subset/vocal_synthetic_003-055-025.wav', './nsynth_subset/vocal_synthetic_003-031-075.wav', './nsynth_subset/guitar_acoustic_030-098-050.wav', './nsynth_subset/guitar_acoustic_010-107-050.wav', './nsynth_subset/vocal_acoustic_000-062-050.wav', './nsynth_subset/vocal_synthetic_003-065-025.wav', './nsynth_subset/vocal_synthetic_003-046-100.wav', './nsynth_subset/guitar_acoustic_014-067-075.wav', './nsynth_subset/guitar_acoustic_030-102-075.wav', './nsynth_subset/guitar_acoustic_015-029-100.wav', './nsynth_subset/guitar_acoustic_015-060-127.wav', './nsynth_subset/guitar_electronic_022-083-025.wav', './nsynth_subset/guitar_acoustic_015-084-050.wav', './nsynth_subset/guitar_acoustic_014-049-100.wav', './nsynth_subset/vocal_synthetic_003-077-050.wav', './nsynth_subset/guitar_acoustic_010-058-100.wav', './nsynth_subset/guitar_acoustic_015-091-075.wav', './nsynth_subset/guitar_acoustic_030-035-127.wav', './nsynth_subset/guitar_acoustic_030-063-050.wav', './nsynth_subset/guitar_acoustic_010-086-100.wav', './nsynth_subset/vocal_acoustic_000-058-075.wav', './nsynth_subset/vocal_synthetic_003-028-075.wav', './nsynth_subset/guitar_acoustic_021-105-075.wav', './nsynth_subset/guitar_electronic_028-043-127.wav', './nsynth_subset/guitar_acoustic_015-063-100.wav', './nsynth_subset/guitar_acoustic_021-088-025.wav', './nsynth_subset/guitar_electronic_022-043-127.wav', './nsynth_subset/guitar_electronic_028-106-050.wav', './nsynth_subset/guitar_acoustic_030-058-127.wav', './nsynth_subset/vocal_acoustic_000-057-050.wav', './nsynth_subset/vocal_synthetic_003-097-025.wav', './nsynth_subset/guitar_acoustic_010-063-075.wav', './nsynth_subset/vocal_synthetic_003-026-075.wav', './nsynth_subset/vocal_synthetic_003-061-075.wav', './nsynth_subset/vocal_synthetic_003-088-050.wav', './nsynth_subset/guitar_acoustic_021-066-025.wav', './nsynth_subset/guitar_acoustic_010-033-025.wav', './nsynth_subset/vocal_synthetic_003-072-075.wav', './nsynth_subset/guitar_acoustic_015-101-050.wav', './nsynth_subset/vocal_synthetic_003-098-075.wav', './nsynth_subset/vocal_acoustic_000-050-075.wav', './nsynth_subset/guitar_acoustic_014-088-100.wav', './nsynth_subset/vocal_synthetic_003-059-025.wav', './nsynth_subset/guitar_acoustic_014-023-100.wav', './nsynth_subset/vocal_acoustic_000-052-100.wav', './nsynth_subset/guitar_electronic_022-040-100.wav', './nsynth_subset/guitar_acoustic_021-074-050.wav', './nsynth_subset/guitar_acoustic_015-052-050.wav', './nsynth_subset/vocal_synthetic_003-080-075.wav', './nsynth_subset/guitar_acoustic_030-058-100.wav', './nsynth_subset/guitar_acoustic_021-064-075.wav', './nsynth_subset/vocal_synthetic_003-077-100.wav', './nsynth_subset/guitar_acoustic_021-078-100.wav', './nsynth_subset/guitar_acoustic_030-100-100.wav', './nsynth_subset/guitar_acoustic_021-096-127.wav', './nsynth_subset/vocal_synthetic_003-067-050.wav', './nsynth_subset/guitar_acoustic_021-060-025.wav', './nsynth_subset/vocal_synthetic_003-025-050.wav', './nsynth_subset/vocal_synthetic_003-078-050.wav', './nsynth_subset/guitar_acoustic_010-021-050.wav', './nsynth_subset/guitar_acoustic_014-061-075.wav', './nsynth_subset/vocal_synthetic_003-062-100.wav', './nsynth_subset/vocal_synthetic_003-052-025.wav', './nsynth_subset/vocal_synthetic_003-054-075.wav', './nsynth_subset/vocal_synthetic_003-035-025.wav', './nsynth_subset/vocal_acoustic_000-055-050.wav', './nsynth_subset/guitar_acoustic_010-099-025.wav', './nsynth_subset/vocal_acoustic_000-055-100.wav', './nsynth_subset/guitar_electronic_028-031-050.wav', './nsynth_subset/vocal_acoustic_000-067-025.wav', './nsynth_subset/vocal_acoustic_000-061-050.wav', './nsynth_subset/vocal_synthetic_003-097-050.wav', './nsynth_subset/vocal_synthetic_003-064-075.wav', './nsynth_subset/guitar_acoustic_015-087-050.wav', './nsynth_subset/guitar_acoustic_015-033-127.wav', './nsynth_subset/vocal_synthetic_003-092-075.wav', './nsynth_subset/guitar_electronic_022-059-025.wav', './nsynth_subset/guitar_acoustic_015-086-100.wav', './nsynth_subset/vocal_synthetic_003-096-025.wav', './nsynth_subset/vocal_acoustic_000-058-050.wav', './nsynth_subset/guitar_acoustic_030-055-075.wav', './nsynth_subset/vocal_acoustic_000-059-050.wav', './nsynth_subset/guitar_acoustic_015-097-075.wav', './nsynth_subset/guitar_electronic_022-088-025.wav', './nsynth_subset/guitar_acoustic_010-097-075.wav', './nsynth_subset/guitar_electronic_028-102-075.wav', './nsynth_subset/vocal_synthetic_003-070-025.wav', './nsynth_subset/guitar_acoustic_015-106-127.wav', './nsynth_subset/vocal_synthetic_003-057-050.wav', './nsynth_subset/vocal_synthetic_003-101-075.wav', './nsynth_subset/vocal_synthetic_003-069-025.wav', './nsynth_subset/vocal_synthetic_003-094-075.wav', './nsynth_subset/guitar_acoustic_010-022-100.wav', './nsynth_subset/guitar_electronic_028-051-100.wav', './nsynth_subset/vocal_synthetic_003-059-075.wav', './nsynth_subset/vocal_synthetic_003-043-100.wav', './nsynth_subset/guitar_electronic_028-091-100.wav', './nsynth_subset/guitar_acoustic_021-037-100.wav', './nsynth_subset/vocal_synthetic_003-056-025.wav', './nsynth_subset/guitar_electronic_028-108-100.wav', './nsynth_subset/guitar_acoustic_015-052-127.wav', './nsynth_subset/vocal_synthetic_003-090-025.wav', './nsynth_subset/vocal_acoustic_000-060-127.wav', './nsynth_subset/vocal_synthetic_003-098-025.wav', './nsynth_subset/guitar_electronic_022-029-100.wav', './nsynth_subset/vocal_synthetic_003-051-025.wav', './nsynth_subset/guitar_electronic_022-039-025.wav', './nsynth_subset/guitar_electronic_028-058-050.wav', './nsynth_subset/guitar_acoustic_014-057-050.wav', './nsynth_subset/vocal_synthetic_003-042-025.wav', './nsynth_subset/guitar_acoustic_015-037-025.wav', './nsynth_subset/vocal_synthetic_003-099-075.wav', './nsynth_subset/vocal_synthetic_003-056-075.wav', './nsynth_subset/guitar_electronic_022-051-100.wav', './nsynth_subset/guitar_electronic_028-054-100.wav', './nsynth_subset/guitar_acoustic_015-095-100.wav', './nsynth_subset/guitar_acoustic_010-044-075.wav', './nsynth_subset/guitar_acoustic_014-062-025.wav', './nsynth_subset/guitar_acoustic_021-105-100.wav', './nsynth_subset/guitar_acoustic_021-039-100.wav', './nsynth_subset/vocal_synthetic_003-071-025.wav', './nsynth_subset/vocal_synthetic_003-106-025.wav', './nsynth_subset/guitar_acoustic_021-100-127.wav', './nsynth_subset/guitar_electronic_028-056-050.wav', './nsynth_subset/vocal_synthetic_003-054-100.wav', './nsynth_subset/guitar_electronic_028-083-127.wav', './nsynth_subset/vocal_synthetic_003-032-025.wav', './nsynth_subset/guitar_acoustic_015-093-025.wav', './nsynth_subset/guitar_acoustic_014-064-050.wav', './nsynth_subset/vocal_synthetic_003-034-075.wav', './nsynth_subset/vocal_acoustic_000-068-127.wav', './nsynth_subset/vocal_synthetic_003-057-100.wav', './nsynth_subset/vocal_synthetic_003-098-100.wav', './nsynth_subset/guitar_electronic_028-040-100.wav', './nsynth_subset/vocal_synthetic_003-055-075.wav', './nsynth_subset/guitar_acoustic_010-061-100.wav', './nsynth_subset/vocal_synthetic_003-052-075.wav', './nsynth_subset/guitar_acoustic_014-030-127.wav', './nsynth_subset/guitar_electronic_028-023-025.wav', './nsynth_subset/guitar_acoustic_010-075-127.wav', './nsynth_subset/guitar_acoustic_014-072-100.wav', './nsynth_subset/guitar_acoustic_014-059-025.wav', './nsynth_subset/vocal_synthetic_003-033-025.wav', './nsynth_subset/vocal_synthetic_003-052-100.wav', './nsynth_subset/guitar_acoustic_014-065-025.wav', './nsynth_subset/vocal_synthetic_003-047-127.wav', './nsynth_subset/vocal_synthetic_003-067-127.wav', './nsynth_subset/vocal_acoustic_000-058-100.wav', './nsynth_subset/guitar_acoustic_010-072-025.wav', './nsynth_subset/guitar_acoustic_014-040-127.wav', './nsynth_subset/vocal_synthetic_003-103-075.wav', './nsynth_subset/guitar_acoustic_030-058-075.wav', './nsynth_subset/guitar_acoustic_015-100-100.wav', './nsynth_subset/guitar_acoustic_021-036-025.wav', './nsynth_subset/vocal_synthetic_003-054-050.wav', './nsynth_subset/vocal_synthetic_003-037-127.wav', './nsynth_subset/vocal_synthetic_003-032-100.wav', './nsynth_subset/guitar_acoustic_014-066-025.wav', './nsynth_subset/guitar_acoustic_014-103-127.wav', './nsynth_subset/vocal_synthetic_003-081-025.wav', './nsynth_subset/vocal_synthetic_003-030-075.wav', './nsynth_subset/guitar_acoustic_014-037-050.wav', './nsynth_subset/guitar_acoustic_010-032-075.wav', './nsynth_subset/vocal_synthetic_003-105-127.wav', './nsynth_subset/vocal_synthetic_003-089-100.wav', './nsynth_subset/guitar_acoustic_030-052-100.wav', './nsynth_subset/guitar_electronic_028-076-075.wav', './nsynth_subset/guitar_acoustic_010-044-100.wav', './nsynth_subset/vocal_synthetic_003-073-025.wav', './nsynth_subset/vocal_synthetic_003-029-100.wav', './nsynth_subset/vocal_synthetic_003-031-050.wav', './nsynth_subset/guitar_electronic_028-059-127.wav', './nsynth_subset/guitar_acoustic_015-075-025.wav', './nsynth_subset/guitar_acoustic_015-028-100.wav', './nsynth_subset/guitar_acoustic_010-074-050.wav', './nsynth_subset/guitar_acoustic_021-031-025.wav', './nsynth_subset/guitar_acoustic_010-064-025.wav', './nsynth_subset/guitar_acoustic_021-045-075.wav', './nsynth_subset/vocal_synthetic_003-074-127.wav', './nsynth_subset/vocal_synthetic_003-051-127.wav', './nsynth_subset/guitar_acoustic_021-074-100.wav', './nsynth_subset/guitar_acoustic_015-024-050.wav', './nsynth_subset/vocal_synthetic_003-028-050.wav', './nsynth_subset/guitar_acoustic_010-047-127.wav', './nsynth_subset/vocal_synthetic_003-069-100.wav', './nsynth_subset/guitar_electronic_028-100-100.wav', './nsynth_subset/vocal_synthetic_003-038-100.wav', './nsynth_subset/vocal_synthetic_003-038-050.wav', './nsynth_subset/guitar_acoustic_015-023-075.wav', './nsynth_subset/vocal_acoustic_000-068-075.wav', './nsynth_subset/guitar_acoustic_010-029-075.wav', './nsynth_subset/vocal_acoustic_000-051-100.wav', './nsynth_subset/vocal_acoustic_000-059-025.wav', './nsynth_subset/guitar_acoustic_010-103-127.wav', './nsynth_subset/guitar_acoustic_010-069-075.wav', './nsynth_subset/vocal_synthetic_003-049-127.wav', './nsynth_subset/vocal_synthetic_003-079-025.wav', './nsynth_subset/vocal_synthetic_003-047-025.wav', './nsynth_subset/vocal_acoustic_000-065-025.wav', './nsynth_subset/guitar_electronic_028-105-127.wav', './nsynth_subset/guitar_acoustic_015-106-075.wav', './nsynth_subset/vocal_acoustic_000-062-025.wav', './nsynth_subset/vocal_synthetic_003-091-050.wav', './nsynth_subset/guitar_acoustic_030-092-100.wav', './nsynth_subset/vocal_acoustic_000-069-127.wav', './nsynth_subset/guitar_acoustic_021-096-075.wav', './nsynth_subset/vocal_synthetic_003-096-127.wav', './nsynth_subset/vocal_acoustic_000-069-100.wav', './nsynth_subset/vocal_acoustic_000-068-100.wav', './nsynth_subset/vocal_synthetic_003-050-127.wav', './nsynth_subset/vocal_synthetic_003-062-075.wav', './nsynth_subset/guitar_electronic_022-083-127.wav', './nsynth_subset/vocal_synthetic_003-100-075.wav', './nsynth_subset/vocal_acoustic_000-055-127.wav', './nsynth_subset/vocal_synthetic_003-103-050.wav', './nsynth_subset/vocal_synthetic_003-093-050.wav', './nsynth_subset/vocal_synthetic_003-041-100.wav', './nsynth_subset/vocal_synthetic_003-026-050.wav', './nsynth_subset/guitar_acoustic_021-046-127.wav', './nsynth_subset/guitar_acoustic_021-079-050.wav', './nsynth_subset/guitar_electronic_022-045-050.wav', './nsynth_subset/vocal_synthetic_003-022-127.wav', './nsynth_subset/vocal_acoustic_000-057-100.wav', './nsynth_subset/vocal_synthetic_003-037-100.wav', './nsynth_subset/vocal_synthetic_003-036-075.wav', './nsynth_subset/guitar_electronic_022-029-025.wav', './nsynth_subset/vocal_synthetic_003-039-100.wav', './nsynth_subset/vocal_synthetic_003-084-127.wav', './nsynth_subset/guitar_acoustic_021-059-025.wav', './nsynth_subset/vocal_acoustic_000-070-127.wav', './nsynth_subset/guitar_acoustic_030-074-100.wav', './nsynth_subset/vocal_synthetic_003-067-025.wav', './nsynth_subset/vocal_acoustic_000-065-075.wav', './nsynth_subset/guitar_acoustic_021-091-050.wav', './nsynth_subset/vocal_synthetic_003-057-127.wav', './nsynth_subset/vocal_synthetic_003-074-075.wav', './nsynth_subset/guitar_acoustic_015-066-127.wav', './nsynth_subset/guitar_acoustic_010-021-100.wav', './nsynth_subset/vocal_synthetic_003-073-075.wav', './nsynth_subset/vocal_synthetic_003-108-025.wav', './nsynth_subset/vocal_synthetic_003-102-025.wav', './nsynth_subset/vocal_synthetic_003-106-127.wav', './nsynth_subset/vocal_synthetic_003-066-025.wav', './nsynth_subset/vocal_synthetic_003-031-100.wav', './nsynth_subset/vocal_synthetic_003-099-025.wav', './nsynth_subset/vocal_synthetic_003-087-100.wav', './nsynth_subset/vocal_acoustic_000-062-075.wav', './nsynth_subset/vocal_synthetic_003-052-127.wav', './nsynth_subset/vocal_synthetic_003-102-075.wav', './nsynth_subset/guitar_acoustic_030-096-100.wav', './nsynth_subset/guitar_acoustic_015-064-050.wav', './nsynth_subset/vocal_acoustic_000-060-025.wav', './nsynth_subset/vocal_synthetic_003-024-050.wav', './nsynth_subset/vocal_synthetic_003-040-025.wav', './nsynth_subset/vocal_synthetic_003-073-127.wav', './nsynth_subset/guitar_acoustic_010-041-025.wav', './nsynth_subset/vocal_synthetic_003-027-025.wav', './nsynth_subset/vocal_synthetic_003-048-025.wav', './nsynth_subset/guitar_acoustic_015-053-075.wav', './nsynth_subset/vocal_acoustic_000-060-100.wav', './nsynth_subset/vocal_synthetic_003-095-050.wav', './nsynth_subset/vocal_acoustic_000-057-075.wav', './nsynth_subset/vocal_synthetic_003-055-100.wav', './nsynth_subset/guitar_acoustic_021-086-025.wav', './nsynth_subset/guitar_acoustic_015-086-127.wav', './nsynth_subset/guitar_electronic_028-042-050.wav', './nsynth_subset/vocal_synthetic_003-101-127.wav', './nsynth_subset/vocal_acoustic_000-054-075.wav', './nsynth_subset/vocal_synthetic_003-066-075.wav', './nsynth_subset/vocal_synthetic_003-049-050.wav', './nsynth_subset/vocal_synthetic_003-041-050.wav', './nsynth_subset/guitar_acoustic_010-101-025.wav', './nsynth_subset/guitar_acoustic_021-072-100.wav', './nsynth_subset/guitar_acoustic_014-022-025.wav', './nsynth_subset/guitar_acoustic_015-038-100.wav', './nsynth_subset/guitar_acoustic_015-095-127.wav', './nsynth_subset/vocal_synthetic_003-093-100.wav', './nsynth_subset/guitar_acoustic_014-066-100.wav', './nsynth_subset/vocal_synthetic_003-034-127.wav', './nsynth_subset/guitar_acoustic_030-028-050.wav', './nsynth_subset/guitar_acoustic_014-107-025.wav', './nsynth_subset/guitar_acoustic_021-082-050.wav', './nsynth_subset/vocal_synthetic_003-023-075.wav', './nsynth_subset/guitar_acoustic_015-061-025.wav', './nsynth_subset/vocal_synthetic_003-087-050.wav', './nsynth_subset/guitar_acoustic_015-021-100.wav', './nsynth_subset/vocal_synthetic_003-046-127.wav', './nsynth_subset/guitar_acoustic_021-089-050.wav', './nsynth_subset/guitar_acoustic_010-108-127.wav', './nsynth_subset/guitar_acoustic_021-025-100.wav', './nsynth_subset/vocal_synthetic_003-064-127.wav', './nsynth_subset/vocal_synthetic_003-072-100.wav', './nsynth_subset/guitar_acoustic_021-029-127.wav', './nsynth_subset/vocal_synthetic_003-040-050.wav', './nsynth_subset/guitar_acoustic_010-064-075.wav', './nsynth_subset/guitar_acoustic_030-086-075.wav', './nsynth_subset/vocal_synthetic_003-049-075.wav', './nsynth_subset/guitar_acoustic_014-093-025.wav', './nsynth_subset/guitar_acoustic_021-025-127.wav', './nsynth_subset/guitar_acoustic_021-080-025.wav', './nsynth_subset/guitar_acoustic_014-105-050.wav', './nsynth_subset/vocal_synthetic_003-060-127.wav', './nsynth_subset/guitar_electronic_028-081-050.wav', './nsynth_subset/vocal_synthetic_003-021-050.wav', './nsynth_subset/vocal_synthetic_003-098-050.wav', './nsynth_subset/vocal_acoustic_000-055-075.wav', './nsynth_subset/vocal_synthetic_003-082-100.wav', './nsynth_subset/guitar_acoustic_010-056-127.wav', './nsynth_subset/vocal_synthetic_003-084-050.wav', './nsynth_subset/vocal_synthetic_003-098-127.wav', './nsynth_subset/guitar_acoustic_021-092-050.wav', './nsynth_subset/guitar_electronic_022-050-050.wav', './nsynth_subset/guitar_acoustic_014-041-050.wav', './nsynth_subset/guitar_electronic_028-075-025.wav', './nsynth_subset/guitar_acoustic_021-071-075.wav', './nsynth_subset/guitar_acoustic_010-085-075.wav', './nsynth_subset/vocal_synthetic_003-022-050.wav', './nsynth_subset/guitar_electronic_022-038-025.wav', './nsynth_subset/guitar_acoustic_014-071-100.wav', './nsynth_subset/guitar_acoustic_015-104-127.wav', './nsynth_subset/guitar_acoustic_010-025-075.wav', './nsynth_subset/guitar_acoustic_021-075-075.wav', './nsynth_subset/guitar_acoustic_010-043-050.wav', './nsynth_subset/vocal_synthetic_003-062-025.wav', './nsynth_subset/vocal_synthetic_003-095-127.wav', './nsynth_subset/vocal_synthetic_003-064-100.wav', './nsynth_subset/vocal_acoustic_000-064-025.wav', './nsynth_subset/guitar_acoustic_014-082-050.wav', './nsynth_subset/guitar_acoustic_021-025-025.wav', './nsynth_subset/guitar_electronic_022-055-075.wav', './nsynth_subset/guitar_acoustic_021-055-025.wav', './nsynth_subset/vocal_synthetic_003-038-025.wav', './nsynth_subset/guitar_acoustic_014-088-050.wav', './nsynth_subset/vocal_synthetic_003-071-127.wav', './nsynth_subset/guitar_acoustic_021-045-127.wav', './nsynth_subset/guitar_acoustic_010-066-075.wav', './nsynth_subset/guitar_acoustic_021-030-025.wav', './nsynth_subset/vocal_synthetic_003-025-025.wav', './nsynth_subset/guitar_acoustic_014-079-100.wav', './nsynth_subset/guitar_acoustic_015-071-075.wav', './nsynth_subset/vocal_synthetic_003-062-127.wav', './nsynth_subset/guitar_acoustic_014-075-075.wav', './nsynth_subset/vocal_synthetic_003-044-050.wav', './nsynth_subset/vocal_synthetic_003-029-025.wav', './nsynth_subset/vocal_synthetic_003-091-100.wav', './nsynth_subset/vocal_acoustic_000-061-100.wav', './nsynth_subset/guitar_acoustic_014-024-025.wav', './nsynth_subset/vocal_synthetic_003-037-050.wav', './nsynth_subset/vocal_synthetic_003-061-025.wav', './nsynth_subset/guitar_electronic_022-050-100.wav', './nsynth_subset/guitar_acoustic_030-082-100.wav', './nsynth_subset/guitar_electronic_022-050-025.wav', './nsynth_subset/guitar_electronic_022-056-075.wav', './nsynth_subset/guitar_acoustic_014-077-075.wav', './nsynth_subset/vocal_synthetic_003-094-100.wav', './nsynth_subset/guitar_acoustic_014-106-100.wav', './nsynth_subset/vocal_synthetic_003-031-025.wav', './nsynth_subset/guitar_acoustic_021-069-100.wav', './nsynth_subset/vocal_synthetic_003-078-025.wav', './nsynth_subset/guitar_acoustic_030-064-050.wav', './nsynth_subset/vocal_synthetic_003-052-050.wav', './nsynth_subset/guitar_acoustic_014-059-050.wav', './nsynth_subset/vocal_synthetic_003-105-075.wav', './nsynth_subset/vocal_synthetic_003-049-100.wav', './nsynth_subset/vocal_synthetic_003-029-127.wav', './nsynth_subset/guitar_electronic_022-070-050.wav', './nsynth_subset/guitar_acoustic_010-048-100.wav', './nsynth_subset/vocal_synthetic_003-059-100.wav', './nsynth_subset/guitar_electronic_022-062-127.wav', './nsynth_subset/guitar_acoustic_010-045-075.wav', './nsynth_subset/vocal_synthetic_003-033-075.wav', './nsynth_subset/vocal_acoustic_000-067-127.wav', './nsynth_subset/guitar_electronic_022-066-075.wav', './nsynth_subset/vocal_synthetic_003-024-127.wav', './nsynth_subset/guitar_electronic_022-071-127.wav', './nsynth_subset/vocal_acoustic_000-067-100.wav', './nsynth_subset/vocal_synthetic_003-088-127.wav', './nsynth_subset/guitar_electronic_022-049-075.wav', './nsynth_subset/vocal_synthetic_003-030-100.wav', './nsynth_subset/guitar_acoustic_010-026-127.wav', './nsynth_subset/guitar_acoustic_015-093-075.wav', './nsynth_subset/vocal_synthetic_003-045-100.wav', './nsynth_subset/guitar_acoustic_030-070-100.wav', './nsynth_subset/guitar_acoustic_010-078-025.wav', './nsynth_subset/guitar_electronic_028-028-100.wav', './nsynth_subset/vocal_synthetic_003-021-075.wav', './nsynth_subset/vocal_synthetic_003-067-075.wav', './nsynth_subset/guitar_acoustic_014-070-025.wav', './nsynth_subset/vocal_synthetic_003-088-100.wav', './nsynth_subset/guitar_acoustic_014-049-127.wav', './nsynth_subset/vocal_synthetic_003-089-075.wav', './nsynth_subset/vocal_synthetic_003-044-100.wav', './nsynth_subset/guitar_acoustic_015-053-127.wav', './nsynth_subset/vocal_acoustic_000-051-025.wav', './nsynth_subset/vocal_acoustic_000-056-127.wav', './nsynth_subset/vocal_synthetic_003-060-075.wav', './nsynth_subset/vocal_synthetic_003-089-025.wav', './nsynth_subset/vocal_synthetic_003-025-075.wav', './nsynth_subset/guitar_electronic_028-093-050.wav', './nsynth_subset/guitar_acoustic_015-100-127.wav', './nsynth_subset/guitar_acoustic_014-067-050.wav', './nsynth_subset/guitar_acoustic_021-106-050.wav', './nsynth_subset/guitar_acoustic_014-101-127.wav', './nsynth_subset/vocal_acoustic_000-067-050.wav', './nsynth_subset/guitar_acoustic_010-097-127.wav', './nsynth_subset/vocal_synthetic_003-106-075.wav', './nsynth_subset/guitar_acoustic_010-107-025.wav', './nsynth_subset/vocal_synthetic_003-021-100.wav', './nsynth_subset/vocal_acoustic_000-062-127.wav', './nsynth_subset/vocal_synthetic_003-043-127.wav', './nsynth_subset/vocal_synthetic_003-046-050.wav', './nsynth_subset/vocal_synthetic_003-035-050.wav', './nsynth_subset/guitar_acoustic_030-075-025.wav', './nsynth_subset/vocal_synthetic_003-058-075.wav', './nsynth_subset/vocal_synthetic_003-042-100.wav', './nsynth_subset/guitar_acoustic_014-065-127.wav', './nsynth_subset/vocal_synthetic_003-081-075.wav', './nsynth_subset/vocal_synthetic_003-075-050.wav', './nsynth_subset/guitar_acoustic_021-082-075.wav', './nsynth_subset/vocal_acoustic_000-052-050.wav', './nsynth_subset/vocal_synthetic_003-072-025.wav', './nsynth_subset/guitar_acoustic_015-058-075.wav', './nsynth_subset/guitar_acoustic_010-082-050.wav', './nsynth_subset/guitar_acoustic_014-023-075.wav', './nsynth_subset/guitar_acoustic_015-102-025.wav', './nsynth_subset/vocal_synthetic_003-076-050.wav', './nsynth_subset/vocal_synthetic_003-063-075.wav', './nsynth_subset/vocal_synthetic_003-037-025.wav', './nsynth_subset/guitar_electronic_022-078-050.wav', './nsynth_subset/guitar_acoustic_015-043-050.wav', './nsynth_subset/vocal_synthetic_003-051-100.wav', './nsynth_subset/vocal_synthetic_003-085-025.wav', './nsynth_subset/vocal_synthetic_003-080-025.wav', './nsynth_subset/guitar_acoustic_014-082-025.wav', './nsynth_subset/guitar_acoustic_010-041-075.wav', './nsynth_subset/guitar_electronic_028-046-127.wav', './nsynth_subset/guitar_acoustic_015-064-075.wav', './nsynth_subset/vocal_synthetic_003-060-025.wav', './nsynth_subset/guitar_acoustic_014-090-127.wav', './nsynth_subset/guitar_acoustic_010-054-050.wav', './nsynth_subset/vocal_synthetic_003-058-127.wav', './nsynth_subset/guitar_acoustic_021-036-127.wav', './nsynth_subset/guitar_acoustic_010-038-050.wav', './nsynth_subset/guitar_acoustic_010-070-075.wav', './nsynth_subset/guitar_electronic_028-047-025.wav', './nsynth_subset/guitar_acoustic_021-105-127.wav', './nsynth_subset/guitar_acoustic_010-048-050.wav', './nsynth_subset/vocal_acoustic_000-065-050.wav', './nsynth_subset/guitar_electronic_022-035-025.wav', './nsynth_subset/vocal_synthetic_003-032-075.wav', './nsynth_subset/vocal_acoustic_000-065-127.wav', './nsynth_subset/guitar_acoustic_015-046-050.wav', './nsynth_subset/guitar_acoustic_015-036-100.wav', './nsynth_subset/guitar_electronic_028-071-100.wav', './nsynth_subset/vocal_synthetic_003-082-127.wav', './nsynth_subset/guitar_acoustic_014-053-127.wav', './nsynth_subset/guitar_acoustic_014-057-127.wav', './nsynth_subset/vocal_synthetic_003-026-127.wav', './nsynth_subset/vocal_acoustic_000-061-025.wav', './nsynth_subset/guitar_electronic_028-032-025.wav', './nsynth_subset/guitar_acoustic_014-096-127.wav', './nsynth_subset/vocal_acoustic_000-056-075.wav', './nsynth_subset/guitar_acoustic_015-057-127.wav', './nsynth_subset/guitar_acoustic_021-023-127.wav', './nsynth_subset/guitar_acoustic_021-075-050.wav', './nsynth_subset/vocal_acoustic_000-063-050.wav', './nsynth_subset/vocal_synthetic_003-097-100.wav', './nsynth_subset/guitar_acoustic_010-033-127.wav', './nsynth_subset/vocal_synthetic_003-090-100.wav', './nsynth_subset/vocal_synthetic_003-082-050.wav', './nsynth_subset/vocal_synthetic_003-033-100.wav', './nsynth_subset/guitar_acoustic_015-027-075.wav', './nsynth_subset/vocal_acoustic_000-054-050.wav', './nsynth_subset/vocal_synthetic_003-034-050.wav', './nsynth_subset/vocal_synthetic_003-025-127.wav', './nsynth_subset/guitar_acoustic_014-026-127.wav', './nsynth_subset/vocal_synthetic_003-083-127.wav', './nsynth_subset/vocal_acoustic_000-052-075.wav', './nsynth_subset/guitar_acoustic_015-040-100.wav', './nsynth_subset/vocal_synthetic_003-029-075.wav', './nsynth_subset/vocal_synthetic_003-036-050.wav', './nsynth_subset/vocal_synthetic_003-045-127.wav', './nsynth_subset/vocal_acoustic_000-053-025.wav', './nsynth_subset/vocal_synthetic_003-068-127.wav', './nsynth_subset/vocal_acoustic_000-064-100.wav', './nsynth_subset/vocal_synthetic_003-072-127.wav', './nsynth_subset/vocal_synthetic_003-061-127.wav', './nsynth_subset/guitar_acoustic_021-058-075.wav', './nsynth_subset/guitar_acoustic_010-095-100.wav', './nsynth_subset/guitar_electronic_022-066-025.wav', './nsynth_subset/guitar_acoustic_010-103-025.wav', './nsynth_subset/guitar_electronic_028-060-100.wav', './nsynth_subset/vocal_synthetic_003-069-050.wav', './nsynth_subset/guitar_acoustic_021-032-075.wav', './nsynth_subset/vocal_synthetic_003-100-100.wav', './nsynth_subset/guitar_electronic_022-027-100.wav', './nsynth_subset/guitar_electronic_022-028-025.wav', './nsynth_subset/vocal_synthetic_003-066-127.wav', './nsynth_subset/guitar_electronic_028-057-100.wav', './nsynth_subset/guitar_acoustic_010-072-100.wav', './nsynth_subset/guitar_electronic_028-065-127.wav', './nsynth_subset/vocal_synthetic_003-048-075.wav', './nsynth_subset/vocal_synthetic_003-077-075.wav', './nsynth_subset/guitar_acoustic_021-081-127.wav', './nsynth_subset/vocal_acoustic_000-069-075.wav', './nsynth_subset/vocal_synthetic_003-066-050.wav', './nsynth_subset/vocal_synthetic_003-092-025.wav', './nsynth_subset/vocal_synthetic_003-094-025.wav', './nsynth_subset/guitar_electronic_028-107-050.wav', './nsynth_subset/guitar_acoustic_021-101-075.wav', './nsynth_subset/guitar_electronic_028-082-025.wav', './nsynth_subset/vocal_synthetic_003-039-025.wav', './nsynth_subset/guitar_electronic_022-028-100.wav', './nsynth_subset/vocal_synthetic_003-063-050.wav', './nsynth_subset/guitar_acoustic_015-039-050.wav', './nsynth_subset/vocal_synthetic_003-059-127.wav', './nsynth_subset/vocal_synthetic_003-107-127.wav', './nsynth_subset/guitar_acoustic_010-062-100.wav', './nsynth_subset/guitar_electronic_028-084-025.wav', './nsynth_subset/vocal_synthetic_003-091-075.wav', './nsynth_subset/guitar_electronic_028-087-050.wav', './nsynth_subset/guitar_acoustic_030-042-127.wav', './nsynth_subset/guitar_acoustic_014-048-075.wav', './nsynth_subset/guitar_acoustic_015-092-127.wav', './nsynth_subset/guitar_acoustic_010-056-075.wav', './nsynth_subset/guitar_acoustic_010-081-075.wav', './nsynth_subset/vocal_synthetic_003-084-025.wav', './nsynth_subset/vocal_acoustic_000-053-127.wav', './nsynth_subset/vocal_synthetic_003-101-050.wav', './nsynth_subset/vocal_synthetic_003-038-075.wav', './nsynth_subset/guitar_acoustic_021-069-050.wav', './nsynth_subset/guitar_acoustic_010-076-025.wav', './nsynth_subset/guitar_acoustic_015-083-100.wav', './nsynth_subset/vocal_synthetic_003-090-127.wav', './nsynth_subset/vocal_synthetic_003-099-127.wav', './nsynth_subset/guitar_electronic_028-098-127.wav', './nsynth_subset/vocal_synthetic_003-068-050.wav', './nsynth_subset/guitar_acoustic_015-049-025.wav', './nsynth_subset/guitar_acoustic_010-032-050.wav', './nsynth_subset/vocal_acoustic_000-066-025.wav', './nsynth_subset/vocal_synthetic_003-021-127.wav', './nsynth_subset/vocal_acoustic_000-068-025.wav', './nsynth_subset/vocal_synthetic_003-074-100.wav', './nsynth_subset/guitar_acoustic_021-028-050.wav', './nsynth_subset/vocal_acoustic_000-054-025.wav', './nsynth_subset/guitar_electronic_028-021-100.wav', './nsynth_subset/guitar_acoustic_010-054-100.wav', './nsynth_subset/vocal_synthetic_003-089-050.wav', './nsynth_subset/guitar_acoustic_010-076-075.wav', './nsynth_subset/guitar_electronic_022-053-127.wav', './nsynth_subset/vocal_acoustic_000-051-050.wav', './nsynth_subset/vocal_synthetic_003-083-050.wav', './nsynth_subset/guitar_acoustic_030-083-025.wav', './nsynth_subset/vocal_synthetic_003-038-127.wav', './nsynth_subset/guitar_acoustic_015-072-127.wav', './nsynth_subset/vocal_synthetic_003-103-127.wav', './nsynth_subset/vocal_synthetic_003-085-075.wav', './nsynth_subset/guitar_electronic_028-049-025.wav', './nsynth_subset/guitar_acoustic_030-021-025.wav', './nsynth_subset/guitar_acoustic_021-101-127.wav', './nsynth_subset/vocal_acoustic_000-068-050.wav', './nsynth_subset/vocal_synthetic_003-041-025.wav', './nsynth_subset/guitar_acoustic_010-099-050.wav', './nsynth_subset/vocal_synthetic_003-079-127.wav', './nsynth_subset/guitar_acoustic_014-107-100.wav', './nsynth_subset/vocal_acoustic_000-053-050.wav', './nsynth_subset/guitar_acoustic_021-046-025.wav', './nsynth_subset/vocal_acoustic_000-063-127.wav', './nsynth_subset/vocal_synthetic_003-086-127.wav', './nsynth_subset/guitar_electronic_022-074-050.wav', './nsynth_subset/vocal_synthetic_003-087-075.wav', './nsynth_subset/guitar_electronic_022-082-075.wav', './nsynth_subset/vocal_synthetic_003-075-025.wav', './nsynth_subset/guitar_acoustic_015-107-075.wav', './nsynth_subset/vocal_synthetic_003-047-100.wav', './nsynth_subset/vocal_synthetic_003-053-075.wav', './nsynth_subset/vocal_acoustic_000-051-075.wav', './nsynth_subset/vocal_synthetic_003-034-100.wav', './nsynth_subset/guitar_acoustic_015-065-025.wav', './nsynth_subset/guitar_acoustic_015-108-075.wav', './nsynth_subset/vocal_synthetic_003-093-025.wav', './nsynth_subset/vocal_synthetic_003-039-050.wav', './nsynth_subset/vocal_synthetic_003-026-100.wav', './nsynth_subset/vocal_synthetic_003-058-025.wav', './nsynth_subset/vocal_synthetic_003-071-100.wav', './nsynth_subset/guitar_acoustic_014-100-050.wav', './nsynth_subset/vocal_synthetic_003-070-100.wav', './nsynth_subset/guitar_acoustic_014-107-075.wav', './nsynth_subset/vocal_acoustic_000-058-025.wav', './nsynth_subset/vocal_synthetic_003-058-050.wav', './nsynth_subset/guitar_acoustic_021-063-025.wav', './nsynth_subset/vocal_acoustic_000-061-127.wav', './nsynth_subset/vocal_acoustic_000-054-127.wav', './nsynth_subset/vocal_synthetic_003-046-025.wav', './nsynth_subset/guitar_acoustic_021-084-025.wav', './nsynth_subset/vocal_acoustic_000-069-025.wav', './nsynth_subset/guitar_acoustic_014-055-127.wav', './nsynth_subset/vocal_acoustic_000-061-075.wav', './nsynth_subset/vocal_synthetic_003-040-100.wav', './nsynth_subset/guitar_electronic_028-049-050.wav', './nsynth_subset/vocal_synthetic_003-083-075.wav', './nsynth_subset/guitar_acoustic_014-032-100.wav', './nsynth_subset/guitar_acoustic_015-093-127.wav', './nsynth_subset/vocal_synthetic_003-089-127.wav', './nsynth_subset/guitar_acoustic_021-058-025.wav', './nsynth_subset/guitar_acoustic_015-031-025.wav', './nsynth_subset/vocal_synthetic_003-042-075.wav', './nsynth_subset/guitar_acoustic_010-043-100.wav', './nsynth_subset/vocal_synthetic_003-032-050.wav', './nsynth_subset/guitar_electronic_022-032-075.wav', './nsynth_subset/guitar_electronic_028-066-100.wav', './nsynth_subset/vocal_acoustic_000-066-050.wav', './nsynth_subset/vocal_synthetic_003-108-100.wav', './nsynth_subset/guitar_electronic_028-055-075.wav', './nsynth_subset/vocal_synthetic_003-043-025.wav', './nsynth_subset/vocal_synthetic_003-045-075.wav', './nsynth_subset/guitar_acoustic_015-032-025.wav', './nsynth_subset/guitar_acoustic_030-079-127.wav', './nsynth_subset/guitar_electronic_028-061-100.wav', './nsynth_subset/vocal_synthetic_003-023-127.wav', './nsynth_subset/vocal_synthetic_003-086-100.wav', './nsynth_subset/guitar_acoustic_014-099-100.wav', './nsynth_subset/guitar_acoustic_030-041-075.wav', './nsynth_subset/vocal_synthetic_003-035-127.wav', './nsynth_subset/vocal_synthetic_003-069-127.wav', './nsynth_subset/vocal_acoustic_000-063-100.wav', './nsynth_subset/guitar_acoustic_014-089-100.wav', './nsynth_subset/vocal_synthetic_003-069-075.wav', './nsynth_subset/guitar_electronic_022-036-127.wav', './nsynth_subset/guitar_electronic_028-052-025.wav', './nsynth_subset/guitar_acoustic_021-048-127.wav', './nsynth_subset/vocal_synthetic_003-103-100.wav', './nsynth_subset/guitar_acoustic_030-082-025.wav', './nsynth_subset/vocal_synthetic_003-054-025.wav', './nsynth_subset/guitar_electronic_028-081-127.wav', './nsynth_subset/guitar_acoustic_015-053-100.wav', './nsynth_subset/guitar_acoustic_015-036-075.wav', './nsynth_subset/vocal_synthetic_003-078-075.wav', './nsynth_subset/guitar_acoustic_021-088-100.wav', './nsynth_subset/vocal_synthetic_003-092-127.wav', './nsynth_subset/guitar_acoustic_015-050-100.wav', './nsynth_subset/vocal_synthetic_003-080-127.wav', './nsynth_subset/vocal_synthetic_003-081-050.wav', './nsynth_subset/vocal_synthetic_003-023-050.wav', './nsynth_subset/guitar_acoustic_015-107-050.wav', './nsynth_subset/guitar_acoustic_010-027-050.wav', './nsynth_subset/guitar_acoustic_014-035-025.wav', './nsynth_subset/guitar_electronic_028-101-025.wav', './nsynth_subset/guitar_electronic_028-079-127.wav', './nsynth_subset/guitar_acoustic_021-083-100.wav', './nsynth_subset/guitar_acoustic_030-093-050.wav', './nsynth_subset/vocal_synthetic_003-102-127.wav', './nsynth_subset/vocal_synthetic_003-076-127.wav', './nsynth_subset/vocal_acoustic_000-056-050.wav', './nsynth_subset/guitar_acoustic_014-039-050.wav', './nsynth_subset/vocal_synthetic_003-040-075.wav', './nsynth_subset/vocal_synthetic_003-071-050.wav', './nsynth_subset/guitar_acoustic_021-104-025.wav', './nsynth_subset/vocal_synthetic_003-048-050.wav']\n"
     ]
    }
   ],
   "source": [
    "import homework2"
   ]
  },
  {
   "cell_type": "markdown",
   "metadata": {},
   "source": [
    "### Install and Load Required Libraries  "
   ]
  },
  {
   "cell_type": "code",
   "execution_count": 3,
   "metadata": {},
   "outputs": [],
   "source": [
    "# !pip install librosa\n",
    "# !pip install torch\n",
    "# !pip install glob\n",
    "# !pip install numpy"
   ]
  },
  {
   "cell_type": "code",
   "execution_count": 4,
   "metadata": {},
   "outputs": [],
   "source": [
    "import torch\n",
    "import torch.nn as nn\n",
    "import torch.nn.functional as nnF\n",
    "import torch.optim as optim\n",
    "from torch.utils.data import Dataset, DataLoader\n",
    "import numpy as np\n",
    "import librosa\n",
    "import random\n",
    "import glob"
   ]
  },
  {
   "cell_type": "code",
   "execution_count": 5,
   "metadata": {},
   "outputs": [],
   "source": [
    "BATCH_SIZE = 16\n",
    "torch.use_deterministic_algorithms(True)"
   ]
  },
  {
   "cell_type": "code",
   "execution_count": 6,
   "metadata": {},
   "outputs": [],
   "source": [
    "if not len(homework2.audio_paths):\n",
    "    print(\"You probably need to set the dataroot folder correctly\")"
   ]
  },
  {
   "cell_type": "code",
   "execution_count": 7,
   "metadata": {},
   "outputs": [],
   "source": [
    "# Some helper functions. These are the same as what the autograder runs."
   ]
  },
  {
   "cell_type": "code",
   "execution_count": 8,
   "metadata": {},
   "outputs": [],
   "source": [
    "# Split dataset into train / valid / test\n",
    "def split_data(waveforms, labels, train_ratio=0.7, valid_ratio=0.15):\n",
    "    assert(train_ratio + valid_ratio < 1)\n",
    "    test_ratio = 1 - (train_ratio + valid_ratio)\n",
    "    N = len(waveforms)\n",
    "    Ntrain = int(N * train_ratio)\n",
    "    Nvalid = int(N * valid_ratio)\n",
    "    Ntest = int(N * test_ratio)\n",
    "    Wtrain = waveforms[:Ntrain]\n",
    "    Wvalid = waveforms[Ntrain:Ntrain + Nvalid]\n",
    "    Wtest = waveforms[Ntrain + Nvalid:]\n",
    "    ytrain = labels[:Ntrain]\n",
    "    yvalid = labels[Ntrain:Ntrain + Nvalid]\n",
    "    ytest = labels[Ntrain + Nvalid:]\n",
    "    return Wtrain,Wvalid,Wtest,ytrain,yvalid,ytest"
   ]
  },
  {
   "cell_type": "code",
   "execution_count": 9,
   "metadata": {},
   "outputs": [],
   "source": [
    "def process_data(W, feature_function):\n",
    "    return [feature_function(path) for path in W]"
   ]
  },
  {
   "cell_type": "code",
   "execution_count": 10,
   "metadata": {},
   "outputs": [],
   "source": [
    "class InstrumentDataset(Dataset):\n",
    "    def __init__(self, features, labels):\n",
    "        self.features = features\n",
    "        self.labels = labels\n",
    "        \n",
    "    def __len__(self):\n",
    "        return len(self.labels)\n",
    "\n",
    "    def __getitem__(self, idx):\n",
    "        features = self.features[idx]\n",
    "        label = self.labels[idx]\n",
    "\n",
    "        return features, torch.tensor(label, dtype=torch.long)"
   ]
  },
  {
   "cell_type": "code",
   "execution_count": 11,
   "metadata": {},
   "outputs": [],
   "source": [
    "class Loaders():\n",
    "    def __init__(self, waveforms, labels, feature_function, seed = 0):\n",
    "        torch.manual_seed(seed)\n",
    "        random.seed(seed)\n",
    "        self.Wtrain, self.Wvalid, self.Wtest, self.ytrain, self.yvalid, self.ytest = split_data(waveforms, labels)\n",
    "        \n",
    "        self.Xtrain = process_data(self.Wtrain, feature_function)\n",
    "        self.Xvalid = process_data(self.Wvalid, feature_function)\n",
    "        self.Xtest = process_data(self.Wtest, feature_function)\n",
    "        \n",
    "        self.dataTrain = InstrumentDataset(self.Xtrain, self.ytrain)\n",
    "        self.dataValid = InstrumentDataset(self.Xvalid, self.yvalid)\n",
    "        self.dataTest = InstrumentDataset(self.Xtest, self.ytest)\n",
    "        \n",
    "        self.loaderTrain = DataLoader(self.dataTrain, batch_size=BATCH_SIZE, shuffle=False, num_workers=0)\n",
    "        self.loaderValid = DataLoader(self.dataValid, batch_size=BATCH_SIZE, shuffle=False, num_workers=0)\n",
    "        self.loaderTest = DataLoader(self.dataTest, batch_size=BATCH_SIZE, shuffle=False, num_workers=0)"
   ]
  },
  {
   "cell_type": "code",
   "execution_count": 12,
   "metadata": {},
   "outputs": [],
   "source": [
    "class Pipeline():\n",
    "    def __init__(self, module, learning_rate, seed = 0):\n",
    "        # These two lines will (mostly) make things deterministic.\n",
    "        # You're welcome to modify them to try to get a better solution.\n",
    "        torch.manual_seed(seed)\n",
    "        random.seed(seed)\n",
    "\n",
    "        self.device = torch.device(\"cpu\") # Can change this if you have a GPU, but the autograder will use CPU\n",
    "        self.criterion = nn.CrossEntropyLoss()\n",
    "        \n",
    "        self.model = module.to(self.device)\n",
    "        self.optimizer = optim.Adam(self.model.parameters(), lr=learning_rate)\n",
    "\n",
    "    def evaluate(self, loader, which = \"valid\"):\n",
    "        self.model.eval()\n",
    "\n",
    "        correct = 0\n",
    "        total = 0\n",
    "\n",
    "        with torch.no_grad():\n",
    "            for inputs, labels in loader:\n",
    "                inputs, labels = inputs.to(self.device), labels.to(self.device)\n",
    "\n",
    "                outputs = self.model(inputs)\n",
    "                #loss = criterion(outputs, labels) # validation loss\n",
    "\n",
    "                _, predicted = torch.max(outputs.data, 1)\n",
    "                total += labels.size(0)\n",
    "                correct += (predicted == labels).sum().item()\n",
    "\n",
    "        acc = correct / total\n",
    "        \n",
    "        return acc\n",
    "    \n",
    "    def train(self, loaders,\n",
    "          num_epochs=1, # Train for a single epoch by default\n",
    "          model_path=None): # (Optionally) provide a path to save the best model\n",
    "        val_acc = 0\n",
    "        best_val_acc = 0\n",
    "        for epoch in range(num_epochs):\n",
    "            self.model.train()\n",
    "            \n",
    "            losses = []\n",
    "\n",
    "            for inputs, labels in loaders.loaderTrain:\n",
    "                inputs, labels = inputs.to(self.device), labels.to(self.device)\n",
    "\n",
    "                self.optimizer.zero_grad()\n",
    "                outputs = self.model(inputs)\n",
    "                loss = self.criterion(outputs, labels)\n",
    "                loss.backward()\n",
    "                self.optimizer.step()\n",
    "                losses.append(float(loss))\n",
    "            \n",
    "            self.model.eval()\n",
    "            val_acc = self.evaluate(loaders.loaderValid)\n",
    "            print(\"Epoch \" + str(epoch) + \", loss = \" + str(sum(losses)/len(losses)) +\\\n",
    "                  \", validation accuracy = \" + str(val_acc))\n",
    "\n",
    "            if val_acc > best_val_acc:\n",
    "                best_val_acc = val_acc\n",
    "                if (model_path):\n",
    "                    torch.save(self.model.state_dict(), model_path)\n",
    "        print(\"Final validation accuracy = \" + str(val_acc) + \", best = \" + str(best_val_acc))\n",
    "        return val_acc, best_val_acc\n",
    "\n",
    "    def load(self, path):\n",
    "        self.model.load_state_dict(torch.load(path, weights_only=True))"
   ]
  },
  {
   "cell_type": "code",
   "execution_count": 13,
   "metadata": {},
   "outputs": [],
   "source": [
    "# The function below is the basis of how the autograder tests your code. Try to understand this one."
   ]
  },
  {
   "cell_type": "code",
   "execution_count": 14,
   "metadata": {},
   "outputs": [],
   "source": [
    "def test(waveforms, labels, feature_func, classifier, learning_rate, path):\n",
    "    print(\"Extracting features...\")\n",
    "    test_loaders = Loaders(waveforms, labels, feature_func)\n",
    "    test_pipeline = Pipeline(classifier, learning_rate)\n",
    "    \n",
    "    # Note: the autograder will not run this line: it will just load your saved model (next line)\n",
    "    acc, best_acc = test_pipeline.train(test_loaders, 20, path)\n",
    "    \n",
    "    test_pipeline.load(path)\n",
    "    test_acc = test_pipeline.evaluate(test_loaders.loaderTest)\n",
    "    print(\"Test accuracy = \" + str(test_acc))"
   ]
  },
  {
   "cell_type": "code",
   "execution_count": 15,
   "metadata": {},
   "outputs": [],
   "source": [
    "def test2(waveforms, labels, feature_func, classifier, learning_rate, path):\n",
    "    print(\"Extracting features...\")\n",
    "    test_loaders = Loaders(waveforms, labels, feature_func)\n",
    "    test_pipeline = Pipeline(classifier, learning_rate)\n",
    "    \n",
    "    # Note: the autograder will not run this line: it will just load your saved model (next line)\n",
    "    acc, best_acc = test_pipeline.train(test_loaders, 10, path)\n",
    "    \n",
    "    test_pipeline.load(path)\n",
    "    test_acc = test_pipeline.evaluate(test_loaders.loaderTest)\n",
    "    print(\"Test accuracy = \" + str(test_acc))"
   ]
  },
  {
   "cell_type": "code",
   "execution_count": 16,
   "metadata": {},
   "outputs": [
    {
     "name": "stdout",
     "output_type": "stream",
     "text": [
      "Extracting features...\n",
      "Epoch 0, loss = 0.8085838490062289, validation accuracy = 0.7154471544715447\n",
      "Epoch 1, loss = 0.24131055445306832, validation accuracy = 0.7560975609756098\n",
      "Epoch 2, loss = 0.1293597628052036, validation accuracy = 0.4796747967479675\n",
      "Epoch 3, loss = 0.08542136651360327, validation accuracy = 0.4796747967479675\n",
      "Epoch 4, loss = 0.055580574838030666, validation accuracy = 0.4796747967479675\n",
      "Epoch 5, loss = 0.03855626753324436, validation accuracy = 1.0\n",
      "Epoch 6, loss = 0.029594562883074913, validation accuracy = 1.0\n",
      "Epoch 7, loss = 0.02510577128527479, validation accuracy = 1.0\n",
      "Epoch 8, loss = 0.020592547125286527, validation accuracy = 1.0\n",
      "Epoch 9, loss = 0.014905108999098755, validation accuracy = 0.983739837398374\n",
      "Final validation accuracy = 0.983739837398374, best = 1.0\n",
      "Test accuracy = 1.0\n"
     ]
    }
   ],
   "source": [
    "test2(homework2.waveforms,\n",
    "     homework2.labels,\n",
    "     homework2.extract_spec,\n",
    "     homework2.SimpleCNN(),\n",
    "     0.003,\n",
    "     \"best_spec_model.weights\")"
   ]
  }
 ],
 "metadata": {
  "kernelspec": {
   "display_name": "torch",
   "language": "python",
   "name": "python3"
  },
  "language_info": {
   "codemirror_mode": {
    "name": "ipython",
    "version": 3
   },
   "file_extension": ".py",
   "mimetype": "text/x-python",
   "name": "python",
   "nbconvert_exporter": "python",
   "pygments_lexer": "ipython3",
   "version": "3.11.10"
  }
 },
 "nbformat": 4,
 "nbformat_minor": 2
}
