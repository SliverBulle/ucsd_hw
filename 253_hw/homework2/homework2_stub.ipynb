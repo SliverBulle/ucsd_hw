{
 "cells": [
  {
   "cell_type": "markdown",
   "id": "82bb727c",
   "metadata": {
    "id": "82bb727c"
   },
   "source": [
    "# Homework 2  \n",
    "\n",
    "The goal of this assignment is experiment with classification pipelines (in this case, for instrument classification) using spectrograms."
   ]
  },
  {
   "cell_type": "code",
   "execution_count": 5,
   "id": "22e9780f",
   "metadata": {
    "id": "22e9780f"
   },
   "outputs": [],
   "source": [
    "# Set this yourself depending where you put the files\n",
    "dataroot = \"/root/code/ucsd_hw/253_hw/homework2/\"\n"
   ]
  },
  {
   "cell_type": "code",
   "execution_count": 6,
   "id": "58eb3564",
   "metadata": {
    "id": "58eb3564"
   },
   "outputs": [
    {
     "name": "stdout",
     "output_type": "stream",
     "text": [
      "Requirement already satisfied: librosa in /root/miniconda3/envs/torch/lib/python3.11/site-packages (0.11.0)\n",
      "Requirement already satisfied: audioread>=2.1.9 in /root/miniconda3/envs/torch/lib/python3.11/site-packages (from librosa) (3.0.1)\n",
      "Requirement already satisfied: numba>=0.51.0 in /root/miniconda3/envs/torch/lib/python3.11/site-packages (from librosa) (0.61.2)\n",
      "Requirement already satisfied: numpy>=1.22.3 in /root/miniconda3/envs/torch/lib/python3.11/site-packages (from librosa) (1.26.4)\n",
      "Requirement already satisfied: scipy>=1.6.0 in /root/miniconda3/envs/torch/lib/python3.11/site-packages (from librosa) (1.13.1)\n",
      "Requirement already satisfied: scikit-learn>=1.1.0 in /root/miniconda3/envs/torch/lib/python3.11/site-packages (from librosa) (1.5.1)\n",
      "Requirement already satisfied: joblib>=1.0 in /root/miniconda3/envs/torch/lib/python3.11/site-packages (from librosa) (1.4.2)\n",
      "Requirement already satisfied: decorator>=4.3.0 in /root/miniconda3/envs/torch/lib/python3.11/site-packages (from librosa) (5.1.1)\n",
      "Requirement already satisfied: soundfile>=0.12.1 in /root/miniconda3/envs/torch/lib/python3.11/site-packages (from librosa) (0.13.1)\n",
      "Requirement already satisfied: pooch>=1.1 in /root/miniconda3/envs/torch/lib/python3.11/site-packages (from librosa) (1.8.2)\n",
      "Requirement already satisfied: soxr>=0.3.2 in /root/miniconda3/envs/torch/lib/python3.11/site-packages (from librosa) (0.5.0.post1)\n",
      "Requirement already satisfied: typing_extensions>=4.1.1 in /root/miniconda3/envs/torch/lib/python3.11/site-packages (from librosa) (4.11.0)\n",
      "Requirement already satisfied: lazy_loader>=0.1 in /root/miniconda3/envs/torch/lib/python3.11/site-packages (from librosa) (0.4)\n",
      "Requirement already satisfied: msgpack>=1.0 in /root/miniconda3/envs/torch/lib/python3.11/site-packages (from librosa) (1.1.0)\n",
      "Requirement already satisfied: packaging in /root/miniconda3/envs/torch/lib/python3.11/site-packages (from lazy_loader>=0.1->librosa) (24.1)\n",
      "Requirement already satisfied: llvmlite<0.45,>=0.44.0dev0 in /root/miniconda3/envs/torch/lib/python3.11/site-packages (from numba>=0.51.0->librosa) (0.44.0)\n",
      "Requirement already satisfied: platformdirs>=2.5.0 in /root/miniconda3/envs/torch/lib/python3.11/site-packages (from pooch>=1.1->librosa) (4.3.6)\n",
      "Requirement already satisfied: requests>=2.19.0 in /root/miniconda3/envs/torch/lib/python3.11/site-packages (from pooch>=1.1->librosa) (2.32.3)\n",
      "Requirement already satisfied: threadpoolctl>=3.1.0 in /root/miniconda3/envs/torch/lib/python3.11/site-packages (from scikit-learn>=1.1.0->librosa) (3.5.0)\n",
      "Requirement already satisfied: cffi>=1.0 in /root/miniconda3/envs/torch/lib/python3.11/site-packages (from soundfile>=0.12.1->librosa) (1.17.1)\n",
      "Requirement already satisfied: pycparser in /root/miniconda3/envs/torch/lib/python3.11/site-packages (from cffi>=1.0->soundfile>=0.12.1->librosa) (2.22)\n",
      "Requirement already satisfied: charset-normalizer<4,>=2 in /root/miniconda3/envs/torch/lib/python3.11/site-packages (from requests>=2.19.0->pooch>=1.1->librosa) (3.3.2)\n",
      "Requirement already satisfied: idna<4,>=2.5 in /root/miniconda3/envs/torch/lib/python3.11/site-packages (from requests>=2.19.0->pooch>=1.1->librosa) (3.7)\n",
      "Requirement already satisfied: urllib3<3,>=1.21.1 in /root/miniconda3/envs/torch/lib/python3.11/site-packages (from requests>=2.19.0->pooch>=1.1->librosa) (2.2.3)\n",
      "Requirement already satisfied: certifi>=2017.4.17 in /root/miniconda3/envs/torch/lib/python3.11/site-packages (from requests>=2.19.0->pooch>=1.1->librosa) (2024.8.30)\n",
      "\u001b[33mWARNING: Running pip as the 'root' user can result in broken permissions and conflicting behaviour with the system package manager, possibly rendering your system unusable.It is recommended to use a virtual environment instead: https://pip.pypa.io/warnings/venv. Use the --root-user-action option if you know what you are doing and want to suppress this warning.\u001b[0m\u001b[33m\n",
      "\u001b[0m"
     ]
    }
   ],
   "source": [
    "!pip install librosa\n",
    "# !pip install torch\n",
    "# !pip install glob\n",
    "# !pip install numpy"
   ]
  },
  {
   "cell_type": "code",
   "execution_count": 7,
   "id": "0b490c05",
   "metadata": {
    "id": "0b490c05"
   },
   "outputs": [],
   "source": [
    "import torch\n",
    "import torch.nn as nn\n",
    "import torch.nn.functional as nnF\n",
    "import torch.optim as optim\n",
    "from torch.utils.data import Dataset, DataLoader\n",
    "import numpy as np\n",
    "import librosa\n",
    "import random\n",
    "import glob\n",
    "import os"
   ]
  },
  {
   "cell_type": "code",
   "execution_count": 8,
   "id": "884745cd",
   "metadata": {
    "id": "884745cd"
   },
   "outputs": [],
   "source": [
    "torch.use_deterministic_algorithms(True) # Try to make things less random, though not required"
   ]
  },
  {
   "cell_type": "code",
   "execution_count": 9,
   "id": "55a5f028",
   "metadata": {
    "id": "55a5f028"
   },
   "outputs": [
    {
     "name": "stdout",
     "output_type": "stream",
     "text": [
      "['/root/code/ucsd_hw/253_hw/homework2//nsynth_subset/guitar_acoustic_021-101-050.wav', '/root/code/ucsd_hw/253_hw/homework2//nsynth_subset/guitar_acoustic_015-077-050.wav', '/root/code/ucsd_hw/253_hw/homework2//nsynth_subset/guitar_acoustic_014-054-075.wav', '/root/code/ucsd_hw/253_hw/homework2//nsynth_subset/vocal_synthetic_003-024-100.wav', '/root/code/ucsd_hw/253_hw/homework2//nsynth_subset/guitar_acoustic_021-085-100.wav', '/root/code/ucsd_hw/253_hw/homework2//nsynth_subset/vocal_synthetic_003-046-075.wav', '/root/code/ucsd_hw/253_hw/homework2//nsynth_subset/guitar_acoustic_010-066-127.wav', '/root/code/ucsd_hw/253_hw/homework2//nsynth_subset/guitar_electronic_022-083-100.wav', '/root/code/ucsd_hw/253_hw/homework2//nsynth_subset/guitar_acoustic_010-073-127.wav', '/root/code/ucsd_hw/253_hw/homework2//nsynth_subset/guitar_electronic_022-077-075.wav', '/root/code/ucsd_hw/253_hw/homework2//nsynth_subset/guitar_acoustic_010-083-127.wav', '/root/code/ucsd_hw/253_hw/homework2//nsynth_subset/vocal_acoustic_000-053-075.wav', '/root/code/ucsd_hw/253_hw/homework2//nsynth_subset/vocal_synthetic_003-053-100.wav', '/root/code/ucsd_hw/253_hw/homework2//nsynth_subset/guitar_acoustic_015-085-100.wav', '/root/code/ucsd_hw/253_hw/homework2//nsynth_subset/guitar_electronic_028-054-127.wav', '/root/code/ucsd_hw/253_hw/homework2//nsynth_subset/vocal_synthetic_003-068-075.wav', '/root/code/ucsd_hw/253_hw/homework2//nsynth_subset/guitar_acoustic_014-106-075.wav', '/root/code/ucsd_hw/253_hw/homework2//nsynth_subset/vocal_synthetic_003-049-025.wav', '/root/code/ucsd_hw/253_hw/homework2//nsynth_subset/vocal_synthetic_003-061-100.wav', '/root/code/ucsd_hw/253_hw/homework2//nsynth_subset/vocal_acoustic_000-050-127.wav', '/root/code/ucsd_hw/253_hw/homework2//nsynth_subset/vocal_synthetic_003-048-100.wav', '/root/code/ucsd_hw/253_hw/homework2//nsynth_subset/vocal_synthetic_003-099-050.wav', '/root/code/ucsd_hw/253_hw/homework2//nsynth_subset/guitar_acoustic_015-076-100.wav', '/root/code/ucsd_hw/253_hw/homework2//nsynth_subset/vocal_synthetic_003-043-075.wav', '/root/code/ucsd_hw/253_hw/homework2//nsynth_subset/guitar_electronic_028-108-075.wav', '/root/code/ucsd_hw/253_hw/homework2//nsynth_subset/vocal_acoustic_000-063-025.wav', '/root/code/ucsd_hw/253_hw/homework2//nsynth_subset/guitar_acoustic_030-091-100.wav', '/root/code/ucsd_hw/253_hw/homework2//nsynth_subset/guitar_acoustic_010-034-075.wav', '/root/code/ucsd_hw/253_hw/homework2//nsynth_subset/guitar_acoustic_014-042-075.wav', '/root/code/ucsd_hw/253_hw/homework2//nsynth_subset/vocal_synthetic_003-076-025.wav', '/root/code/ucsd_hw/253_hw/homework2//nsynth_subset/guitar_acoustic_021-037-127.wav', '/root/code/ucsd_hw/253_hw/homework2//nsynth_subset/guitar_electronic_028-028-025.wav', '/root/code/ucsd_hw/253_hw/homework2//nsynth_subset/vocal_synthetic_003-101-100.wav', '/root/code/ucsd_hw/253_hw/homework2//nsynth_subset/guitar_electronic_028-093-025.wav', '/root/code/ucsd_hw/253_hw/homework2//nsynth_subset/guitar_electronic_028-104-025.wav', '/root/code/ucsd_hw/253_hw/homework2//nsynth_subset/vocal_synthetic_003-102-100.wav', '/root/code/ucsd_hw/253_hw/homework2//nsynth_subset/guitar_acoustic_015-057-075.wav', '/root/code/ucsd_hw/253_hw/homework2//nsynth_subset/guitar_acoustic_014-080-025.wav', '/root/code/ucsd_hw/253_hw/homework2//nsynth_subset/vocal_synthetic_003-087-025.wav', '/root/code/ucsd_hw/253_hw/homework2//nsynth_subset/vocal_acoustic_000-062-100.wav', '/root/code/ucsd_hw/253_hw/homework2//nsynth_subset/guitar_acoustic_014-079-050.wav', '/root/code/ucsd_hw/253_hw/homework2//nsynth_subset/vocal_synthetic_003-077-127.wav', '/root/code/ucsd_hw/253_hw/homework2//nsynth_subset/guitar_electronic_022-088-127.wav', '/root/code/ucsd_hw/253_hw/homework2//nsynth_subset/vocal_acoustic_000-070-025.wav', '/root/code/ucsd_hw/253_hw/homework2//nsynth_subset/guitar_acoustic_021-037-050.wav', '/root/code/ucsd_hw/253_hw/homework2//nsynth_subset/vocal_synthetic_003-037-075.wav', '/root/code/ucsd_hw/253_hw/homework2//nsynth_subset/guitar_acoustic_021-095-025.wav', '/root/code/ucsd_hw/253_hw/homework2//nsynth_subset/vocal_acoustic_000-059-075.wav', '/root/code/ucsd_hw/253_hw/homework2//nsynth_subset/vocal_synthetic_003-070-050.wav', '/root/code/ucsd_hw/253_hw/homework2//nsynth_subset/vocal_synthetic_003-084-100.wav', '/root/code/ucsd_hw/253_hw/homework2//nsynth_subset/vocal_acoustic_000-053-100.wav', '/root/code/ucsd_hw/253_hw/homework2//nsynth_subset/guitar_acoustic_010-074-127.wav', '/root/code/ucsd_hw/253_hw/homework2//nsynth_subset/vocal_synthetic_003-035-100.wav', '/root/code/ucsd_hw/253_hw/homework2//nsynth_subset/guitar_acoustic_021-047-075.wav', '/root/code/ucsd_hw/253_hw/homework2//nsynth_subset/vocal_synthetic_003-044-025.wav', '/root/code/ucsd_hw/253_hw/homework2//nsynth_subset/guitar_acoustic_015-030-025.wav', '/root/code/ucsd_hw/253_hw/homework2//nsynth_subset/guitar_acoustic_014-097-025.wav', '/root/code/ucsd_hw/253_hw/homework2//nsynth_subset/vocal_synthetic_003-059-050.wav', '/root/code/ucsd_hw/253_hw/homework2//nsynth_subset/vocal_synthetic_003-088-075.wav', '/root/code/ucsd_hw/253_hw/homework2//nsynth_subset/guitar_acoustic_010-092-100.wav', '/root/code/ucsd_hw/253_hw/homework2//nsynth_subset/guitar_electronic_028-094-025.wav', '/root/code/ucsd_hw/253_hw/homework2//nsynth_subset/vocal_synthetic_003-043-050.wav', '/root/code/ucsd_hw/253_hw/homework2//nsynth_subset/guitar_electronic_022-067-075.wav', '/root/code/ucsd_hw/253_hw/homework2//nsynth_subset/guitar_acoustic_030-072-075.wav', '/root/code/ucsd_hw/253_hw/homework2//nsynth_subset/guitar_acoustic_010-081-127.wav', '/root/code/ucsd_hw/253_hw/homework2//nsynth_subset/guitar_acoustic_015-107-025.wav', '/root/code/ucsd_hw/253_hw/homework2//nsynth_subset/vocal_synthetic_003-076-100.wav', '/root/code/ucsd_hw/253_hw/homework2//nsynth_subset/guitar_acoustic_015-058-100.wav', '/root/code/ucsd_hw/253_hw/homework2//nsynth_subset/guitar_electronic_028-089-075.wav', '/root/code/ucsd_hw/253_hw/homework2//nsynth_subset/vocal_synthetic_003-107-025.wav', '/root/code/ucsd_hw/253_hw/homework2//nsynth_subset/vocal_acoustic_000-070-100.wav', '/root/code/ucsd_hw/253_hw/homework2//nsynth_subset/vocal_synthetic_003-086-025.wav', '/root/code/ucsd_hw/253_hw/homework2//nsynth_subset/guitar_acoustic_030-085-025.wav', '/root/code/ucsd_hw/253_hw/homework2//nsynth_subset/vocal_synthetic_003-060-050.wav', '/root/code/ucsd_hw/253_hw/homework2//nsynth_subset/guitar_acoustic_021-029-050.wav', '/root/code/ucsd_hw/253_hw/homework2//nsynth_subset/vocal_acoustic_000-063-075.wav', '/root/code/ucsd_hw/253_hw/homework2//nsynth_subset/vocal_synthetic_003-023-025.wav', '/root/code/ucsd_hw/253_hw/homework2//nsynth_subset/vocal_synthetic_003-102-050.wav', '/root/code/ucsd_hw/253_hw/homework2//nsynth_subset/guitar_acoustic_014-072-127.wav', '/root/code/ucsd_hw/253_hw/homework2//nsynth_subset/guitar_acoustic_014-068-025.wav', '/root/code/ucsd_hw/253_hw/homework2//nsynth_subset/guitar_acoustic_021-097-127.wav', '/root/code/ucsd_hw/253_hw/homework2//nsynth_subset/guitar_electronic_022-073-050.wav', '/root/code/ucsd_hw/253_hw/homework2//nsynth_subset/vocal_synthetic_003-044-075.wav', '/root/code/ucsd_hw/253_hw/homework2//nsynth_subset/guitar_electronic_028-045-100.wav', '/root/code/ucsd_hw/253_hw/homework2//nsynth_subset/vocal_acoustic_000-050-100.wav', '/root/code/ucsd_hw/253_hw/homework2//nsynth_subset/vocal_synthetic_003-075-075.wav', '/root/code/ucsd_hw/253_hw/homework2//nsynth_subset/guitar_electronic_028-026-075.wav', '/root/code/ucsd_hw/253_hw/homework2//nsynth_subset/vocal_acoustic_000-056-100.wav', '/root/code/ucsd_hw/253_hw/homework2//nsynth_subset/vocal_synthetic_003-028-127.wav', '/root/code/ucsd_hw/253_hw/homework2//nsynth_subset/vocal_synthetic_003-030-025.wav', '/root/code/ucsd_hw/253_hw/homework2//nsynth_subset/vocal_synthetic_003-047-075.wav', '/root/code/ucsd_hw/253_hw/homework2//nsynth_subset/vocal_synthetic_003-107-075.wav', '/root/code/ucsd_hw/253_hw/homework2//nsynth_subset/vocal_acoustic_000-066-075.wav', '/root/code/ucsd_hw/253_hw/homework2//nsynth_subset/vocal_synthetic_003-061-050.wav', '/root/code/ucsd_hw/253_hw/homework2//nsynth_subset/guitar_acoustic_010-035-050.wav', '/root/code/ucsd_hw/253_hw/homework2//nsynth_subset/guitar_electronic_028-070-075.wav', '/root/code/ucsd_hw/253_hw/homework2//nsynth_subset/guitar_electronic_028-104-050.wav', '/root/code/ucsd_hw/253_hw/homework2//nsynth_subset/vocal_acoustic_000-070-050.wav', '/root/code/ucsd_hw/253_hw/homework2//nsynth_subset/vocal_synthetic_003-051-050.wav', '/root/code/ucsd_hw/253_hw/homework2//nsynth_subset/guitar_acoustic_015-106-050.wav', '/root/code/ucsd_hw/253_hw/homework2//nsynth_subset/guitar_acoustic_010-025-050.wav', '/root/code/ucsd_hw/253_hw/homework2//nsynth_subset/guitar_acoustic_014-047-025.wav', '/root/code/ucsd_hw/253_hw/homework2//nsynth_subset/guitar_acoustic_010-106-127.wav', '/root/code/ucsd_hw/253_hw/homework2//nsynth_subset/guitar_electronic_022-039-100.wav', '/root/code/ucsd_hw/253_hw/homework2//nsynth_subset/guitar_electronic_022-084-100.wav', '/root/code/ucsd_hw/253_hw/homework2//nsynth_subset/vocal_synthetic_003-083-100.wav', '/root/code/ucsd_hw/253_hw/homework2//nsynth_subset/guitar_acoustic_014-084-075.wav', '/root/code/ucsd_hw/253_hw/homework2//nsynth_subset/vocal_synthetic_003-075-100.wav', '/root/code/ucsd_hw/253_hw/homework2//nsynth_subset/guitar_acoustic_030-050-025.wav', '/root/code/ucsd_hw/253_hw/homework2//nsynth_subset/guitar_acoustic_021-072-025.wav', '/root/code/ucsd_hw/253_hw/homework2//nsynth_subset/guitar_electronic_028-035-127.wav', '/root/code/ucsd_hw/253_hw/homework2//nsynth_subset/vocal_acoustic_000-052-025.wav', '/root/code/ucsd_hw/253_hw/homework2//nsynth_subset/vocal_synthetic_003-024-075.wav', '/root/code/ucsd_hw/253_hw/homework2//nsynth_subset/vocal_synthetic_003-106-050.wav', '/root/code/ucsd_hw/253_hw/homework2//nsynth_subset/guitar_electronic_028-077-025.wav', '/root/code/ucsd_hw/253_hw/homework2//nsynth_subset/guitar_electronic_022-040-075.wav', '/root/code/ucsd_hw/253_hw/homework2//nsynth_subset/guitar_acoustic_010-061-050.wav', '/root/code/ucsd_hw/253_hw/homework2//nsynth_subset/guitar_acoustic_010-068-025.wav', '/root/code/ucsd_hw/253_hw/homework2//nsynth_subset/vocal_synthetic_003-104-100.wav', '/root/code/ucsd_hw/253_hw/homework2//nsynth_subset/vocal_synthetic_003-081-100.wav', '/root/code/ucsd_hw/253_hw/homework2//nsynth_subset/guitar_acoustic_015-042-100.wav', '/root/code/ucsd_hw/253_hw/homework2//nsynth_subset/guitar_acoustic_030-044-025.wav', '/root/code/ucsd_hw/253_hw/homework2//nsynth_subset/vocal_synthetic_003-022-075.wav', '/root/code/ucsd_hw/253_hw/homework2//nsynth_subset/guitar_acoustic_015-091-050.wav', '/root/code/ucsd_hw/253_hw/homework2//nsynth_subset/vocal_synthetic_003-100-025.wav', '/root/code/ucsd_hw/253_hw/homework2//nsynth_subset/guitar_acoustic_030-036-050.wav', '/root/code/ucsd_hw/253_hw/homework2//nsynth_subset/guitar_acoustic_030-045-127.wav', '/root/code/ucsd_hw/253_hw/homework2//nsynth_subset/guitar_electronic_022-053-100.wav', '/root/code/ucsd_hw/253_hw/homework2//nsynth_subset/guitar_electronic_028-079-100.wav', '/root/code/ucsd_hw/253_hw/homework2//nsynth_subset/vocal_synthetic_003-026-025.wav', '/root/code/ucsd_hw/253_hw/homework2//nsynth_subset/vocal_synthetic_003-021-025.wav', '/root/code/ucsd_hw/253_hw/homework2//nsynth_subset/vocal_synthetic_003-073-100.wav', '/root/code/ucsd_hw/253_hw/homework2//nsynth_subset/vocal_synthetic_003-106-100.wav', '/root/code/ucsd_hw/253_hw/homework2//nsynth_subset/guitar_acoustic_015-103-075.wav', '/root/code/ucsd_hw/253_hw/homework2//nsynth_subset/vocal_synthetic_003-107-100.wav', '/root/code/ucsd_hw/253_hw/homework2//nsynth_subset/vocal_synthetic_003-030-050.wav', '/root/code/ucsd_hw/253_hw/homework2//nsynth_subset/guitar_acoustic_010-053-127.wav', '/root/code/ucsd_hw/253_hw/homework2//nsynth_subset/vocal_synthetic_003-025-100.wav', '/root/code/ucsd_hw/253_hw/homework2//nsynth_subset/vocal_synthetic_003-079-100.wav', '/root/code/ucsd_hw/253_hw/homework2//nsynth_subset/guitar_electronic_022-032-050.wav', '/root/code/ucsd_hw/253_hw/homework2//nsynth_subset/vocal_synthetic_003-093-127.wav', '/root/code/ucsd_hw/253_hw/homework2//nsynth_subset/vocal_synthetic_003-086-075.wav', '/root/code/ucsd_hw/253_hw/homework2//nsynth_subset/guitar_acoustic_010-061-075.wav', '/root/code/ucsd_hw/253_hw/homework2//nsynth_subset/guitar_acoustic_014-085-075.wav', '/root/code/ucsd_hw/253_hw/homework2//nsynth_subset/guitar_acoustic_030-041-127.wav', '/root/code/ucsd_hw/253_hw/homework2//nsynth_subset/guitar_acoustic_015-094-075.wav', '/root/code/ucsd_hw/253_hw/homework2//nsynth_subset/guitar_electronic_028-106-075.wav', '/root/code/ucsd_hw/253_hw/homework2//nsynth_subset/guitar_acoustic_021-064-025.wav', '/root/code/ucsd_hw/253_hw/homework2//nsynth_subset/vocal_synthetic_003-053-127.wav', '/root/code/ucsd_hw/253_hw/homework2//nsynth_subset/guitar_electronic_028-064-075.wav', '/root/code/ucsd_hw/253_hw/homework2//nsynth_subset/vocal_synthetic_003-065-075.wav', '/root/code/ucsd_hw/253_hw/homework2//nsynth_subset/vocal_synthetic_003-027-127.wav', '/root/code/ucsd_hw/253_hw/homework2//nsynth_subset/vocal_synthetic_003-039-075.wav', '/root/code/ucsd_hw/253_hw/homework2//nsynth_subset/vocal_synthetic_003-053-025.wav', '/root/code/ucsd_hw/253_hw/homework2//nsynth_subset/guitar_acoustic_014-050-075.wav', '/root/code/ucsd_hw/253_hw/homework2//nsynth_subset/guitar_electronic_028-055-025.wav', '/root/code/ucsd_hw/253_hw/homework2//nsynth_subset/guitar_acoustic_014-041-100.wav', '/root/code/ucsd_hw/253_hw/homework2//nsynth_subset/guitar_acoustic_010-062-025.wav', '/root/code/ucsd_hw/253_hw/homework2//nsynth_subset/vocal_synthetic_003-031-127.wav', '/root/code/ucsd_hw/253_hw/homework2//nsynth_subset/vocal_acoustic_000-066-100.wav', '/root/code/ucsd_hw/253_hw/homework2//nsynth_subset/guitar_acoustic_030-078-127.wav', '/root/code/ucsd_hw/253_hw/homework2//nsynth_subset/guitar_acoustic_015-047-050.wav', '/root/code/ucsd_hw/253_hw/homework2//nsynth_subset/vocal_synthetic_003-055-025.wav', '/root/code/ucsd_hw/253_hw/homework2//nsynth_subset/vocal_synthetic_003-031-075.wav', '/root/code/ucsd_hw/253_hw/homework2//nsynth_subset/guitar_acoustic_030-098-050.wav', '/root/code/ucsd_hw/253_hw/homework2//nsynth_subset/guitar_acoustic_010-107-050.wav', '/root/code/ucsd_hw/253_hw/homework2//nsynth_subset/vocal_acoustic_000-062-050.wav', '/root/code/ucsd_hw/253_hw/homework2//nsynth_subset/vocal_synthetic_003-065-025.wav', '/root/code/ucsd_hw/253_hw/homework2//nsynth_subset/vocal_synthetic_003-046-100.wav', '/root/code/ucsd_hw/253_hw/homework2//nsynth_subset/guitar_acoustic_014-067-075.wav', '/root/code/ucsd_hw/253_hw/homework2//nsynth_subset/guitar_acoustic_030-102-075.wav', '/root/code/ucsd_hw/253_hw/homework2//nsynth_subset/guitar_acoustic_015-029-100.wav', '/root/code/ucsd_hw/253_hw/homework2//nsynth_subset/guitar_acoustic_015-060-127.wav', '/root/code/ucsd_hw/253_hw/homework2//nsynth_subset/guitar_electronic_022-083-025.wav', '/root/code/ucsd_hw/253_hw/homework2//nsynth_subset/guitar_acoustic_015-084-050.wav', '/root/code/ucsd_hw/253_hw/homework2//nsynth_subset/guitar_acoustic_014-049-100.wav', '/root/code/ucsd_hw/253_hw/homework2//nsynth_subset/vocal_synthetic_003-077-050.wav', '/root/code/ucsd_hw/253_hw/homework2//nsynth_subset/guitar_acoustic_010-058-100.wav', '/root/code/ucsd_hw/253_hw/homework2//nsynth_subset/guitar_acoustic_015-091-075.wav', '/root/code/ucsd_hw/253_hw/homework2//nsynth_subset/guitar_acoustic_030-035-127.wav', '/root/code/ucsd_hw/253_hw/homework2//nsynth_subset/guitar_acoustic_030-063-050.wav', '/root/code/ucsd_hw/253_hw/homework2//nsynth_subset/guitar_acoustic_010-086-100.wav', '/root/code/ucsd_hw/253_hw/homework2//nsynth_subset/vocal_acoustic_000-058-075.wav', '/root/code/ucsd_hw/253_hw/homework2//nsynth_subset/vocal_synthetic_003-028-075.wav', '/root/code/ucsd_hw/253_hw/homework2//nsynth_subset/guitar_acoustic_021-105-075.wav', '/root/code/ucsd_hw/253_hw/homework2//nsynth_subset/guitar_electronic_028-043-127.wav', '/root/code/ucsd_hw/253_hw/homework2//nsynth_subset/guitar_acoustic_015-063-100.wav', '/root/code/ucsd_hw/253_hw/homework2//nsynth_subset/guitar_acoustic_021-088-025.wav', '/root/code/ucsd_hw/253_hw/homework2//nsynth_subset/guitar_electronic_022-043-127.wav', '/root/code/ucsd_hw/253_hw/homework2//nsynth_subset/guitar_electronic_028-106-050.wav', '/root/code/ucsd_hw/253_hw/homework2//nsynth_subset/guitar_acoustic_030-058-127.wav', '/root/code/ucsd_hw/253_hw/homework2//nsynth_subset/vocal_acoustic_000-057-050.wav', '/root/code/ucsd_hw/253_hw/homework2//nsynth_subset/vocal_synthetic_003-097-025.wav', '/root/code/ucsd_hw/253_hw/homework2//nsynth_subset/guitar_acoustic_010-063-075.wav', '/root/code/ucsd_hw/253_hw/homework2//nsynth_subset/vocal_synthetic_003-026-075.wav', '/root/code/ucsd_hw/253_hw/homework2//nsynth_subset/vocal_synthetic_003-061-075.wav', '/root/code/ucsd_hw/253_hw/homework2//nsynth_subset/vocal_synthetic_003-088-050.wav', '/root/code/ucsd_hw/253_hw/homework2//nsynth_subset/guitar_acoustic_021-066-025.wav', '/root/code/ucsd_hw/253_hw/homework2//nsynth_subset/guitar_acoustic_010-033-025.wav', '/root/code/ucsd_hw/253_hw/homework2//nsynth_subset/vocal_synthetic_003-072-075.wav', '/root/code/ucsd_hw/253_hw/homework2//nsynth_subset/guitar_acoustic_015-101-050.wav', '/root/code/ucsd_hw/253_hw/homework2//nsynth_subset/vocal_synthetic_003-098-075.wav', '/root/code/ucsd_hw/253_hw/homework2//nsynth_subset/vocal_acoustic_000-050-075.wav', '/root/code/ucsd_hw/253_hw/homework2//nsynth_subset/guitar_acoustic_014-088-100.wav', '/root/code/ucsd_hw/253_hw/homework2//nsynth_subset/vocal_synthetic_003-059-025.wav', '/root/code/ucsd_hw/253_hw/homework2//nsynth_subset/guitar_acoustic_014-023-100.wav', '/root/code/ucsd_hw/253_hw/homework2//nsynth_subset/vocal_acoustic_000-052-100.wav', '/root/code/ucsd_hw/253_hw/homework2//nsynth_subset/guitar_electronic_022-040-100.wav', '/root/code/ucsd_hw/253_hw/homework2//nsynth_subset/guitar_acoustic_021-074-050.wav', '/root/code/ucsd_hw/253_hw/homework2//nsynth_subset/guitar_acoustic_015-052-050.wav', '/root/code/ucsd_hw/253_hw/homework2//nsynth_subset/vocal_synthetic_003-080-075.wav', '/root/code/ucsd_hw/253_hw/homework2//nsynth_subset/guitar_acoustic_030-058-100.wav', '/root/code/ucsd_hw/253_hw/homework2//nsynth_subset/guitar_acoustic_021-064-075.wav', '/root/code/ucsd_hw/253_hw/homework2//nsynth_subset/vocal_synthetic_003-077-100.wav', '/root/code/ucsd_hw/253_hw/homework2//nsynth_subset/guitar_acoustic_021-078-100.wav', '/root/code/ucsd_hw/253_hw/homework2//nsynth_subset/guitar_acoustic_030-100-100.wav', '/root/code/ucsd_hw/253_hw/homework2//nsynth_subset/guitar_acoustic_021-096-127.wav', '/root/code/ucsd_hw/253_hw/homework2//nsynth_subset/vocal_synthetic_003-067-050.wav', '/root/code/ucsd_hw/253_hw/homework2//nsynth_subset/guitar_acoustic_021-060-025.wav', '/root/code/ucsd_hw/253_hw/homework2//nsynth_subset/vocal_synthetic_003-025-050.wav', '/root/code/ucsd_hw/253_hw/homework2//nsynth_subset/vocal_synthetic_003-078-050.wav', '/root/code/ucsd_hw/253_hw/homework2//nsynth_subset/guitar_acoustic_010-021-050.wav', '/root/code/ucsd_hw/253_hw/homework2//nsynth_subset/guitar_acoustic_014-061-075.wav', '/root/code/ucsd_hw/253_hw/homework2//nsynth_subset/vocal_synthetic_003-062-100.wav', '/root/code/ucsd_hw/253_hw/homework2//nsynth_subset/vocal_synthetic_003-052-025.wav', '/root/code/ucsd_hw/253_hw/homework2//nsynth_subset/vocal_synthetic_003-054-075.wav', '/root/code/ucsd_hw/253_hw/homework2//nsynth_subset/vocal_synthetic_003-035-025.wav', '/root/code/ucsd_hw/253_hw/homework2//nsynth_subset/vocal_acoustic_000-055-050.wav', '/root/code/ucsd_hw/253_hw/homework2//nsynth_subset/guitar_acoustic_010-099-025.wav', '/root/code/ucsd_hw/253_hw/homework2//nsynth_subset/vocal_acoustic_000-055-100.wav', '/root/code/ucsd_hw/253_hw/homework2//nsynth_subset/guitar_electronic_028-031-050.wav', '/root/code/ucsd_hw/253_hw/homework2//nsynth_subset/vocal_acoustic_000-067-025.wav', '/root/code/ucsd_hw/253_hw/homework2//nsynth_subset/vocal_acoustic_000-061-050.wav', '/root/code/ucsd_hw/253_hw/homework2//nsynth_subset/vocal_synthetic_003-097-050.wav', '/root/code/ucsd_hw/253_hw/homework2//nsynth_subset/vocal_synthetic_003-064-075.wav', '/root/code/ucsd_hw/253_hw/homework2//nsynth_subset/guitar_acoustic_015-087-050.wav', '/root/code/ucsd_hw/253_hw/homework2//nsynth_subset/guitar_acoustic_015-033-127.wav', '/root/code/ucsd_hw/253_hw/homework2//nsynth_subset/vocal_synthetic_003-092-075.wav', '/root/code/ucsd_hw/253_hw/homework2//nsynth_subset/guitar_electronic_022-059-025.wav', '/root/code/ucsd_hw/253_hw/homework2//nsynth_subset/guitar_acoustic_015-086-100.wav', '/root/code/ucsd_hw/253_hw/homework2//nsynth_subset/vocal_synthetic_003-096-025.wav', '/root/code/ucsd_hw/253_hw/homework2//nsynth_subset/vocal_acoustic_000-058-050.wav', '/root/code/ucsd_hw/253_hw/homework2//nsynth_subset/guitar_acoustic_030-055-075.wav', '/root/code/ucsd_hw/253_hw/homework2//nsynth_subset/vocal_acoustic_000-059-050.wav', '/root/code/ucsd_hw/253_hw/homework2//nsynth_subset/guitar_acoustic_015-097-075.wav', '/root/code/ucsd_hw/253_hw/homework2//nsynth_subset/guitar_electronic_022-088-025.wav', '/root/code/ucsd_hw/253_hw/homework2//nsynth_subset/guitar_acoustic_010-097-075.wav', '/root/code/ucsd_hw/253_hw/homework2//nsynth_subset/guitar_electronic_028-102-075.wav', '/root/code/ucsd_hw/253_hw/homework2//nsynth_subset/vocal_synthetic_003-070-025.wav', '/root/code/ucsd_hw/253_hw/homework2//nsynth_subset/guitar_acoustic_015-106-127.wav', '/root/code/ucsd_hw/253_hw/homework2//nsynth_subset/vocal_synthetic_003-057-050.wav', '/root/code/ucsd_hw/253_hw/homework2//nsynth_subset/vocal_synthetic_003-101-075.wav', '/root/code/ucsd_hw/253_hw/homework2//nsynth_subset/vocal_synthetic_003-069-025.wav', '/root/code/ucsd_hw/253_hw/homework2//nsynth_subset/vocal_synthetic_003-094-075.wav', '/root/code/ucsd_hw/253_hw/homework2//nsynth_subset/guitar_acoustic_010-022-100.wav', '/root/code/ucsd_hw/253_hw/homework2//nsynth_subset/guitar_electronic_028-051-100.wav', '/root/code/ucsd_hw/253_hw/homework2//nsynth_subset/vocal_synthetic_003-059-075.wav', '/root/code/ucsd_hw/253_hw/homework2//nsynth_subset/vocal_synthetic_003-043-100.wav', '/root/code/ucsd_hw/253_hw/homework2//nsynth_subset/guitar_electronic_028-091-100.wav', '/root/code/ucsd_hw/253_hw/homework2//nsynth_subset/guitar_acoustic_021-037-100.wav', '/root/code/ucsd_hw/253_hw/homework2//nsynth_subset/vocal_synthetic_003-056-025.wav', '/root/code/ucsd_hw/253_hw/homework2//nsynth_subset/guitar_electronic_028-108-100.wav', '/root/code/ucsd_hw/253_hw/homework2//nsynth_subset/guitar_acoustic_015-052-127.wav', '/root/code/ucsd_hw/253_hw/homework2//nsynth_subset/vocal_synthetic_003-090-025.wav', '/root/code/ucsd_hw/253_hw/homework2//nsynth_subset/vocal_acoustic_000-060-127.wav', '/root/code/ucsd_hw/253_hw/homework2//nsynth_subset/vocal_synthetic_003-098-025.wav', '/root/code/ucsd_hw/253_hw/homework2//nsynth_subset/guitar_electronic_022-029-100.wav', '/root/code/ucsd_hw/253_hw/homework2//nsynth_subset/vocal_synthetic_003-051-025.wav', '/root/code/ucsd_hw/253_hw/homework2//nsynth_subset/guitar_electronic_022-039-025.wav', '/root/code/ucsd_hw/253_hw/homework2//nsynth_subset/guitar_electronic_028-058-050.wav', '/root/code/ucsd_hw/253_hw/homework2//nsynth_subset/guitar_acoustic_014-057-050.wav', '/root/code/ucsd_hw/253_hw/homework2//nsynth_subset/vocal_synthetic_003-042-025.wav', '/root/code/ucsd_hw/253_hw/homework2//nsynth_subset/guitar_acoustic_015-037-025.wav', '/root/code/ucsd_hw/253_hw/homework2//nsynth_subset/vocal_synthetic_003-099-075.wav', '/root/code/ucsd_hw/253_hw/homework2//nsynth_subset/vocal_synthetic_003-056-075.wav', '/root/code/ucsd_hw/253_hw/homework2//nsynth_subset/guitar_electronic_022-051-100.wav', '/root/code/ucsd_hw/253_hw/homework2//nsynth_subset/guitar_electronic_028-054-100.wav', '/root/code/ucsd_hw/253_hw/homework2//nsynth_subset/guitar_acoustic_015-095-100.wav', '/root/code/ucsd_hw/253_hw/homework2//nsynth_subset/guitar_acoustic_010-044-075.wav', '/root/code/ucsd_hw/253_hw/homework2//nsynth_subset/guitar_acoustic_014-062-025.wav', '/root/code/ucsd_hw/253_hw/homework2//nsynth_subset/guitar_acoustic_021-105-100.wav', '/root/code/ucsd_hw/253_hw/homework2//nsynth_subset/guitar_acoustic_021-039-100.wav', '/root/code/ucsd_hw/253_hw/homework2//nsynth_subset/vocal_synthetic_003-071-025.wav', '/root/code/ucsd_hw/253_hw/homework2//nsynth_subset/vocal_synthetic_003-106-025.wav', '/root/code/ucsd_hw/253_hw/homework2//nsynth_subset/guitar_acoustic_021-100-127.wav', '/root/code/ucsd_hw/253_hw/homework2//nsynth_subset/guitar_electronic_028-056-050.wav', '/root/code/ucsd_hw/253_hw/homework2//nsynth_subset/vocal_synthetic_003-054-100.wav', '/root/code/ucsd_hw/253_hw/homework2//nsynth_subset/guitar_electronic_028-083-127.wav', '/root/code/ucsd_hw/253_hw/homework2//nsynth_subset/vocal_synthetic_003-032-025.wav', '/root/code/ucsd_hw/253_hw/homework2//nsynth_subset/guitar_acoustic_015-093-025.wav', '/root/code/ucsd_hw/253_hw/homework2//nsynth_subset/guitar_acoustic_014-064-050.wav', '/root/code/ucsd_hw/253_hw/homework2//nsynth_subset/vocal_synthetic_003-034-075.wav', '/root/code/ucsd_hw/253_hw/homework2//nsynth_subset/vocal_acoustic_000-068-127.wav', '/root/code/ucsd_hw/253_hw/homework2//nsynth_subset/vocal_synthetic_003-057-100.wav', '/root/code/ucsd_hw/253_hw/homework2//nsynth_subset/vocal_synthetic_003-098-100.wav', '/root/code/ucsd_hw/253_hw/homework2//nsynth_subset/guitar_electronic_028-040-100.wav', '/root/code/ucsd_hw/253_hw/homework2//nsynth_subset/vocal_synthetic_003-055-075.wav', '/root/code/ucsd_hw/253_hw/homework2//nsynth_subset/guitar_acoustic_010-061-100.wav', '/root/code/ucsd_hw/253_hw/homework2//nsynth_subset/vocal_synthetic_003-052-075.wav', '/root/code/ucsd_hw/253_hw/homework2//nsynth_subset/guitar_acoustic_014-030-127.wav', '/root/code/ucsd_hw/253_hw/homework2//nsynth_subset/guitar_electronic_028-023-025.wav', '/root/code/ucsd_hw/253_hw/homework2//nsynth_subset/guitar_acoustic_010-075-127.wav', '/root/code/ucsd_hw/253_hw/homework2//nsynth_subset/guitar_acoustic_014-072-100.wav', '/root/code/ucsd_hw/253_hw/homework2//nsynth_subset/guitar_acoustic_014-059-025.wav', '/root/code/ucsd_hw/253_hw/homework2//nsynth_subset/vocal_synthetic_003-033-025.wav', '/root/code/ucsd_hw/253_hw/homework2//nsynth_subset/vocal_synthetic_003-052-100.wav', '/root/code/ucsd_hw/253_hw/homework2//nsynth_subset/guitar_acoustic_014-065-025.wav', '/root/code/ucsd_hw/253_hw/homework2//nsynth_subset/vocal_synthetic_003-047-127.wav', '/root/code/ucsd_hw/253_hw/homework2//nsynth_subset/vocal_synthetic_003-067-127.wav', '/root/code/ucsd_hw/253_hw/homework2//nsynth_subset/vocal_acoustic_000-058-100.wav', '/root/code/ucsd_hw/253_hw/homework2//nsynth_subset/guitar_acoustic_010-072-025.wav', '/root/code/ucsd_hw/253_hw/homework2//nsynth_subset/guitar_acoustic_014-040-127.wav', '/root/code/ucsd_hw/253_hw/homework2//nsynth_subset/vocal_synthetic_003-103-075.wav', '/root/code/ucsd_hw/253_hw/homework2//nsynth_subset/guitar_acoustic_030-058-075.wav', '/root/code/ucsd_hw/253_hw/homework2//nsynth_subset/guitar_acoustic_015-100-100.wav', '/root/code/ucsd_hw/253_hw/homework2//nsynth_subset/guitar_acoustic_021-036-025.wav', '/root/code/ucsd_hw/253_hw/homework2//nsynth_subset/vocal_synthetic_003-054-050.wav', '/root/code/ucsd_hw/253_hw/homework2//nsynth_subset/vocal_synthetic_003-037-127.wav', '/root/code/ucsd_hw/253_hw/homework2//nsynth_subset/vocal_synthetic_003-032-100.wav', '/root/code/ucsd_hw/253_hw/homework2//nsynth_subset/guitar_acoustic_014-066-025.wav', '/root/code/ucsd_hw/253_hw/homework2//nsynth_subset/guitar_acoustic_014-103-127.wav', '/root/code/ucsd_hw/253_hw/homework2//nsynth_subset/vocal_synthetic_003-081-025.wav', '/root/code/ucsd_hw/253_hw/homework2//nsynth_subset/vocal_synthetic_003-030-075.wav', '/root/code/ucsd_hw/253_hw/homework2//nsynth_subset/guitar_acoustic_014-037-050.wav', '/root/code/ucsd_hw/253_hw/homework2//nsynth_subset/guitar_acoustic_010-032-075.wav', '/root/code/ucsd_hw/253_hw/homework2//nsynth_subset/vocal_synthetic_003-105-127.wav', '/root/code/ucsd_hw/253_hw/homework2//nsynth_subset/vocal_synthetic_003-089-100.wav', '/root/code/ucsd_hw/253_hw/homework2//nsynth_subset/guitar_acoustic_030-052-100.wav', '/root/code/ucsd_hw/253_hw/homework2//nsynth_subset/guitar_electronic_028-076-075.wav', '/root/code/ucsd_hw/253_hw/homework2//nsynth_subset/guitar_acoustic_010-044-100.wav', '/root/code/ucsd_hw/253_hw/homework2//nsynth_subset/vocal_synthetic_003-073-025.wav', '/root/code/ucsd_hw/253_hw/homework2//nsynth_subset/vocal_synthetic_003-029-100.wav', '/root/code/ucsd_hw/253_hw/homework2//nsynth_subset/vocal_synthetic_003-031-050.wav', '/root/code/ucsd_hw/253_hw/homework2//nsynth_subset/guitar_electronic_028-059-127.wav', '/root/code/ucsd_hw/253_hw/homework2//nsynth_subset/guitar_acoustic_015-075-025.wav', '/root/code/ucsd_hw/253_hw/homework2//nsynth_subset/guitar_acoustic_015-028-100.wav', '/root/code/ucsd_hw/253_hw/homework2//nsynth_subset/guitar_acoustic_010-074-050.wav', '/root/code/ucsd_hw/253_hw/homework2//nsynth_subset/guitar_acoustic_021-031-025.wav', '/root/code/ucsd_hw/253_hw/homework2//nsynth_subset/guitar_acoustic_010-064-025.wav', '/root/code/ucsd_hw/253_hw/homework2//nsynth_subset/guitar_acoustic_021-045-075.wav', '/root/code/ucsd_hw/253_hw/homework2//nsynth_subset/vocal_synthetic_003-074-127.wav', '/root/code/ucsd_hw/253_hw/homework2//nsynth_subset/vocal_synthetic_003-051-127.wav', '/root/code/ucsd_hw/253_hw/homework2//nsynth_subset/guitar_acoustic_021-074-100.wav', '/root/code/ucsd_hw/253_hw/homework2//nsynth_subset/guitar_acoustic_015-024-050.wav', '/root/code/ucsd_hw/253_hw/homework2//nsynth_subset/vocal_synthetic_003-028-050.wav', '/root/code/ucsd_hw/253_hw/homework2//nsynth_subset/guitar_acoustic_010-047-127.wav', '/root/code/ucsd_hw/253_hw/homework2//nsynth_subset/vocal_synthetic_003-069-100.wav', '/root/code/ucsd_hw/253_hw/homework2//nsynth_subset/guitar_electronic_028-100-100.wav', '/root/code/ucsd_hw/253_hw/homework2//nsynth_subset/vocal_synthetic_003-038-100.wav', '/root/code/ucsd_hw/253_hw/homework2//nsynth_subset/vocal_synthetic_003-038-050.wav', '/root/code/ucsd_hw/253_hw/homework2//nsynth_subset/guitar_acoustic_015-023-075.wav', '/root/code/ucsd_hw/253_hw/homework2//nsynth_subset/vocal_acoustic_000-068-075.wav', '/root/code/ucsd_hw/253_hw/homework2//nsynth_subset/guitar_acoustic_010-029-075.wav', '/root/code/ucsd_hw/253_hw/homework2//nsynth_subset/vocal_acoustic_000-051-100.wav', '/root/code/ucsd_hw/253_hw/homework2//nsynth_subset/vocal_acoustic_000-059-025.wav', '/root/code/ucsd_hw/253_hw/homework2//nsynth_subset/guitar_acoustic_010-103-127.wav', '/root/code/ucsd_hw/253_hw/homework2//nsynth_subset/guitar_acoustic_010-069-075.wav', '/root/code/ucsd_hw/253_hw/homework2//nsynth_subset/vocal_synthetic_003-049-127.wav', '/root/code/ucsd_hw/253_hw/homework2//nsynth_subset/vocal_synthetic_003-079-025.wav', '/root/code/ucsd_hw/253_hw/homework2//nsynth_subset/vocal_synthetic_003-047-025.wav', '/root/code/ucsd_hw/253_hw/homework2//nsynth_subset/vocal_acoustic_000-065-025.wav', '/root/code/ucsd_hw/253_hw/homework2//nsynth_subset/guitar_electronic_028-105-127.wav', '/root/code/ucsd_hw/253_hw/homework2//nsynth_subset/guitar_acoustic_015-106-075.wav', '/root/code/ucsd_hw/253_hw/homework2//nsynth_subset/vocal_acoustic_000-062-025.wav', '/root/code/ucsd_hw/253_hw/homework2//nsynth_subset/vocal_synthetic_003-091-050.wav', '/root/code/ucsd_hw/253_hw/homework2//nsynth_subset/guitar_acoustic_030-092-100.wav', '/root/code/ucsd_hw/253_hw/homework2//nsynth_subset/vocal_acoustic_000-069-127.wav', '/root/code/ucsd_hw/253_hw/homework2//nsynth_subset/guitar_acoustic_021-096-075.wav', '/root/code/ucsd_hw/253_hw/homework2//nsynth_subset/vocal_synthetic_003-096-127.wav', '/root/code/ucsd_hw/253_hw/homework2//nsynth_subset/vocal_acoustic_000-069-100.wav', '/root/code/ucsd_hw/253_hw/homework2//nsynth_subset/vocal_acoustic_000-068-100.wav', '/root/code/ucsd_hw/253_hw/homework2//nsynth_subset/vocal_synthetic_003-050-127.wav', '/root/code/ucsd_hw/253_hw/homework2//nsynth_subset/vocal_synthetic_003-062-075.wav', '/root/code/ucsd_hw/253_hw/homework2//nsynth_subset/guitar_electronic_022-083-127.wav', '/root/code/ucsd_hw/253_hw/homework2//nsynth_subset/vocal_synthetic_003-100-075.wav', '/root/code/ucsd_hw/253_hw/homework2//nsynth_subset/vocal_acoustic_000-055-127.wav', '/root/code/ucsd_hw/253_hw/homework2//nsynth_subset/vocal_synthetic_003-103-050.wav', '/root/code/ucsd_hw/253_hw/homework2//nsynth_subset/vocal_synthetic_003-093-050.wav', '/root/code/ucsd_hw/253_hw/homework2//nsynth_subset/vocal_synthetic_003-041-100.wav', '/root/code/ucsd_hw/253_hw/homework2//nsynth_subset/vocal_synthetic_003-026-050.wav', '/root/code/ucsd_hw/253_hw/homework2//nsynth_subset/guitar_acoustic_021-046-127.wav', '/root/code/ucsd_hw/253_hw/homework2//nsynth_subset/guitar_acoustic_021-079-050.wav', '/root/code/ucsd_hw/253_hw/homework2//nsynth_subset/guitar_electronic_022-045-050.wav', '/root/code/ucsd_hw/253_hw/homework2//nsynth_subset/vocal_synthetic_003-022-127.wav', '/root/code/ucsd_hw/253_hw/homework2//nsynth_subset/vocal_acoustic_000-057-100.wav', '/root/code/ucsd_hw/253_hw/homework2//nsynth_subset/vocal_synthetic_003-037-100.wav', '/root/code/ucsd_hw/253_hw/homework2//nsynth_subset/vocal_synthetic_003-036-075.wav', '/root/code/ucsd_hw/253_hw/homework2//nsynth_subset/guitar_electronic_022-029-025.wav', '/root/code/ucsd_hw/253_hw/homework2//nsynth_subset/vocal_synthetic_003-039-100.wav', '/root/code/ucsd_hw/253_hw/homework2//nsynth_subset/vocal_synthetic_003-084-127.wav', '/root/code/ucsd_hw/253_hw/homework2//nsynth_subset/guitar_acoustic_021-059-025.wav', '/root/code/ucsd_hw/253_hw/homework2//nsynth_subset/vocal_acoustic_000-070-127.wav', '/root/code/ucsd_hw/253_hw/homework2//nsynth_subset/guitar_acoustic_030-074-100.wav', '/root/code/ucsd_hw/253_hw/homework2//nsynth_subset/vocal_synthetic_003-067-025.wav', '/root/code/ucsd_hw/253_hw/homework2//nsynth_subset/vocal_acoustic_000-065-075.wav', '/root/code/ucsd_hw/253_hw/homework2//nsynth_subset/guitar_acoustic_021-091-050.wav', '/root/code/ucsd_hw/253_hw/homework2//nsynth_subset/vocal_synthetic_003-057-127.wav', '/root/code/ucsd_hw/253_hw/homework2//nsynth_subset/vocal_synthetic_003-074-075.wav', '/root/code/ucsd_hw/253_hw/homework2//nsynth_subset/guitar_acoustic_015-066-127.wav', '/root/code/ucsd_hw/253_hw/homework2//nsynth_subset/guitar_acoustic_010-021-100.wav', '/root/code/ucsd_hw/253_hw/homework2//nsynth_subset/vocal_synthetic_003-073-075.wav', '/root/code/ucsd_hw/253_hw/homework2//nsynth_subset/vocal_synthetic_003-108-025.wav', '/root/code/ucsd_hw/253_hw/homework2//nsynth_subset/vocal_synthetic_003-102-025.wav', '/root/code/ucsd_hw/253_hw/homework2//nsynth_subset/vocal_synthetic_003-106-127.wav', '/root/code/ucsd_hw/253_hw/homework2//nsynth_subset/vocal_synthetic_003-066-025.wav', '/root/code/ucsd_hw/253_hw/homework2//nsynth_subset/vocal_synthetic_003-031-100.wav', '/root/code/ucsd_hw/253_hw/homework2//nsynth_subset/vocal_synthetic_003-099-025.wav', '/root/code/ucsd_hw/253_hw/homework2//nsynth_subset/vocal_synthetic_003-087-100.wav', '/root/code/ucsd_hw/253_hw/homework2//nsynth_subset/vocal_acoustic_000-062-075.wav', '/root/code/ucsd_hw/253_hw/homework2//nsynth_subset/vocal_synthetic_003-052-127.wav', '/root/code/ucsd_hw/253_hw/homework2//nsynth_subset/vocal_synthetic_003-102-075.wav', '/root/code/ucsd_hw/253_hw/homework2//nsynth_subset/guitar_acoustic_030-096-100.wav', '/root/code/ucsd_hw/253_hw/homework2//nsynth_subset/guitar_acoustic_015-064-050.wav', '/root/code/ucsd_hw/253_hw/homework2//nsynth_subset/vocal_acoustic_000-060-025.wav', '/root/code/ucsd_hw/253_hw/homework2//nsynth_subset/vocal_synthetic_003-024-050.wav', '/root/code/ucsd_hw/253_hw/homework2//nsynth_subset/vocal_synthetic_003-040-025.wav', '/root/code/ucsd_hw/253_hw/homework2//nsynth_subset/vocal_synthetic_003-073-127.wav', '/root/code/ucsd_hw/253_hw/homework2//nsynth_subset/guitar_acoustic_010-041-025.wav', '/root/code/ucsd_hw/253_hw/homework2//nsynth_subset/vocal_synthetic_003-027-025.wav', '/root/code/ucsd_hw/253_hw/homework2//nsynth_subset/vocal_synthetic_003-048-025.wav', '/root/code/ucsd_hw/253_hw/homework2//nsynth_subset/guitar_acoustic_015-053-075.wav', '/root/code/ucsd_hw/253_hw/homework2//nsynth_subset/vocal_acoustic_000-060-100.wav', '/root/code/ucsd_hw/253_hw/homework2//nsynth_subset/vocal_synthetic_003-095-050.wav', '/root/code/ucsd_hw/253_hw/homework2//nsynth_subset/vocal_acoustic_000-057-075.wav', '/root/code/ucsd_hw/253_hw/homework2//nsynth_subset/vocal_synthetic_003-055-100.wav', '/root/code/ucsd_hw/253_hw/homework2//nsynth_subset/guitar_acoustic_021-086-025.wav', '/root/code/ucsd_hw/253_hw/homework2//nsynth_subset/guitar_acoustic_015-086-127.wav', '/root/code/ucsd_hw/253_hw/homework2//nsynth_subset/guitar_electronic_028-042-050.wav', '/root/code/ucsd_hw/253_hw/homework2//nsynth_subset/vocal_synthetic_003-101-127.wav', '/root/code/ucsd_hw/253_hw/homework2//nsynth_subset/vocal_acoustic_000-054-075.wav', '/root/code/ucsd_hw/253_hw/homework2//nsynth_subset/vocal_synthetic_003-066-075.wav', '/root/code/ucsd_hw/253_hw/homework2//nsynth_subset/vocal_synthetic_003-049-050.wav', '/root/code/ucsd_hw/253_hw/homework2//nsynth_subset/vocal_synthetic_003-041-050.wav', '/root/code/ucsd_hw/253_hw/homework2//nsynth_subset/guitar_acoustic_010-101-025.wav', '/root/code/ucsd_hw/253_hw/homework2//nsynth_subset/guitar_acoustic_021-072-100.wav', '/root/code/ucsd_hw/253_hw/homework2//nsynth_subset/guitar_acoustic_014-022-025.wav', '/root/code/ucsd_hw/253_hw/homework2//nsynth_subset/guitar_acoustic_015-038-100.wav', '/root/code/ucsd_hw/253_hw/homework2//nsynth_subset/guitar_acoustic_015-095-127.wav', '/root/code/ucsd_hw/253_hw/homework2//nsynth_subset/vocal_synthetic_003-093-100.wav', '/root/code/ucsd_hw/253_hw/homework2//nsynth_subset/guitar_acoustic_014-066-100.wav', '/root/code/ucsd_hw/253_hw/homework2//nsynth_subset/vocal_synthetic_003-034-127.wav', '/root/code/ucsd_hw/253_hw/homework2//nsynth_subset/guitar_acoustic_030-028-050.wav', '/root/code/ucsd_hw/253_hw/homework2//nsynth_subset/guitar_acoustic_014-107-025.wav', '/root/code/ucsd_hw/253_hw/homework2//nsynth_subset/guitar_acoustic_021-082-050.wav', '/root/code/ucsd_hw/253_hw/homework2//nsynth_subset/vocal_synthetic_003-023-075.wav', '/root/code/ucsd_hw/253_hw/homework2//nsynth_subset/guitar_acoustic_015-061-025.wav', '/root/code/ucsd_hw/253_hw/homework2//nsynth_subset/vocal_synthetic_003-087-050.wav', '/root/code/ucsd_hw/253_hw/homework2//nsynth_subset/guitar_acoustic_015-021-100.wav', '/root/code/ucsd_hw/253_hw/homework2//nsynth_subset/vocal_synthetic_003-046-127.wav', '/root/code/ucsd_hw/253_hw/homework2//nsynth_subset/guitar_acoustic_021-089-050.wav', '/root/code/ucsd_hw/253_hw/homework2//nsynth_subset/guitar_acoustic_010-108-127.wav', '/root/code/ucsd_hw/253_hw/homework2//nsynth_subset/guitar_acoustic_021-025-100.wav', '/root/code/ucsd_hw/253_hw/homework2//nsynth_subset/vocal_synthetic_003-064-127.wav', '/root/code/ucsd_hw/253_hw/homework2//nsynth_subset/vocal_synthetic_003-072-100.wav', '/root/code/ucsd_hw/253_hw/homework2//nsynth_subset/guitar_acoustic_021-029-127.wav', '/root/code/ucsd_hw/253_hw/homework2//nsynth_subset/vocal_synthetic_003-040-050.wav', '/root/code/ucsd_hw/253_hw/homework2//nsynth_subset/guitar_acoustic_010-064-075.wav', '/root/code/ucsd_hw/253_hw/homework2//nsynth_subset/guitar_acoustic_030-086-075.wav', '/root/code/ucsd_hw/253_hw/homework2//nsynth_subset/vocal_synthetic_003-049-075.wav', '/root/code/ucsd_hw/253_hw/homework2//nsynth_subset/guitar_acoustic_014-093-025.wav', '/root/code/ucsd_hw/253_hw/homework2//nsynth_subset/guitar_acoustic_021-025-127.wav', '/root/code/ucsd_hw/253_hw/homework2//nsynth_subset/guitar_acoustic_021-080-025.wav', '/root/code/ucsd_hw/253_hw/homework2//nsynth_subset/guitar_acoustic_014-105-050.wav', '/root/code/ucsd_hw/253_hw/homework2//nsynth_subset/vocal_synthetic_003-060-127.wav', '/root/code/ucsd_hw/253_hw/homework2//nsynth_subset/guitar_electronic_028-081-050.wav', '/root/code/ucsd_hw/253_hw/homework2//nsynth_subset/vocal_synthetic_003-021-050.wav', '/root/code/ucsd_hw/253_hw/homework2//nsynth_subset/vocal_synthetic_003-098-050.wav', '/root/code/ucsd_hw/253_hw/homework2//nsynth_subset/vocal_acoustic_000-055-075.wav', '/root/code/ucsd_hw/253_hw/homework2//nsynth_subset/vocal_synthetic_003-082-100.wav', '/root/code/ucsd_hw/253_hw/homework2//nsynth_subset/guitar_acoustic_010-056-127.wav', '/root/code/ucsd_hw/253_hw/homework2//nsynth_subset/vocal_synthetic_003-084-050.wav', '/root/code/ucsd_hw/253_hw/homework2//nsynth_subset/vocal_synthetic_003-098-127.wav', '/root/code/ucsd_hw/253_hw/homework2//nsynth_subset/guitar_acoustic_021-092-050.wav', '/root/code/ucsd_hw/253_hw/homework2//nsynth_subset/guitar_electronic_022-050-050.wav', '/root/code/ucsd_hw/253_hw/homework2//nsynth_subset/guitar_acoustic_014-041-050.wav', '/root/code/ucsd_hw/253_hw/homework2//nsynth_subset/guitar_electronic_028-075-025.wav', '/root/code/ucsd_hw/253_hw/homework2//nsynth_subset/guitar_acoustic_021-071-075.wav', '/root/code/ucsd_hw/253_hw/homework2//nsynth_subset/guitar_acoustic_010-085-075.wav', '/root/code/ucsd_hw/253_hw/homework2//nsynth_subset/vocal_synthetic_003-022-050.wav', '/root/code/ucsd_hw/253_hw/homework2//nsynth_subset/guitar_electronic_022-038-025.wav', '/root/code/ucsd_hw/253_hw/homework2//nsynth_subset/guitar_acoustic_014-071-100.wav', '/root/code/ucsd_hw/253_hw/homework2//nsynth_subset/guitar_acoustic_015-104-127.wav', '/root/code/ucsd_hw/253_hw/homework2//nsynth_subset/guitar_acoustic_010-025-075.wav', '/root/code/ucsd_hw/253_hw/homework2//nsynth_subset/guitar_acoustic_021-075-075.wav', '/root/code/ucsd_hw/253_hw/homework2//nsynth_subset/guitar_acoustic_010-043-050.wav', '/root/code/ucsd_hw/253_hw/homework2//nsynth_subset/vocal_synthetic_003-062-025.wav', '/root/code/ucsd_hw/253_hw/homework2//nsynth_subset/vocal_synthetic_003-095-127.wav', '/root/code/ucsd_hw/253_hw/homework2//nsynth_subset/vocal_synthetic_003-064-100.wav', '/root/code/ucsd_hw/253_hw/homework2//nsynth_subset/vocal_acoustic_000-064-025.wav', '/root/code/ucsd_hw/253_hw/homework2//nsynth_subset/guitar_acoustic_014-082-050.wav', '/root/code/ucsd_hw/253_hw/homework2//nsynth_subset/guitar_acoustic_021-025-025.wav', '/root/code/ucsd_hw/253_hw/homework2//nsynth_subset/guitar_electronic_022-055-075.wav', '/root/code/ucsd_hw/253_hw/homework2//nsynth_subset/guitar_acoustic_021-055-025.wav', '/root/code/ucsd_hw/253_hw/homework2//nsynth_subset/vocal_synthetic_003-038-025.wav', '/root/code/ucsd_hw/253_hw/homework2//nsynth_subset/guitar_acoustic_014-088-050.wav', '/root/code/ucsd_hw/253_hw/homework2//nsynth_subset/vocal_synthetic_003-071-127.wav', '/root/code/ucsd_hw/253_hw/homework2//nsynth_subset/guitar_acoustic_021-045-127.wav', '/root/code/ucsd_hw/253_hw/homework2//nsynth_subset/guitar_acoustic_010-066-075.wav', '/root/code/ucsd_hw/253_hw/homework2//nsynth_subset/guitar_acoustic_021-030-025.wav', '/root/code/ucsd_hw/253_hw/homework2//nsynth_subset/vocal_synthetic_003-025-025.wav', '/root/code/ucsd_hw/253_hw/homework2//nsynth_subset/guitar_acoustic_014-079-100.wav', '/root/code/ucsd_hw/253_hw/homework2//nsynth_subset/guitar_acoustic_015-071-075.wav', '/root/code/ucsd_hw/253_hw/homework2//nsynth_subset/vocal_synthetic_003-062-127.wav', '/root/code/ucsd_hw/253_hw/homework2//nsynth_subset/guitar_acoustic_014-075-075.wav', '/root/code/ucsd_hw/253_hw/homework2//nsynth_subset/vocal_synthetic_003-044-050.wav', '/root/code/ucsd_hw/253_hw/homework2//nsynth_subset/vocal_synthetic_003-029-025.wav', '/root/code/ucsd_hw/253_hw/homework2//nsynth_subset/vocal_synthetic_003-091-100.wav', '/root/code/ucsd_hw/253_hw/homework2//nsynth_subset/vocal_acoustic_000-061-100.wav', '/root/code/ucsd_hw/253_hw/homework2//nsynth_subset/guitar_acoustic_014-024-025.wav', '/root/code/ucsd_hw/253_hw/homework2//nsynth_subset/vocal_synthetic_003-037-050.wav', '/root/code/ucsd_hw/253_hw/homework2//nsynth_subset/vocal_synthetic_003-061-025.wav', '/root/code/ucsd_hw/253_hw/homework2//nsynth_subset/guitar_electronic_022-050-100.wav', '/root/code/ucsd_hw/253_hw/homework2//nsynth_subset/guitar_acoustic_030-082-100.wav', '/root/code/ucsd_hw/253_hw/homework2//nsynth_subset/guitar_electronic_022-050-025.wav', '/root/code/ucsd_hw/253_hw/homework2//nsynth_subset/guitar_electronic_022-056-075.wav', '/root/code/ucsd_hw/253_hw/homework2//nsynth_subset/guitar_acoustic_014-077-075.wav', '/root/code/ucsd_hw/253_hw/homework2//nsynth_subset/vocal_synthetic_003-094-100.wav', '/root/code/ucsd_hw/253_hw/homework2//nsynth_subset/guitar_acoustic_014-106-100.wav', '/root/code/ucsd_hw/253_hw/homework2//nsynth_subset/vocal_synthetic_003-031-025.wav', '/root/code/ucsd_hw/253_hw/homework2//nsynth_subset/guitar_acoustic_021-069-100.wav', '/root/code/ucsd_hw/253_hw/homework2//nsynth_subset/vocal_synthetic_003-078-025.wav', '/root/code/ucsd_hw/253_hw/homework2//nsynth_subset/guitar_acoustic_030-064-050.wav', '/root/code/ucsd_hw/253_hw/homework2//nsynth_subset/vocal_synthetic_003-052-050.wav', '/root/code/ucsd_hw/253_hw/homework2//nsynth_subset/guitar_acoustic_014-059-050.wav', '/root/code/ucsd_hw/253_hw/homework2//nsynth_subset/vocal_synthetic_003-105-075.wav', '/root/code/ucsd_hw/253_hw/homework2//nsynth_subset/vocal_synthetic_003-049-100.wav', '/root/code/ucsd_hw/253_hw/homework2//nsynth_subset/vocal_synthetic_003-029-127.wav', '/root/code/ucsd_hw/253_hw/homework2//nsynth_subset/guitar_electronic_022-070-050.wav', '/root/code/ucsd_hw/253_hw/homework2//nsynth_subset/guitar_acoustic_010-048-100.wav', '/root/code/ucsd_hw/253_hw/homework2//nsynth_subset/vocal_synthetic_003-059-100.wav', '/root/code/ucsd_hw/253_hw/homework2//nsynth_subset/guitar_electronic_022-062-127.wav', '/root/code/ucsd_hw/253_hw/homework2//nsynth_subset/guitar_acoustic_010-045-075.wav', '/root/code/ucsd_hw/253_hw/homework2//nsynth_subset/vocal_synthetic_003-033-075.wav', '/root/code/ucsd_hw/253_hw/homework2//nsynth_subset/vocal_acoustic_000-067-127.wav', '/root/code/ucsd_hw/253_hw/homework2//nsynth_subset/guitar_electronic_022-066-075.wav', '/root/code/ucsd_hw/253_hw/homework2//nsynth_subset/vocal_synthetic_003-024-127.wav', '/root/code/ucsd_hw/253_hw/homework2//nsynth_subset/guitar_electronic_022-071-127.wav', '/root/code/ucsd_hw/253_hw/homework2//nsynth_subset/vocal_acoustic_000-067-100.wav', '/root/code/ucsd_hw/253_hw/homework2//nsynth_subset/vocal_synthetic_003-088-127.wav', '/root/code/ucsd_hw/253_hw/homework2//nsynth_subset/guitar_electronic_022-049-075.wav', '/root/code/ucsd_hw/253_hw/homework2//nsynth_subset/vocal_synthetic_003-030-100.wav', '/root/code/ucsd_hw/253_hw/homework2//nsynth_subset/guitar_acoustic_010-026-127.wav', '/root/code/ucsd_hw/253_hw/homework2//nsynth_subset/guitar_acoustic_015-093-075.wav', '/root/code/ucsd_hw/253_hw/homework2//nsynth_subset/vocal_synthetic_003-045-100.wav', '/root/code/ucsd_hw/253_hw/homework2//nsynth_subset/guitar_acoustic_030-070-100.wav', '/root/code/ucsd_hw/253_hw/homework2//nsynth_subset/guitar_acoustic_010-078-025.wav', '/root/code/ucsd_hw/253_hw/homework2//nsynth_subset/guitar_electronic_028-028-100.wav', '/root/code/ucsd_hw/253_hw/homework2//nsynth_subset/vocal_synthetic_003-021-075.wav', '/root/code/ucsd_hw/253_hw/homework2//nsynth_subset/vocal_synthetic_003-067-075.wav', '/root/code/ucsd_hw/253_hw/homework2//nsynth_subset/guitar_acoustic_014-070-025.wav', '/root/code/ucsd_hw/253_hw/homework2//nsynth_subset/vocal_synthetic_003-088-100.wav', '/root/code/ucsd_hw/253_hw/homework2//nsynth_subset/guitar_acoustic_014-049-127.wav', '/root/code/ucsd_hw/253_hw/homework2//nsynth_subset/vocal_synthetic_003-089-075.wav', '/root/code/ucsd_hw/253_hw/homework2//nsynth_subset/vocal_synthetic_003-044-100.wav', '/root/code/ucsd_hw/253_hw/homework2//nsynth_subset/guitar_acoustic_015-053-127.wav', '/root/code/ucsd_hw/253_hw/homework2//nsynth_subset/vocal_acoustic_000-051-025.wav', '/root/code/ucsd_hw/253_hw/homework2//nsynth_subset/vocal_acoustic_000-056-127.wav', '/root/code/ucsd_hw/253_hw/homework2//nsynth_subset/vocal_synthetic_003-060-075.wav', '/root/code/ucsd_hw/253_hw/homework2//nsynth_subset/vocal_synthetic_003-089-025.wav', '/root/code/ucsd_hw/253_hw/homework2//nsynth_subset/vocal_synthetic_003-025-075.wav', '/root/code/ucsd_hw/253_hw/homework2//nsynth_subset/guitar_electronic_028-093-050.wav', '/root/code/ucsd_hw/253_hw/homework2//nsynth_subset/guitar_acoustic_015-100-127.wav', '/root/code/ucsd_hw/253_hw/homework2//nsynth_subset/guitar_acoustic_014-067-050.wav', '/root/code/ucsd_hw/253_hw/homework2//nsynth_subset/guitar_acoustic_021-106-050.wav', '/root/code/ucsd_hw/253_hw/homework2//nsynth_subset/guitar_acoustic_014-101-127.wav', '/root/code/ucsd_hw/253_hw/homework2//nsynth_subset/vocal_acoustic_000-067-050.wav', '/root/code/ucsd_hw/253_hw/homework2//nsynth_subset/guitar_acoustic_010-097-127.wav', '/root/code/ucsd_hw/253_hw/homework2//nsynth_subset/vocal_synthetic_003-106-075.wav', '/root/code/ucsd_hw/253_hw/homework2//nsynth_subset/guitar_acoustic_010-107-025.wav', '/root/code/ucsd_hw/253_hw/homework2//nsynth_subset/vocal_synthetic_003-021-100.wav', '/root/code/ucsd_hw/253_hw/homework2//nsynth_subset/vocal_acoustic_000-062-127.wav', '/root/code/ucsd_hw/253_hw/homework2//nsynth_subset/vocal_synthetic_003-043-127.wav', '/root/code/ucsd_hw/253_hw/homework2//nsynth_subset/vocal_synthetic_003-046-050.wav', '/root/code/ucsd_hw/253_hw/homework2//nsynth_subset/vocal_synthetic_003-035-050.wav', '/root/code/ucsd_hw/253_hw/homework2//nsynth_subset/guitar_acoustic_030-075-025.wav', '/root/code/ucsd_hw/253_hw/homework2//nsynth_subset/vocal_synthetic_003-058-075.wav', '/root/code/ucsd_hw/253_hw/homework2//nsynth_subset/vocal_synthetic_003-042-100.wav', '/root/code/ucsd_hw/253_hw/homework2//nsynth_subset/guitar_acoustic_014-065-127.wav', '/root/code/ucsd_hw/253_hw/homework2//nsynth_subset/vocal_synthetic_003-081-075.wav', '/root/code/ucsd_hw/253_hw/homework2//nsynth_subset/vocal_synthetic_003-075-050.wav', '/root/code/ucsd_hw/253_hw/homework2//nsynth_subset/guitar_acoustic_021-082-075.wav', '/root/code/ucsd_hw/253_hw/homework2//nsynth_subset/vocal_acoustic_000-052-050.wav', '/root/code/ucsd_hw/253_hw/homework2//nsynth_subset/vocal_synthetic_003-072-025.wav', '/root/code/ucsd_hw/253_hw/homework2//nsynth_subset/guitar_acoustic_015-058-075.wav', '/root/code/ucsd_hw/253_hw/homework2//nsynth_subset/guitar_acoustic_010-082-050.wav', '/root/code/ucsd_hw/253_hw/homework2//nsynth_subset/guitar_acoustic_014-023-075.wav', '/root/code/ucsd_hw/253_hw/homework2//nsynth_subset/guitar_acoustic_015-102-025.wav', '/root/code/ucsd_hw/253_hw/homework2//nsynth_subset/vocal_synthetic_003-076-050.wav', '/root/code/ucsd_hw/253_hw/homework2//nsynth_subset/vocal_synthetic_003-063-075.wav', '/root/code/ucsd_hw/253_hw/homework2//nsynth_subset/vocal_synthetic_003-037-025.wav', '/root/code/ucsd_hw/253_hw/homework2//nsynth_subset/guitar_electronic_022-078-050.wav', '/root/code/ucsd_hw/253_hw/homework2//nsynth_subset/guitar_acoustic_015-043-050.wav', '/root/code/ucsd_hw/253_hw/homework2//nsynth_subset/vocal_synthetic_003-051-100.wav', '/root/code/ucsd_hw/253_hw/homework2//nsynth_subset/vocal_synthetic_003-085-025.wav', '/root/code/ucsd_hw/253_hw/homework2//nsynth_subset/vocal_synthetic_003-080-025.wav', '/root/code/ucsd_hw/253_hw/homework2//nsynth_subset/guitar_acoustic_014-082-025.wav', '/root/code/ucsd_hw/253_hw/homework2//nsynth_subset/guitar_acoustic_010-041-075.wav', '/root/code/ucsd_hw/253_hw/homework2//nsynth_subset/guitar_electronic_028-046-127.wav', '/root/code/ucsd_hw/253_hw/homework2//nsynth_subset/guitar_acoustic_015-064-075.wav', '/root/code/ucsd_hw/253_hw/homework2//nsynth_subset/vocal_synthetic_003-060-025.wav', '/root/code/ucsd_hw/253_hw/homework2//nsynth_subset/guitar_acoustic_014-090-127.wav', '/root/code/ucsd_hw/253_hw/homework2//nsynth_subset/guitar_acoustic_010-054-050.wav', '/root/code/ucsd_hw/253_hw/homework2//nsynth_subset/vocal_synthetic_003-058-127.wav', '/root/code/ucsd_hw/253_hw/homework2//nsynth_subset/guitar_acoustic_021-036-127.wav', '/root/code/ucsd_hw/253_hw/homework2//nsynth_subset/guitar_acoustic_010-038-050.wav', '/root/code/ucsd_hw/253_hw/homework2//nsynth_subset/guitar_acoustic_010-070-075.wav', '/root/code/ucsd_hw/253_hw/homework2//nsynth_subset/guitar_electronic_028-047-025.wav', '/root/code/ucsd_hw/253_hw/homework2//nsynth_subset/guitar_acoustic_021-105-127.wav', '/root/code/ucsd_hw/253_hw/homework2//nsynth_subset/guitar_acoustic_010-048-050.wav', '/root/code/ucsd_hw/253_hw/homework2//nsynth_subset/vocal_acoustic_000-065-050.wav', '/root/code/ucsd_hw/253_hw/homework2//nsynth_subset/guitar_electronic_022-035-025.wav', '/root/code/ucsd_hw/253_hw/homework2//nsynth_subset/vocal_synthetic_003-032-075.wav', '/root/code/ucsd_hw/253_hw/homework2//nsynth_subset/vocal_acoustic_000-065-127.wav', '/root/code/ucsd_hw/253_hw/homework2//nsynth_subset/guitar_acoustic_015-046-050.wav', '/root/code/ucsd_hw/253_hw/homework2//nsynth_subset/guitar_acoustic_015-036-100.wav', '/root/code/ucsd_hw/253_hw/homework2//nsynth_subset/guitar_electronic_028-071-100.wav', '/root/code/ucsd_hw/253_hw/homework2//nsynth_subset/vocal_synthetic_003-082-127.wav', '/root/code/ucsd_hw/253_hw/homework2//nsynth_subset/guitar_acoustic_014-053-127.wav', '/root/code/ucsd_hw/253_hw/homework2//nsynth_subset/guitar_acoustic_014-057-127.wav', '/root/code/ucsd_hw/253_hw/homework2//nsynth_subset/vocal_synthetic_003-026-127.wav', '/root/code/ucsd_hw/253_hw/homework2//nsynth_subset/vocal_acoustic_000-061-025.wav', '/root/code/ucsd_hw/253_hw/homework2//nsynth_subset/guitar_electronic_028-032-025.wav', '/root/code/ucsd_hw/253_hw/homework2//nsynth_subset/guitar_acoustic_014-096-127.wav', '/root/code/ucsd_hw/253_hw/homework2//nsynth_subset/vocal_acoustic_000-056-075.wav', '/root/code/ucsd_hw/253_hw/homework2//nsynth_subset/guitar_acoustic_015-057-127.wav', '/root/code/ucsd_hw/253_hw/homework2//nsynth_subset/guitar_acoustic_021-023-127.wav', '/root/code/ucsd_hw/253_hw/homework2//nsynth_subset/guitar_acoustic_021-075-050.wav', '/root/code/ucsd_hw/253_hw/homework2//nsynth_subset/vocal_acoustic_000-063-050.wav', '/root/code/ucsd_hw/253_hw/homework2//nsynth_subset/vocal_synthetic_003-097-100.wav', '/root/code/ucsd_hw/253_hw/homework2//nsynth_subset/guitar_acoustic_010-033-127.wav', '/root/code/ucsd_hw/253_hw/homework2//nsynth_subset/vocal_synthetic_003-090-100.wav', '/root/code/ucsd_hw/253_hw/homework2//nsynth_subset/vocal_synthetic_003-082-050.wav', '/root/code/ucsd_hw/253_hw/homework2//nsynth_subset/vocal_synthetic_003-033-100.wav', '/root/code/ucsd_hw/253_hw/homework2//nsynth_subset/guitar_acoustic_015-027-075.wav', '/root/code/ucsd_hw/253_hw/homework2//nsynth_subset/vocal_acoustic_000-054-050.wav', '/root/code/ucsd_hw/253_hw/homework2//nsynth_subset/vocal_synthetic_003-034-050.wav', '/root/code/ucsd_hw/253_hw/homework2//nsynth_subset/vocal_synthetic_003-025-127.wav', '/root/code/ucsd_hw/253_hw/homework2//nsynth_subset/guitar_acoustic_014-026-127.wav', '/root/code/ucsd_hw/253_hw/homework2//nsynth_subset/vocal_synthetic_003-083-127.wav', '/root/code/ucsd_hw/253_hw/homework2//nsynth_subset/vocal_acoustic_000-052-075.wav', '/root/code/ucsd_hw/253_hw/homework2//nsynth_subset/guitar_acoustic_015-040-100.wav', '/root/code/ucsd_hw/253_hw/homework2//nsynth_subset/vocal_synthetic_003-029-075.wav', '/root/code/ucsd_hw/253_hw/homework2//nsynth_subset/vocal_synthetic_003-036-050.wav', '/root/code/ucsd_hw/253_hw/homework2//nsynth_subset/vocal_synthetic_003-045-127.wav', '/root/code/ucsd_hw/253_hw/homework2//nsynth_subset/vocal_acoustic_000-053-025.wav', '/root/code/ucsd_hw/253_hw/homework2//nsynth_subset/vocal_synthetic_003-068-127.wav', '/root/code/ucsd_hw/253_hw/homework2//nsynth_subset/vocal_acoustic_000-064-100.wav', '/root/code/ucsd_hw/253_hw/homework2//nsynth_subset/vocal_synthetic_003-072-127.wav', '/root/code/ucsd_hw/253_hw/homework2//nsynth_subset/vocal_synthetic_003-061-127.wav', '/root/code/ucsd_hw/253_hw/homework2//nsynth_subset/guitar_acoustic_021-058-075.wav', '/root/code/ucsd_hw/253_hw/homework2//nsynth_subset/guitar_acoustic_010-095-100.wav', '/root/code/ucsd_hw/253_hw/homework2//nsynth_subset/guitar_electronic_022-066-025.wav', '/root/code/ucsd_hw/253_hw/homework2//nsynth_subset/guitar_acoustic_010-103-025.wav', '/root/code/ucsd_hw/253_hw/homework2//nsynth_subset/guitar_electronic_028-060-100.wav', '/root/code/ucsd_hw/253_hw/homework2//nsynth_subset/vocal_synthetic_003-069-050.wav', '/root/code/ucsd_hw/253_hw/homework2//nsynth_subset/guitar_acoustic_021-032-075.wav', '/root/code/ucsd_hw/253_hw/homework2//nsynth_subset/vocal_synthetic_003-100-100.wav', '/root/code/ucsd_hw/253_hw/homework2//nsynth_subset/guitar_electronic_022-027-100.wav', '/root/code/ucsd_hw/253_hw/homework2//nsynth_subset/guitar_electronic_022-028-025.wav', '/root/code/ucsd_hw/253_hw/homework2//nsynth_subset/vocal_synthetic_003-066-127.wav', '/root/code/ucsd_hw/253_hw/homework2//nsynth_subset/guitar_electronic_028-057-100.wav', '/root/code/ucsd_hw/253_hw/homework2//nsynth_subset/guitar_acoustic_010-072-100.wav', '/root/code/ucsd_hw/253_hw/homework2//nsynth_subset/guitar_electronic_028-065-127.wav', '/root/code/ucsd_hw/253_hw/homework2//nsynth_subset/vocal_synthetic_003-048-075.wav', '/root/code/ucsd_hw/253_hw/homework2//nsynth_subset/vocal_synthetic_003-077-075.wav', '/root/code/ucsd_hw/253_hw/homework2//nsynth_subset/guitar_acoustic_021-081-127.wav', '/root/code/ucsd_hw/253_hw/homework2//nsynth_subset/vocal_acoustic_000-069-075.wav', '/root/code/ucsd_hw/253_hw/homework2//nsynth_subset/vocal_synthetic_003-066-050.wav', '/root/code/ucsd_hw/253_hw/homework2//nsynth_subset/vocal_synthetic_003-092-025.wav', '/root/code/ucsd_hw/253_hw/homework2//nsynth_subset/vocal_synthetic_003-094-025.wav', '/root/code/ucsd_hw/253_hw/homework2//nsynth_subset/guitar_electronic_028-107-050.wav', '/root/code/ucsd_hw/253_hw/homework2//nsynth_subset/guitar_acoustic_021-101-075.wav', '/root/code/ucsd_hw/253_hw/homework2//nsynth_subset/guitar_electronic_028-082-025.wav', '/root/code/ucsd_hw/253_hw/homework2//nsynth_subset/vocal_synthetic_003-039-025.wav', '/root/code/ucsd_hw/253_hw/homework2//nsynth_subset/guitar_electronic_022-028-100.wav', '/root/code/ucsd_hw/253_hw/homework2//nsynth_subset/vocal_synthetic_003-063-050.wav', '/root/code/ucsd_hw/253_hw/homework2//nsynth_subset/guitar_acoustic_015-039-050.wav', '/root/code/ucsd_hw/253_hw/homework2//nsynth_subset/vocal_synthetic_003-059-127.wav', '/root/code/ucsd_hw/253_hw/homework2//nsynth_subset/vocal_synthetic_003-107-127.wav', '/root/code/ucsd_hw/253_hw/homework2//nsynth_subset/guitar_acoustic_010-062-100.wav', '/root/code/ucsd_hw/253_hw/homework2//nsynth_subset/guitar_electronic_028-084-025.wav', '/root/code/ucsd_hw/253_hw/homework2//nsynth_subset/vocal_synthetic_003-091-075.wav', '/root/code/ucsd_hw/253_hw/homework2//nsynth_subset/guitar_electronic_028-087-050.wav', '/root/code/ucsd_hw/253_hw/homework2//nsynth_subset/guitar_acoustic_030-042-127.wav', '/root/code/ucsd_hw/253_hw/homework2//nsynth_subset/guitar_acoustic_014-048-075.wav', '/root/code/ucsd_hw/253_hw/homework2//nsynth_subset/guitar_acoustic_015-092-127.wav', '/root/code/ucsd_hw/253_hw/homework2//nsynth_subset/guitar_acoustic_010-056-075.wav', '/root/code/ucsd_hw/253_hw/homework2//nsynth_subset/guitar_acoustic_010-081-075.wav', '/root/code/ucsd_hw/253_hw/homework2//nsynth_subset/vocal_synthetic_003-084-025.wav', '/root/code/ucsd_hw/253_hw/homework2//nsynth_subset/vocal_acoustic_000-053-127.wav', '/root/code/ucsd_hw/253_hw/homework2//nsynth_subset/vocal_synthetic_003-101-050.wav', '/root/code/ucsd_hw/253_hw/homework2//nsynth_subset/vocal_synthetic_003-038-075.wav', '/root/code/ucsd_hw/253_hw/homework2//nsynth_subset/guitar_acoustic_021-069-050.wav', '/root/code/ucsd_hw/253_hw/homework2//nsynth_subset/guitar_acoustic_010-076-025.wav', '/root/code/ucsd_hw/253_hw/homework2//nsynth_subset/guitar_acoustic_015-083-100.wav', '/root/code/ucsd_hw/253_hw/homework2//nsynth_subset/vocal_synthetic_003-090-127.wav', '/root/code/ucsd_hw/253_hw/homework2//nsynth_subset/vocal_synthetic_003-099-127.wav', '/root/code/ucsd_hw/253_hw/homework2//nsynth_subset/guitar_electronic_028-098-127.wav', '/root/code/ucsd_hw/253_hw/homework2//nsynth_subset/vocal_synthetic_003-068-050.wav', '/root/code/ucsd_hw/253_hw/homework2//nsynth_subset/guitar_acoustic_015-049-025.wav', '/root/code/ucsd_hw/253_hw/homework2//nsynth_subset/guitar_acoustic_010-032-050.wav', '/root/code/ucsd_hw/253_hw/homework2//nsynth_subset/vocal_acoustic_000-066-025.wav', '/root/code/ucsd_hw/253_hw/homework2//nsynth_subset/vocal_synthetic_003-021-127.wav', '/root/code/ucsd_hw/253_hw/homework2//nsynth_subset/vocal_acoustic_000-068-025.wav', '/root/code/ucsd_hw/253_hw/homework2//nsynth_subset/vocal_synthetic_003-074-100.wav', '/root/code/ucsd_hw/253_hw/homework2//nsynth_subset/guitar_acoustic_021-028-050.wav', '/root/code/ucsd_hw/253_hw/homework2//nsynth_subset/vocal_acoustic_000-054-025.wav', '/root/code/ucsd_hw/253_hw/homework2//nsynth_subset/guitar_electronic_028-021-100.wav', '/root/code/ucsd_hw/253_hw/homework2//nsynth_subset/guitar_acoustic_010-054-100.wav', '/root/code/ucsd_hw/253_hw/homework2//nsynth_subset/vocal_synthetic_003-089-050.wav', '/root/code/ucsd_hw/253_hw/homework2//nsynth_subset/guitar_acoustic_010-076-075.wav', '/root/code/ucsd_hw/253_hw/homework2//nsynth_subset/guitar_electronic_022-053-127.wav', '/root/code/ucsd_hw/253_hw/homework2//nsynth_subset/vocal_acoustic_000-051-050.wav', '/root/code/ucsd_hw/253_hw/homework2//nsynth_subset/vocal_synthetic_003-083-050.wav', '/root/code/ucsd_hw/253_hw/homework2//nsynth_subset/guitar_acoustic_030-083-025.wav', '/root/code/ucsd_hw/253_hw/homework2//nsynth_subset/vocal_synthetic_003-038-127.wav', '/root/code/ucsd_hw/253_hw/homework2//nsynth_subset/guitar_acoustic_015-072-127.wav', '/root/code/ucsd_hw/253_hw/homework2//nsynth_subset/vocal_synthetic_003-103-127.wav', '/root/code/ucsd_hw/253_hw/homework2//nsynth_subset/vocal_synthetic_003-085-075.wav', '/root/code/ucsd_hw/253_hw/homework2//nsynth_subset/guitar_electronic_028-049-025.wav', '/root/code/ucsd_hw/253_hw/homework2//nsynth_subset/guitar_acoustic_030-021-025.wav', '/root/code/ucsd_hw/253_hw/homework2//nsynth_subset/guitar_acoustic_021-101-127.wav', '/root/code/ucsd_hw/253_hw/homework2//nsynth_subset/vocal_acoustic_000-068-050.wav', '/root/code/ucsd_hw/253_hw/homework2//nsynth_subset/vocal_synthetic_003-041-025.wav', '/root/code/ucsd_hw/253_hw/homework2//nsynth_subset/guitar_acoustic_010-099-050.wav', '/root/code/ucsd_hw/253_hw/homework2//nsynth_subset/vocal_synthetic_003-079-127.wav', '/root/code/ucsd_hw/253_hw/homework2//nsynth_subset/guitar_acoustic_014-107-100.wav', '/root/code/ucsd_hw/253_hw/homework2//nsynth_subset/vocal_acoustic_000-053-050.wav', '/root/code/ucsd_hw/253_hw/homework2//nsynth_subset/guitar_acoustic_021-046-025.wav', '/root/code/ucsd_hw/253_hw/homework2//nsynth_subset/vocal_acoustic_000-063-127.wav', '/root/code/ucsd_hw/253_hw/homework2//nsynth_subset/vocal_synthetic_003-086-127.wav', '/root/code/ucsd_hw/253_hw/homework2//nsynth_subset/guitar_electronic_022-074-050.wav', '/root/code/ucsd_hw/253_hw/homework2//nsynth_subset/vocal_synthetic_003-087-075.wav', '/root/code/ucsd_hw/253_hw/homework2//nsynth_subset/guitar_electronic_022-082-075.wav', '/root/code/ucsd_hw/253_hw/homework2//nsynth_subset/vocal_synthetic_003-075-025.wav', '/root/code/ucsd_hw/253_hw/homework2//nsynth_subset/guitar_acoustic_015-107-075.wav', '/root/code/ucsd_hw/253_hw/homework2//nsynth_subset/vocal_synthetic_003-047-100.wav', '/root/code/ucsd_hw/253_hw/homework2//nsynth_subset/vocal_synthetic_003-053-075.wav', '/root/code/ucsd_hw/253_hw/homework2//nsynth_subset/vocal_acoustic_000-051-075.wav', '/root/code/ucsd_hw/253_hw/homework2//nsynth_subset/vocal_synthetic_003-034-100.wav', '/root/code/ucsd_hw/253_hw/homework2//nsynth_subset/guitar_acoustic_015-065-025.wav', '/root/code/ucsd_hw/253_hw/homework2//nsynth_subset/guitar_acoustic_015-108-075.wav', '/root/code/ucsd_hw/253_hw/homework2//nsynth_subset/vocal_synthetic_003-093-025.wav', '/root/code/ucsd_hw/253_hw/homework2//nsynth_subset/vocal_synthetic_003-039-050.wav', '/root/code/ucsd_hw/253_hw/homework2//nsynth_subset/vocal_synthetic_003-026-100.wav', '/root/code/ucsd_hw/253_hw/homework2//nsynth_subset/vocal_synthetic_003-058-025.wav', '/root/code/ucsd_hw/253_hw/homework2//nsynth_subset/vocal_synthetic_003-071-100.wav', '/root/code/ucsd_hw/253_hw/homework2//nsynth_subset/guitar_acoustic_014-100-050.wav', '/root/code/ucsd_hw/253_hw/homework2//nsynth_subset/vocal_synthetic_003-070-100.wav', '/root/code/ucsd_hw/253_hw/homework2//nsynth_subset/guitar_acoustic_014-107-075.wav', '/root/code/ucsd_hw/253_hw/homework2//nsynth_subset/vocal_acoustic_000-058-025.wav', '/root/code/ucsd_hw/253_hw/homework2//nsynth_subset/vocal_synthetic_003-058-050.wav', '/root/code/ucsd_hw/253_hw/homework2//nsynth_subset/guitar_acoustic_021-063-025.wav', '/root/code/ucsd_hw/253_hw/homework2//nsynth_subset/vocal_acoustic_000-061-127.wav', '/root/code/ucsd_hw/253_hw/homework2//nsynth_subset/vocal_acoustic_000-054-127.wav', '/root/code/ucsd_hw/253_hw/homework2//nsynth_subset/vocal_synthetic_003-046-025.wav', '/root/code/ucsd_hw/253_hw/homework2//nsynth_subset/guitar_acoustic_021-084-025.wav', '/root/code/ucsd_hw/253_hw/homework2//nsynth_subset/vocal_acoustic_000-069-025.wav', '/root/code/ucsd_hw/253_hw/homework2//nsynth_subset/guitar_acoustic_014-055-127.wav', '/root/code/ucsd_hw/253_hw/homework2//nsynth_subset/vocal_acoustic_000-061-075.wav', '/root/code/ucsd_hw/253_hw/homework2//nsynth_subset/vocal_synthetic_003-040-100.wav', '/root/code/ucsd_hw/253_hw/homework2//nsynth_subset/guitar_electronic_028-049-050.wav', '/root/code/ucsd_hw/253_hw/homework2//nsynth_subset/vocal_synthetic_003-083-075.wav', '/root/code/ucsd_hw/253_hw/homework2//nsynth_subset/guitar_acoustic_014-032-100.wav', '/root/code/ucsd_hw/253_hw/homework2//nsynth_subset/guitar_acoustic_015-093-127.wav', '/root/code/ucsd_hw/253_hw/homework2//nsynth_subset/vocal_synthetic_003-089-127.wav', '/root/code/ucsd_hw/253_hw/homework2//nsynth_subset/guitar_acoustic_021-058-025.wav', '/root/code/ucsd_hw/253_hw/homework2//nsynth_subset/guitar_acoustic_015-031-025.wav', '/root/code/ucsd_hw/253_hw/homework2//nsynth_subset/vocal_synthetic_003-042-075.wav', '/root/code/ucsd_hw/253_hw/homework2//nsynth_subset/guitar_acoustic_010-043-100.wav', '/root/code/ucsd_hw/253_hw/homework2//nsynth_subset/vocal_synthetic_003-032-050.wav', '/root/code/ucsd_hw/253_hw/homework2//nsynth_subset/guitar_electronic_022-032-075.wav', '/root/code/ucsd_hw/253_hw/homework2//nsynth_subset/guitar_electronic_028-066-100.wav', '/root/code/ucsd_hw/253_hw/homework2//nsynth_subset/vocal_acoustic_000-066-050.wav', '/root/code/ucsd_hw/253_hw/homework2//nsynth_subset/vocal_synthetic_003-108-100.wav', '/root/code/ucsd_hw/253_hw/homework2//nsynth_subset/guitar_electronic_028-055-075.wav', '/root/code/ucsd_hw/253_hw/homework2//nsynth_subset/vocal_synthetic_003-043-025.wav', '/root/code/ucsd_hw/253_hw/homework2//nsynth_subset/vocal_synthetic_003-045-075.wav', '/root/code/ucsd_hw/253_hw/homework2//nsynth_subset/guitar_acoustic_015-032-025.wav', '/root/code/ucsd_hw/253_hw/homework2//nsynth_subset/guitar_acoustic_030-079-127.wav', '/root/code/ucsd_hw/253_hw/homework2//nsynth_subset/guitar_electronic_028-061-100.wav', '/root/code/ucsd_hw/253_hw/homework2//nsynth_subset/vocal_synthetic_003-023-127.wav', '/root/code/ucsd_hw/253_hw/homework2//nsynth_subset/vocal_synthetic_003-086-100.wav', '/root/code/ucsd_hw/253_hw/homework2//nsynth_subset/guitar_acoustic_014-099-100.wav', '/root/code/ucsd_hw/253_hw/homework2//nsynth_subset/guitar_acoustic_030-041-075.wav', '/root/code/ucsd_hw/253_hw/homework2//nsynth_subset/vocal_synthetic_003-035-127.wav', '/root/code/ucsd_hw/253_hw/homework2//nsynth_subset/vocal_synthetic_003-069-127.wav', '/root/code/ucsd_hw/253_hw/homework2//nsynth_subset/vocal_acoustic_000-063-100.wav', '/root/code/ucsd_hw/253_hw/homework2//nsynth_subset/guitar_acoustic_014-089-100.wav', '/root/code/ucsd_hw/253_hw/homework2//nsynth_subset/vocal_synthetic_003-069-075.wav', '/root/code/ucsd_hw/253_hw/homework2//nsynth_subset/guitar_electronic_022-036-127.wav', '/root/code/ucsd_hw/253_hw/homework2//nsynth_subset/guitar_electronic_028-052-025.wav', '/root/code/ucsd_hw/253_hw/homework2//nsynth_subset/guitar_acoustic_021-048-127.wav', '/root/code/ucsd_hw/253_hw/homework2//nsynth_subset/vocal_synthetic_003-103-100.wav', '/root/code/ucsd_hw/253_hw/homework2//nsynth_subset/guitar_acoustic_030-082-025.wav', '/root/code/ucsd_hw/253_hw/homework2//nsynth_subset/vocal_synthetic_003-054-025.wav', '/root/code/ucsd_hw/253_hw/homework2//nsynth_subset/guitar_electronic_028-081-127.wav', '/root/code/ucsd_hw/253_hw/homework2//nsynth_subset/guitar_acoustic_015-053-100.wav', '/root/code/ucsd_hw/253_hw/homework2//nsynth_subset/guitar_acoustic_015-036-075.wav', '/root/code/ucsd_hw/253_hw/homework2//nsynth_subset/vocal_synthetic_003-078-075.wav', '/root/code/ucsd_hw/253_hw/homework2//nsynth_subset/guitar_acoustic_021-088-100.wav', '/root/code/ucsd_hw/253_hw/homework2//nsynth_subset/vocal_synthetic_003-092-127.wav', '/root/code/ucsd_hw/253_hw/homework2//nsynth_subset/guitar_acoustic_015-050-100.wav', '/root/code/ucsd_hw/253_hw/homework2//nsynth_subset/vocal_synthetic_003-080-127.wav', '/root/code/ucsd_hw/253_hw/homework2//nsynth_subset/vocal_synthetic_003-081-050.wav', '/root/code/ucsd_hw/253_hw/homework2//nsynth_subset/vocal_synthetic_003-023-050.wav', '/root/code/ucsd_hw/253_hw/homework2//nsynth_subset/guitar_acoustic_015-107-050.wav', '/root/code/ucsd_hw/253_hw/homework2//nsynth_subset/guitar_acoustic_010-027-050.wav', '/root/code/ucsd_hw/253_hw/homework2//nsynth_subset/guitar_acoustic_014-035-025.wav', '/root/code/ucsd_hw/253_hw/homework2//nsynth_subset/guitar_electronic_028-101-025.wav', '/root/code/ucsd_hw/253_hw/homework2//nsynth_subset/guitar_electronic_028-079-127.wav', '/root/code/ucsd_hw/253_hw/homework2//nsynth_subset/guitar_acoustic_021-083-100.wav', '/root/code/ucsd_hw/253_hw/homework2//nsynth_subset/guitar_acoustic_030-093-050.wav', '/root/code/ucsd_hw/253_hw/homework2//nsynth_subset/vocal_synthetic_003-102-127.wav', '/root/code/ucsd_hw/253_hw/homework2//nsynth_subset/vocal_synthetic_003-076-127.wav', '/root/code/ucsd_hw/253_hw/homework2//nsynth_subset/vocal_acoustic_000-056-050.wav', '/root/code/ucsd_hw/253_hw/homework2//nsynth_subset/guitar_acoustic_014-039-050.wav', '/root/code/ucsd_hw/253_hw/homework2//nsynth_subset/vocal_synthetic_003-040-075.wav', '/root/code/ucsd_hw/253_hw/homework2//nsynth_subset/vocal_synthetic_003-071-050.wav', '/root/code/ucsd_hw/253_hw/homework2//nsynth_subset/guitar_acoustic_021-104-025.wav', '/root/code/ucsd_hw/253_hw/homework2//nsynth_subset/vocal_synthetic_003-048-050.wav']\n"
     ]
    }
   ],
   "source": [
    "audio_paths = glob.glob(dataroot + \"/nsynth_subset/*.wav\")\n",
    "random.seed(0)\n",
    "random.shuffle(audio_paths)\n",
    "print(audio_paths)"
   ]
  },
  {
   "cell_type": "code",
   "execution_count": 10,
   "id": "57f5ab0b",
   "metadata": {
    "id": "57f5ab0b"
   },
   "outputs": [],
   "source": [
    "if not len(audio_paths):\n",
    "    print(\"You probably need to set the dataroot folder correctly\")"
   ]
  },
  {
   "cell_type": "code",
   "execution_count": 11,
   "id": "8d7a98a0",
   "metadata": {
    "id": "8d7a98a0"
   },
   "outputs": [],
   "source": [
    "SAMPLE_RATE = 8000 # Very low sample rate, just so things run quickly\n",
    "N_MFCC = 13\n",
    "INSTRUMENT_MAP = {'guitar': 0, 'vocal': 1} # Only two classes (also so that things run quickly)\n",
    "NUM_CLASSES = len(INSTRUMENT_MAP)\n",
    "\n",
    "# If we used all the classes we would have:\n",
    "# INSTRUMENT_MAP = {\n",
    "#     'bass': 0, 'brass': 1, 'flute': 2, 'guitar': 3,\n",
    "#     'keyboard': 4, 'mallet': 5, 'organ': 6, 'reed': 7,\n",
    "#     'string': 8, 'synth_lead': 9, 'vocal': 10\n",
    "# }"
   ]
  },
  {
   "cell_type": "markdown",
   "id": "e9de9554",
   "metadata": {
    "id": "e9de9554"
   },
   "source": [
    "1. Extract prediction labels and construct waveforms\n",
    "\n",
    "`extract_waveform()`\n",
    "\n",
    "**Inputs**\n",
    "- `path`: A string that represents a path to the wav file\n",
    "\n",
    "**Outputs**\n",
    "- `waveform`: an array containing the waveform; use librosa.load, remember to set the sample rate correctly\n",
    "\n",
    "`extract_label()`\n",
    "\n",
    "**Inputs**\n",
    "- `path'\n",
    "\n",
    "**Outputs**\n",
    "- `label`: A integer that represents the label of the path (hint: look at the filename and make use of `INSTRUMENT_MAP`)"
   ]
  },
  {
   "cell_type": "code",
   "execution_count": 12,
   "id": "8f9838f9",
   "metadata": {
    "id": "8f9838f9"
   },
   "outputs": [],
   "source": [
    "def extract_waveform(path):\n",
    "    # Your code here\n",
    "    waveform, _ = librosa.load(path, sr=SAMPLE_RATE)\n",
    "    return waveform"
   ]
  },
  {
   "cell_type": "code",
   "execution_count": 13,
   "id": "c7f5927c",
   "metadata": {
    "id": "c7f5927c"
   },
   "outputs": [],
   "source": [
    "def extract_label(path):\n",
    "    # Your code here\n",
    "    filename = os.path.basename(path)\n",
    "    name_part = filename.split('_')[0]\n",
    "    label = INSTRUMENT_MAP[name_part]\n",
    "    return label"
   ]
  },
  {
   "cell_type": "code",
   "execution_count": 14,
   "id": "19795b2d",
   "metadata": {
    "id": "19795b2d"
   },
   "outputs": [],
   "source": [
    "waveforms = [extract_waveform(p) for p in audio_paths]\n",
    "labels = [extract_label(p) for p in audio_paths]"
   ]
  },
  {
   "cell_type": "markdown",
   "id": "dab24201",
   "metadata": {
    "id": "dab24201"
   },
   "source": [
    "A few simple classifiers are provided. You don't need to modify these (though the autograder will *probably* work if you'd like to experiment with architectural changes)"
   ]
  },
  {
   "cell_type": "code",
   "execution_count": 15,
   "id": "8e261212",
   "metadata": {
    "id": "8e261212"
   },
   "outputs": [],
   "source": [
    "class MLPClassifier(nn.Module):\n",
    "    def __init__(self):\n",
    "        super(MLPClassifier, self).__init__()\n",
    "        self.fc1 = nn.Linear(2 * N_MFCC, 64)\n",
    "        self.fc2 = nn.Linear(64, 32)\n",
    "        self.fc3 = nn.Linear(32, NUM_CLASSES)\n",
    "        self.relu = nn.ReLU()\n",
    "\n",
    "    def forward(self, x):\n",
    "        x = self.relu(self.fc1(x))\n",
    "        x = self.relu(self.fc2(x))\n",
    "        x = self.fc3(x)\n",
    "        return x"
   ]
  },
  {
   "cell_type": "code",
   "execution_count": 16,
   "id": "9b6fb390",
   "metadata": {
    "id": "9b6fb390"
   },
   "outputs": [],
   "source": [
    "class SimpleCNN(nn.Module):\n",
    "    def __init__(self):\n",
    "        super(SimpleCNN, self).__init__()\n",
    "        self.conv1 = nn.Conv2d(1, 16, kernel_size=3, padding=1)\n",
    "        self.bn1 = nn.BatchNorm2d(16)\n",
    "        self.pool1 = nn.MaxPool2d(kernel_size=2, stride=2)\n",
    "\n",
    "        self.conv2 = nn.Conv2d(16, 32, kernel_size=3, padding=1)\n",
    "        self.bn2 = nn.BatchNorm2d(32)\n",
    "        self.pool2 = nn.MaxPool2d(kernel_size=2, stride=2)\n",
    "\n",
    "        self.conv3 = nn.Conv2d(32, 64, kernel_size=3, padding=1)\n",
    "        self.bn3 = nn.BatchNorm2d(64)\n",
    "        self.pool3 = nn.AdaptiveAvgPool2d((1, 1))\n",
    "\n",
    "        self.fc = nn.Linear(64, NUM_CLASSES)\n",
    "\n",
    "    def forward(self, x):\n",
    "        x = x.unsqueeze(1)\n",
    "        x = self.pool1(nnF.relu(self.bn1(self.conv1(x))))\n",
    "        x = self.pool2(nnF.relu(self.bn2(self.conv2(x))))\n",
    "        x = self.pool3(nnF.relu(self.bn3(self.conv3(x))))\n",
    "        x = x.view(x.size(0), -1)\n",
    "        x = self.fc(x)\n",
    "        return x"
   ]
  },
  {
   "cell_type": "markdown",
   "id": "0f23cde9",
   "metadata": {
    "id": "0f23cde9"
   },
   "source": [
    "2. Extract mfcc features\n",
    "\n",
    "`extract_mfcc()`\n",
    "\n",
    "**Inputs**\n",
    "- `waveform`: an array containing the waveform\n",
    "\n",
    "**Outputs**\n",
    "- `feature`: a PyTorch float tensor that represents a concatenation of 13 mean values and 13 standard deviation values\n",
    "\n",
    "**Process**\n",
    "- Extract feature using `librosa.feature.mfcc`; remember to set the sample rate and n_mfcc\n",
    "- Compute 13 mean and 13 standard deviation values\n",
    "- Concatenate them together"
   ]
  },
  {
   "cell_type": "code",
   "execution_count": 17,
   "id": "0e72a796",
   "metadata": {
    "id": "0e72a796"
   },
   "outputs": [],
   "source": [
    "def extract_mfcc(w):\n",
    "    # Your code here:\n",
    "    # load using librosa.feature.mfcc\n",
    "    librosa_mfcc = librosa.feature.mfcc(y=w, sr=SAMPLE_RATE, n_mfcc=N_MFCC)\n",
    "    # extract mean and std\n",
    "    mfcc_mean = np.mean(librosa_mfcc, axis=1)\n",
    "    mfcc_std = np.std(librosa_mfcc, axis=1)\n",
    "    # concatenate\n",
    "    features = np.concatenate((mfcc_mean, mfcc_std))\n",
    "    # return as torch.FloatTensor\n",
    "    return torch.FloatTensor(features)"
   ]
  },
  {
   "cell_type": "markdown",
   "id": "a83dbca5",
   "metadata": {
    "id": "a83dbca5"
   },
   "source": [
    "## Note:\n",
    "\n",
    "The autograder will test that your MFCC features are correct, and it will *also* use them within an ML pipeline. The test_suite can be used to run the full pipeline after you've implemented these functions. If you've implemented your features correctly this should \"just work\" and you'll be able to upload the trained; this is mostly here just so that you can see how the full pipeline works (which will be useful when you develop your own pipelines for Assignment 1)"
   ]
  },
  {
   "cell_type": "markdown",
   "id": "52f4577a",
   "metadata": {
    "id": "52f4577a"
   },
   "source": [
    "3. Extract spectrograms\n",
    "\n",
    "`extract_spec()`\n",
    "\n",
    "**Inputs**\n",
    "- `waveform`: an array containing the waveform\n",
    "\n",
    "**Outputs**\n",
    "- `feature`: a PyTorch float tensor that contains a spectrogram\n",
    "\n",
    "**Process**\n",
    "- apply STFT to the given waveform\n",
    "- square the absolute values of the complex numbers from the STFT"
   ]
  },
  {
   "cell_type": "code",
   "execution_count": 18,
   "id": "a3325a7e",
   "metadata": {
    "id": "a3325a7e"
   },
   "outputs": [],
   "source": [
    "def extract_spec(waveform):\n",
    "    # Your code here\n",
    "    # load\n",
    "    waveform_tensor = torch.tensor(waveform, dtype=torch.float32)\n",
    "    stft = torch.stft(\n",
    "        waveform_tensor,\n",
    "        n_fft=SAMPLE_RATE,\n",
    "        hop_length=float(SAMPLE_RATE/4),\n",
    "        return_complex=True\n",
    "    )\n",
    "\n",
    "    # take squared absolute values\n",
    "    spec = torch.abs(stft) ** 2\n",
    "    return spec"
   ]
  },
  {
   "cell_type": "markdown",
   "id": "5e4d252d",
   "metadata": {
    "id": "5e4d252d"
   },
   "source": [
    "4. Extract mel-spectrograms\n",
    "\n",
    "`extract_mel()`\n",
    "\n",
    "**Inputs**\n",
    "- `waveform`: an array containing the waveform\n",
    "- `n_mels`: number of mel bands\n",
    "- `hop_length`: hop length\n",
    "\n",
    "**Outputs**\n",
    "- `feature`: A PyTorch Float Tensor that contains a mel-spectrogram\n",
    "\n",
    "**Process**\n",
    "- generate melspectrograms with `librosa.feature.melspectrogram`; make sure to se the sample rate, n_mels, and hop_length\n",
    "- convert them to decibel units with `librosa.power_to_db`\n",
    "- normalize values to be in the range 0 to 1"
   ]
  },
  {
   "cell_type": "code",
   "execution_count": 19,
   "id": "e994623d",
   "metadata": {
    "id": "e994623d"
   },
   "outputs": [],
   "source": [
    "def extract_mel(w, n_mels = 128, hop_length = 512):\n",
    "    # Your code here\n",
    "    # load\n",
    "    waveform_tensor = torch.tensor(w, dtype=torch.float32)\n",
    "    # convert to db\n",
    "    mel_spec = librosa.feature.melspectrogram(\n",
    "        y=waveform_tensor.numpy(),\n",
    "        sr=SAMPLE_RATE,\n",
    "        n_mels=n_mels,\n",
    "        hop_length=hop_length\n",
    "    )\n",
    "    mel_spec_db = librosa.power_to_db(mel_spec, ref=np.max)\n",
    "    # normalize\n",
    "    mel_spec_db = (mel_spec_db - np.mean(mel_spec_db)) / np.std(mel_spec_db)\n",
    "    return torch.FloatTensor(mel_spec_db)"
   ]
  },
  {
   "cell_type": "markdown",
   "id": "12708c02",
   "metadata": {
    "id": "12708c02"
   },
   "source": [
    "5. Extract constant-Q transform\n",
    "\n",
    "`extract_q()`\n",
    "\n",
    "**Inputs**\n",
    "- `waveform`: an array containing the waveform\n",
    "\n",
    "**Outputs**\n",
    "- `feature`: A PyTorch Float Tensor that contains a constant-Q transform\n",
    "\n",
    "**Process**\n",
    "- generate constant-Q transform with `librosa.cqt`; this one will need a higher sample rate (use 16000) to work"
   ]
  },
  {
   "cell_type": "code",
   "execution_count": 20,
   "id": "4cd405c1",
   "metadata": {
    "id": "4cd405c1"
   },
   "outputs": [],
   "source": [
    "import torch\n",
    "import librosa\n",
    "import numpy as np\n",
    "\n",
    "def extract_q(waveform, sample_rate=16000):\n",
    "    # Generate constant-Q transform\n",
    "    cqt = librosa.cqt(\n",
    "        y=waveform,\n",
    "        sr=sample_rate\n",
    "    )\n",
    "    \n",
    "    # Take the absolute value (since CQT returns complex numbers)\n",
    "    cqt_abs = np.abs(cqt)\n",
    "    \n",
    "    # Normalize to 0-1 range\n",
    "    cqt_norm = (cqt_abs - cqt_abs.min()) / (cqt_abs.max() - cqt_abs.min())\n",
    "    \n",
    "    return torch.FloatTensor(cqt_norm)\n"
   ]
  },
  {
   "cell_type": "markdown",
   "id": "4f0f6ac5",
   "metadata": {
    "id": "4f0f6ac5"
   },
   "source": [
    "6. Pitch shift\n",
    "\n",
    "`pitch_shift()`\n",
    "\n",
    "**Inputs**\n",
    "- `waveform`: an array containing the waveform\n",
    "- `n`: number of semitones to shift by (integer, can be positive or negative)\n",
    "\n",
    "**Outputs**\n",
    "- `waveform`: a pitch-shifted waveform\n",
    "\n",
    "**Process**\n",
    "- use `librosa.effects.pitch_shift`"
   ]
  },
  {
   "cell_type": "code",
   "execution_count": 21,
   "id": "b71abf8f",
   "metadata": {
    "id": "b71abf8f"
   },
   "outputs": [],
   "source": [
    "def pitch_shift(w, n):\n",
    "    # Your code here\n",
    "    shifted_waveform = librosa.effects.pitch_shift(\n",
    "        y=w,\n",
    "        sr=SAMPLE_RATE,\n",
    "        n_steps=n\n",
    "    )\n",
    "    return shifted_waveform"
   ]
  },
  {
   "cell_type": "code",
   "execution_count": 22,
   "id": "f16e3f0a",
   "metadata": {
    "id": "f16e3f0a"
   },
   "outputs": [],
   "source": [
    "# Code below augments the datasets\n",
    "\n",
    "augmented_waveforms = []\n",
    "augmented_labels = []\n",
    "\n",
    "for w,y in zip(waveforms,labels):\n",
    "    augmented_waveforms.append(w)\n",
    "    augmented_waveforms.append(pitch_shift(w,1))\n",
    "    augmented_waveforms.append(pitch_shift(w,-1))\n",
    "    augmented_labels += [y,y,y]"
   ]
  },
  {
   "cell_type": "markdown",
   "id": "bc0c48ae",
   "metadata": {
    "id": "bc0c48ae"
   },
   "source": [
    "7. Extend the model to work for four classes.\n",
    "\n",
    "By making data augmentations, or modifying the model architecture, build a model with test accuracy > 0.93"
   ]
  },
  {
   "cell_type": "code",
   "execution_count": 23,
   "id": "9f9b2fc1",
   "metadata": {
    "id": "9f9b2fc1"
   },
   "outputs": [],
   "source": [
    "INSTRUMENT_MAP_7 = {'guitar_acoustic': 0, 'guitar_electronic': 1, 'vocal_acoustic': 2, 'vocal_synthetic': 3}"
   ]
  },
  {
   "cell_type": "code",
   "execution_count": 24,
   "id": "5be77a1f",
   "metadata": {
    "id": "5be77a1f"
   },
   "outputs": [],
   "source": [
    "NUM_CLASSES_7 = 4"
   ]
  },
  {
   "cell_type": "code",
   "execution_count": 25,
   "id": "b3b2e8a9",
   "metadata": {
    "id": "b3b2e8a9"
   },
   "outputs": [],
   "source": [
    "def extract_label_7(path):\n",
    "    # Your code here\n",
    "    filename = os.path.basename(path)\n",
    "    name_part = filename.split('_')[0]\n",
    "    name_part2 = filename.split('_')[1]\n",
    "    if name_part == 'guitar' and name_part2 == 'acoustic':\n",
    "        label = INSTRUMENT_MAP_7['guitar_acoustic']\n",
    "    elif name_part == 'guitar' and name_part2 == 'electronic':\n",
    "        label = INSTRUMENT_MAP_7['guitar_electronic']\n",
    "    elif name_part == 'vocal' and name_part2 == 'acoustic':\n",
    "        label = INSTRUMENT_MAP_7['vocal_acoustic']\n",
    "    elif name_part == 'vocal' and name_part2 == 'synthetic':\n",
    "        label = INSTRUMENT_MAP_7['vocal_synthetic']\n",
    "    else:\n",
    "        raise ValueError(\"Unknown instrument type\")\n",
    "    # pass"
   ]
  },
  {
   "cell_type": "code",
   "execution_count": 26,
   "id": "42d6f20d",
   "metadata": {
    "id": "42d6f20d"
   },
   "outputs": [],
   "source": [
    "# Select which feature function to use.\n",
    "# Can be one of the existing ones (e.g. extract_mfcc), or you can write a new one.\n",
    "feature_func_7 = None"
   ]
  },
  {
   "cell_type": "code",
   "execution_count": 27,
   "id": "6a05958c",
   "metadata": {
    "id": "6a05958c"
   },
   "outputs": [],
   "source": [
    "labels_7 = [extract_label_7(p) for p in audio_paths]"
   ]
  },
  {
   "cell_type": "code",
   "execution_count": 33,
   "id": "f2d50f45",
   "metadata": {},
   "outputs": [],
   "source": [
    "\n",
    "NUM_CLASSES = 4  # 这里修改成4个类别\n",
    "class MLPClassifier(nn.Module):\n",
    "    def __init__(self):\n",
    "        super(MLPClassifier, self).__init__()\n",
    "        self.fc1 = nn.Linear(2 * N_MFCC, 64)\n",
    "        self.fc2 = nn.Linear(64, 32)\n",
    "        self.fc3 = nn.Linear(32, NUM_CLASSES)  # 注意这里，输出类别改成4\n",
    "        self.relu = nn.ReLU()\n",
    "\n",
    "    def forward(self, x):\n",
    "        x = self.relu(self.fc1(x))\n",
    "        x = self.relu(self.fc2(x))\n",
    "        x = self.fc3(x)\n",
    "        return x\n",
    "\n"
   ]
  },
  {
   "cell_type": "code",
   "execution_count": 34,
   "id": "d710b28f",
   "metadata": {
    "id": "d710b28f"
   },
   "outputs": [],
   "source": [
    "# Select which model to use.\n",
    "# Can use an existing model (e.g. MLPClassifier) or modify it.\n",
    "# Note that you'll need to copy and (slightly) modify the existing class to handle 4 labels.\n",
    "model_7 = MLPClassifier()"
   ]
  },
  {
   "cell_type": "code",
   "execution_count": null,
   "id": "1b8bcd59",
   "metadata": {
    "id": "1b8bcd59"
   },
   "outputs": [],
   "source": []
  }
 ],
 "metadata": {
  "colab": {
   "provenance": []
  },
  "kernelspec": {
   "display_name": "torch",
   "language": "python",
   "name": "python3"
  },
  "language_info": {
   "codemirror_mode": {
    "name": "ipython",
    "version": 3
   },
   "file_extension": ".py",
   "mimetype": "text/x-python",
   "name": "python",
   "nbconvert_exporter": "python",
   "pygments_lexer": "ipython3",
   "version": "3.11.10"
  }
 },
 "nbformat": 4,
 "nbformat_minor": 5
}
